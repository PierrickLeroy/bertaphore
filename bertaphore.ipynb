{
 "cells": [
  {
   "cell_type": "code",
   "execution_count": 2,
   "metadata": {},
   "outputs": [
    {
     "name": "stderr",
     "output_type": "stream",
     "text": [
      "/home/pierrick/miniconda3/envs/metaphore/lib/python3.10/site-packages/tqdm/auto.py:22: TqdmWarning: IProgress not found. Please update jupyter and ipywidgets. See https://ipywidgets.readthedocs.io/en/stable/user_install.html\n",
      "  from .autonotebook import tqdm as notebook_tqdm\n"
     ]
    }
   ],
   "source": [
    "import torch\n",
    "from transformers import DistilBertForMaskedLM\n",
    "from transformers import DistilBertTokenizer\n",
    "import matplotlib.pyplot as plt\n",
    "import numpy as np"
   ]
  },
  {
   "cell_type": "code",
   "execution_count": 3,
   "metadata": {},
   "outputs": [],
   "source": [
    "model = DistilBertForMaskedLM.from_pretrained(\"distilbert-base-uncased\")\n",
    "tokenizer = DistilBertTokenizer.from_pretrained(\"distilbert-base-uncased\")"
   ]
  },
  {
   "cell_type": "code",
   "execution_count": 4,
   "metadata": {},
   "outputs": [],
   "source": [
    "def create_maskedSentences(text):\n",
    "    masked_sentences = []\n",
    "    inputs = tokenizer(text, return_tensors=\"pt\")\n",
    "    n_tokens = inputs[\"input_ids\"].shape[1]\n",
    "    for i in range(1, n_tokens-1):\n",
    "        s = tokenizer(text, return_tensors=\"pt\")\n",
    "        s[\"labels\"] = s[\"input_ids\"].detach().clone()\n",
    "        t = torch.zeros(n_tokens, dtype=torch.bool)\n",
    "        t[i] = True\n",
    "        s[\"input_ids\"][0,i] = 103  # MASK token\n",
    "        masked_sentences.append({\"inputs\": s, \"mask\": t, \"id_masked\": i})\n",
    "    return masked_sentences\n",
    "\n",
    "def print_inputs(inputs):\n",
    "    return \" \".join(list(map(tokenizer.convert_ids_to_tokens, inputs[\"input_ids\"]))[0])\n",
    "\n",
    "def parse_sentences(sentences):\n",
    "    \"\"\"_summary_\n",
    "\n",
    "    Args:\n",
    "        sentences (list): list of dict containing keys : \n",
    "            - 'inputs' : transformers.tokenization_utils_base.BatchEncoding with 'input_ids', 'attention_mask' and 'labels'. One of the tokens in input_ids is a MASK token (103)\n",
    "            - 'id_masked' : index of the masked word\n",
    "    \"\"\"\n",
    "    for sentence in sentences:\n",
    "        inputs = sentence[\"inputs\"]\n",
    "        loss, logits = model(**inputs).values()\n",
    "        score_surprise = ((logits[:, sentence[\"id_masked\"], :].argsort(descending=True) == sentence[\"inputs\"][\"labels\"][0,sentence[\"id_masked\"]]).flatten()).nonzero()[0,0].item()\n",
    "        sentence[\"score_surprise\"] = score_surprise\n",
    "        \n",
    "def plot_barSurprise(sentences):\n",
    "    \"\"\"_summary_\n",
    "\n",
    "    Args:\n",
    "        sentences (list): list of dict containing keys : \n",
    "            - 'inputs' : transformers.tokenization_utils_base.BatchEncoding with 'input_ids', 'attention_mask' and 'labels'. One of the tokens in input_ids is a MASK token (103)\n",
    "            - 'id_masked' : index of the masked word\n",
    "            - 'score_surprise' (float): high value = big surprise\n",
    "    \"\"\"\n",
    "    scores = [x[\"score_surprise\"] for x in sentences]\n",
    "    words = list(map(tokenizer.convert_ids_to_tokens, sentences[0][\"inputs\"][\"labels\"]))[0][1:-1]\n",
    "    plt.bar(words, scores)\n",
    "    plt.gca().margins(x=0)\n",
    "    plt.gcf().canvas.draw()\n",
    "    tl = plt.gca().get_xticklabels()\n",
    "    maxsize = max(t.get_window_extent().width for t in tl)\n",
    "    m = 1 # inch margin\n",
    "    s = maxsize/plt.gcf().dpi*len(words)+2*m\n",
    "    margin = m/plt.gcf().get_size_inches()[0]\n",
    "\n",
    "    plt.gcf().subplots_adjust(left=margin, right=1.-margin)\n",
    "    plt.gcf().set_size_inches(s, plt.gcf().get_size_inches()[1])\n",
    "    \n",
    "def highlight_text(sentences, lamb = 0.01):\n",
    "    \"\"\"_summary_\n",
    "\n",
    "    Args:\n",
    "        sentences (_type_): _description_\n",
    "        lamb (float, optional): _description_. Defaults to 0.01.\n",
    "    \"\"\"\n",
    "    scores = [x[\"score_surprise\"] for x in sentences]\n",
    "    words = list(map(tokenizer.convert_ids_to_tokens, sentences[0][\"inputs\"][\"labels\"]))[0][1:-1]\n",
    "    fig, ax = plt.subplots()\n",
    "    fig.set_size_inches((10,6))\n",
    "    plt.axis('off')\n",
    "    offset_y = 0.1\n",
    "    offset_x = 0.01\n",
    "    for i in range(len(words)):\n",
    "        t = plt.text(offset_x + (i%10)/10,1-offset_y-(i//10)/10,words[i])\n",
    "        t.set_bbox(dict(facecolor='red', alpha=1-np.exp(-scores[i]*lamb)))\n",
    "        plt.text(offset_x + 0.01 + (i%10)/10,1-offset_y-0.045-(i//10)/10,scores[i], fontdict={\"fontsize\":7})"
   ]
  },
  {
   "cell_type": "code",
   "execution_count": 61,
   "metadata": {},
   "outputs": [
    {
     "data": {
      "text/plain": [
       "[{'inputs': {'input_ids': tensor([[ 101,  103, 2017, 2031, 2445, 1037, 9121, 2000, 2115, 3899, 1010, 2202,\n",
       "           2009, 4237, 1998, 4550, 2009, 1012,  102]]), 'attention_mask': tensor([[1, 1, 1, 1, 1, 1, 1, 1, 1, 1, 1, 1, 1, 1, 1, 1, 1, 1, 1]]), 'labels': tensor([[ 101, 2320, 2017, 2031, 2445, 1037, 9121, 2000, 2115, 3899, 1010, 2202,\n",
       "           2009, 4237, 1998, 4550, 2009, 1012,  102]])},\n",
       "  'mask': tensor([False,  True, False, False, False, False, False, False, False, False,\n",
       "          False, False, False, False, False, False, False, False, False]),\n",
       "  'id_masked': 1},\n",
       " {'inputs': {'input_ids': tensor([[ 101, 2320,  103, 2031, 2445, 1037, 9121, 2000, 2115, 3899, 1010, 2202,\n",
       "           2009, 4237, 1998, 4550, 2009, 1012,  102]]), 'attention_mask': tensor([[1, 1, 1, 1, 1, 1, 1, 1, 1, 1, 1, 1, 1, 1, 1, 1, 1, 1, 1]]), 'labels': tensor([[ 101, 2320, 2017, 2031, 2445, 1037, 9121, 2000, 2115, 3899, 1010, 2202,\n",
       "           2009, 4237, 1998, 4550, 2009, 1012,  102]])},\n",
       "  'mask': tensor([False, False,  True, False, False, False, False, False, False, False,\n",
       "          False, False, False, False, False, False, False, False, False]),\n",
       "  'id_masked': 2}]"
      ]
     },
     "execution_count": 61,
     "metadata": {},
     "output_type": "execute_result"
    }
   ],
   "source": [
    "# text = \"Peter is brave and never gives up. He has the heart of a lion.\"\n",
    "# text = \"Since I started this new job I am always looking forward to meet new people. I am open to all opportunities. It is like I am always searching for my next prey\"\n",
    "text = \"\"\n",
    "masked_sentences = create_maskedSentences(text)\n",
    "masked_sentences[:2]"
   ]
  },
  {
   "cell_type": "code",
   "execution_count": 62,
   "metadata": {},
   "outputs": [
    {
     "data": {
      "text/plain": [
       "[{'inputs': {'input_ids': tensor([[ 101,  103, 2017, 2031, 2445, 1037, 9121, 2000, 2115, 3899, 1010, 2202,\n",
       "           2009, 4237, 1998, 4550, 2009, 1012,  102]]), 'attention_mask': tensor([[1, 1, 1, 1, 1, 1, 1, 1, 1, 1, 1, 1, 1, 1, 1, 1, 1, 1, 1]]), 'labels': tensor([[ 101, 2320, 2017, 2031, 2445, 1037, 9121, 2000, 2115, 3899, 1010, 2202,\n",
       "           2009, 4237, 1998, 4550, 2009, 1012,  102]])},\n",
       "  'mask': tensor([False,  True, False, False, False, False, False, False, False, False,\n",
       "          False, False, False, False, False, False, False, False, False]),\n",
       "  'id_masked': 1,\n",
       "  'score_surprise': 2},\n",
       " {'inputs': {'input_ids': tensor([[ 101, 2320,  103, 2031, 2445, 1037, 9121, 2000, 2115, 3899, 1010, 2202,\n",
       "           2009, 4237, 1998, 4550, 2009, 1012,  102]]), 'attention_mask': tensor([[1, 1, 1, 1, 1, 1, 1, 1, 1, 1, 1, 1, 1, 1, 1, 1, 1, 1, 1]]), 'labels': tensor([[ 101, 2320, 2017, 2031, 2445, 1037, 9121, 2000, 2115, 3899, 1010, 2202,\n",
       "           2009, 4237, 1998, 4550, 2009, 1012,  102]])},\n",
       "  'mask': tensor([False, False,  True, False, False, False, False, False, False, False,\n",
       "          False, False, False, False, False, False, False, False, False]),\n",
       "  'id_masked': 2,\n",
       "  'score_surprise': 0}]"
      ]
     },
     "execution_count": 62,
     "metadata": {},
     "output_type": "execute_result"
    }
   ],
   "source": [
    "parse_sentences(masked_sentences)\n",
    "masked_sentences[:2]"
   ]
  },
  {
   "cell_type": "code",
   "execution_count": 63,
   "metadata": {},
   "outputs": [
    {
     "data": {
      "image/png": "[encoded data removed]",
      "text/plain": [
       "<Figure size 850.25x480 with 1 Axes>"
      ]
     },
     "metadata": {},
     "output_type": "display_data"
    }
   ],
   "source": [
    "plot_barSurprise(masked_sentences)"
   ]
  },
  {
   "cell_type": "code",
   "execution_count": 64,
   "metadata": {},
   "outputs": [
    {
     "data": {
      "image/png": "[encoded data removed]",
      "text/plain": [
       "<Figure size 1000x600 with 1 Axes>"
      ]
     },
     "metadata": {},
     "output_type": "display_data"
    }
   ],
   "source": [
    "highlight_text(masked_sentences, lamb=0.001)"
   ]
  },
  {
   "attachments": {},
   "cell_type": "markdown",
   "metadata": {},
   "source": [
    "# //"
   ]
  },
  {
   "attachments": {},
   "cell_type": "markdown",
   "metadata": {},
   "source": [
    "# <>"
   ]
  }
 ],
 "metadata": {
  "kernelspec": {
   "display_name": "metaphore",
   "language": "python",
   "name": "python3"
  },
  "language_info": {
   "codemirror_mode": {
    "name": "ipython",
    "version": 3
   },
   "file_extension": ".py",
   "mimetype": "text/x-python",
   "name": "python",
   "nbconvert_exporter": "python",
   "pygments_lexer": "ipython3",
   "version": "3.10.9"
  },
  "orig_nbformat": 4,
  "vscode": {
   "interpreter": {
    "hash": "19bbcb9f0226cdb08fd47cdfa63215ed015b45aacdb5f952bd862e7bf5c0c83d"
   }
  }
 },
 "nbformat": 4,
 "nbformat_minor": 2
}
