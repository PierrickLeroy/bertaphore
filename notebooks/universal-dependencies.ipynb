{
 "cells": [
  {
   "cell_type": "markdown",
   "metadata": {},
   "source": [
    "# Setup"
   ]
  },
  {
   "cell_type": "code",
   "execution_count": 1,
   "metadata": {},
   "outputs": [],
   "source": [
    "%load_ext autoreload\n",
    "%autoreload 2"
   ]
  },
  {
   "cell_type": "code",
   "execution_count": 328,
   "metadata": {},
   "outputs": [],
   "source": [
    "import os, sys\n",
    "root_folder_name = \"bertaphore\"\n",
    "p = os.getcwd()\n",
    "while os.path.basename(p) != root_folder_name:\n",
    "    p = os.path.dirname(p)\n",
    "sys.path.insert(0, p)\n",
    "\n",
    "import torch\n",
    "from conllu import parse\n",
    "import pandas as pd\n",
    "import numpy as np\n",
    "import plotly.express as px\n",
    "from modules import metric\n",
    "from transformers import AutoTokenizer, AutoModel, utils\n",
    "utils.logging.set_verbosity_error()  # Suppress standard warnings\n",
    "from bertviz import model_view, head_view\n",
    "from scipy.linalg import toeplitz\n",
    "import seaborn as sns\n",
    "import matplotlib.pyplot as plt\n",
    "import scipy\n",
    "\n",
    "\n",
    "model_name = \"microsoft/xtremedistil-l12-h384-uncased\"  # Find popular HuggingFace models here: https://huggingface.co/models\n",
    "model = AutoModel.from_pretrained(model_name, output_attentions=True)  # Configure model to return attention values\n",
    "tokenizer = AutoTokenizer.from_pretrained(model_name)"
   ]
  },
  {
   "cell_type": "markdown",
   "metadata": {},
   "source": [
    "# Experiment"
   ]
  },
  {
   "cell_type": "code",
   "execution_count": 3,
   "metadata": {},
   "outputs": [
    {
     "data": {
      "text/plain": [
       "2.373994827270508"
      ]
     },
     "execution_count": 3,
     "metadata": {},
     "output_type": "execute_result"
    }
   ],
   "source": [
    "burdenizer = metric.AttentionalBurden(model, tokenizer\n",
    "                                      , prune_cls_sep=True\n",
    "                                      , normalize_attention=True\n",
    "                                      )\n",
    "burdenizer.compute_burden(\"Alice is eating pizza. I like Bob.\")"
   ]
  },
  {
   "cell_type": "code",
   "execution_count": 701,
   "metadata": {},
   "outputs": [
    {
     "name": "stdout",
     "output_type": "stream",
     "text": [
      "Number of texts: 3176\n"
     ]
    }
   ],
   "source": [
    "datasets_ud_english = [\"GUM\", \"EWT\", \"LinES\", \"ParTUT\", \"Atis\"]\n",
    "\n",
    "data = open(\"/home/pierrick/datasets/Universal Dependencies 2.14/ud-treebanks-v2.14/UD_English-EWT/en_ewt-ud-train.conllu\", \"r\").read()\n",
    "data = open(\"/home/pierrick/datasets/Universal Dependencies 2.14/ud-treebanks-v2.14/UD_English-LinES/en_lines-ud-train.conllu\", \"r\").read()\n",
    "data = parse(data)\n",
    "print(f'Number of texts: {len(data)}')\n",
    "# data[4].metadata[\"text\"]"
   ]
  },
  {
   "cell_type": "code",
   "execution_count": 702,
   "metadata": {},
   "outputs": [],
   "source": [
    "D_RELATIONS = {\"punct\":False\n",
    "               ,\"root\":False\n",
    "               ,\"nsubj\":True\n",
    "               ,\"case\":True\n",
    "               ,\"det\":True\n",
    "               ,\"advmod\":True\n",
    "               ,\"nmod\":True\n",
    "               ,\"obl\":True\n",
    "               ,\"obj\":True\n",
    "               ,\"amod\":True\n",
    "               ,\"compound\":False\n",
    "               ,\"aux\":True\n",
    "               ,\"conj\":False\n",
    "               ,\"mark\":False\n",
    "               ,\"cc\":False\n",
    "               ,\"cop\":True\n",
    "               ,'advcl': False,\n",
    "               'acl': True,\n",
    "               'xcomp': True,\n",
    "               'nummod': True,\n",
    "               'ccomp': False,\n",
    "               'flat': True,\n",
    "               'parataxis': False,\n",
    "               'appos': False,\n",
    "               'discourse': False,\n",
    "               'iobj': False,\n",
    "               'expl': False,\n",
    "               'fixed': False,\n",
    "               'list': False,\n",
    "               'csubj': False,\n",
    "               'vocative': False,\n",
    "               'goeswith': False,\n",
    "               'reparandum': False,\n",
    "               'orphan': False,\n",
    "               'dislocated': False,\n",
    "               'dep': False,\n",
    "               '_': False\n",
    "              }"
   ]
  },
  {
   "cell_type": "code",
   "execution_count": 703,
   "metadata": {},
   "outputs": [],
   "source": [
    "l_head, l_deprel = [], []\n",
    "for sentence_id, sentence in enumerate(data):\n",
    "    for token_id, token in enumerate(sentence):\n",
    "        l_head.append((sentence_id, token_id+1, token[\"id\"], token[\"form\"], token[\"deprel\"], token[\"head\"]))\n",
    "        deps = token[\"deps\"]\n",
    "        if isinstance(deps, list):\n",
    "            for dep in deps:\n",
    "                l_deprel.append((sentence_id, token_id+1, token[\"id\"], token[\"form\"],)+dep)"
   ]
  },
  {
   "cell_type": "code",
   "execution_count": 704,
   "metadata": {},
   "outputs": [
    {
     "data": {
      "text/html": [
       "<div>\n",
       "<style scoped>\n",
       "    .dataframe tbody tr th:only-of-type {\n",
       "        vertical-align: middle;\n",
       "    }\n",
       "\n",
       "    .dataframe tbody tr th {\n",
       "        vertical-align: top;\n",
       "    }\n",
       "\n",
       "    .dataframe thead th {\n",
       "        text-align: right;\n",
       "    }\n",
       "</style>\n",
       "<table border=\"1\" class=\"dataframe\">\n",
       "  <thead>\n",
       "    <tr style=\"text-align: right;\">\n",
       "      <th></th>\n",
       "      <th>sentence_id</th>\n",
       "      <th>token_id</th>\n",
       "      <th>id</th>\n",
       "      <th>form</th>\n",
       "      <th>deprel</th>\n",
       "      <th>head</th>\n",
       "      <th>token_head</th>\n",
       "      <th>length_relation</th>\n",
       "      <th>abs_length_relation</th>\n",
       "      <th>deprel_universal</th>\n",
       "    </tr>\n",
       "  </thead>\n",
       "  <tbody>\n",
       "  </tbody>\n",
       "</table>\n",
       "</div>"
      ],
      "text/plain": [
       "Empty DataFrame\n",
       "Columns: [sentence_id, token_id, id, form, deprel, head, token_head, length_relation, abs_length_relation, deprel_universal]\n",
       "Index: []"
      ]
     },
     "execution_count": 704,
     "metadata": {},
     "output_type": "execute_result"
    }
   ],
   "source": [
    "df_deprel = pd.DataFrame(l_deprel, columns=[\"sentence_id\", \"token_id\", \"id\", \"form\", \"deprel\", \"head\"])\n",
    "df_deprel = pd.merge(df_deprel, df_deprel[[\"sentence_id\", \"token_id\", \"id\"]].rename(columns={\"token_id\":\"token_head\"}).drop_duplicates(),\n",
    "    how=\"left\", left_on=[\"sentence_id\", \"head\"], right_on=[\"sentence_id\", \"id\"], suffixes=(\"\", \"_head\")).drop(columns=[\"id_head\"])\n",
    "df_deprel[\"token_head\"] = df_deprel.apply(lambda u: u[\"token_head\"] if not(pd.isna(u[\"token_head\"])) else u[\"head\"], axis=1).astype(int)\n",
    "df_deprel[\"length_relation\"] = df_deprel[\"token_head\"] - df_deprel[\"token_id\"]\n",
    "df_deprel[\"abs_length_relation\"] = df_deprel[\"length_relation\"].abs()\n",
    "df_deprel[\"deprel_universal\"] = df_deprel[\"deprel\"].apply(lambda u: u.split(\":\")[0])\n",
    "df_deprel.loc[df_deprel[\"sentence_id\"] == 0]"
   ]
  },
  {
   "cell_type": "code",
   "execution_count": 710,
   "metadata": {},
   "outputs": [
    {
     "data": {
      "text/html": [
       "<div>\n",
       "<style scoped>\n",
       "    .dataframe tbody tr th:only-of-type {\n",
       "        vertical-align: middle;\n",
       "    }\n",
       "\n",
       "    .dataframe tbody tr th {\n",
       "        vertical-align: top;\n",
       "    }\n",
       "\n",
       "    .dataframe thead th {\n",
       "        text-align: right;\n",
       "    }\n",
       "</style>\n",
       "<table border=\"1\" class=\"dataframe\">\n",
       "  <thead>\n",
       "    <tr style=\"text-align: right;\">\n",
       "      <th></th>\n",
       "      <th>sentence_id</th>\n",
       "      <th>token_id</th>\n",
       "      <th>id</th>\n",
       "      <th>form</th>\n",
       "      <th>deprel</th>\n",
       "      <th>head</th>\n",
       "      <th>token_head</th>\n",
       "      <th>length_relation</th>\n",
       "      <th>abs_length_relation</th>\n",
       "      <th>deprel_universal</th>\n",
       "    </tr>\n",
       "  </thead>\n",
       "  <tbody>\n",
       "    <tr>\n",
       "      <th>0</th>\n",
       "      <td>0</td>\n",
       "      <td>1</td>\n",
       "      <td>1</td>\n",
       "      <td>Show</td>\n",
       "      <td>root</td>\n",
       "      <td>0</td>\n",
       "      <td>0</td>\n",
       "      <td>-1</td>\n",
       "      <td>1</td>\n",
       "      <td>root</td>\n",
       "    </tr>\n",
       "    <tr>\n",
       "      <th>1</th>\n",
       "      <td>0</td>\n",
       "      <td>2</td>\n",
       "      <td>2</td>\n",
       "      <td>All</td>\n",
       "      <td>obj</td>\n",
       "      <td>1</td>\n",
       "      <td>1</td>\n",
       "      <td>-1</td>\n",
       "      <td>1</td>\n",
       "      <td>obj</td>\n",
       "    </tr>\n",
       "  </tbody>\n",
       "</table>\n",
       "</div>"
      ],
      "text/plain": [
       "   sentence_id  token_id  id  form deprel  head  token_head  length_relation  \\\n",
       "0            0         1   1  Show   root     0           0               -1   \n",
       "1            0         2   2   All    obj     1           1               -1   \n",
       "\n",
       "   abs_length_relation deprel_universal  \n",
       "0                    1             root  \n",
       "1                    1              obj  "
      ]
     },
     "execution_count": 710,
     "metadata": {},
     "output_type": "execute_result"
    }
   ],
   "source": [
    "df_head = pd.DataFrame(l_head, columns=[\"sentence_id\", \"token_id\", \"id\", \"form\", \"deprel\", \"head\"]).dropna(subset=[\"head\"])\n",
    "df_head[\"head\"] = df_head[\"head\"].astype(int)\n",
    "df_head[\"id\"] = df_head[\"id\"].astype(int)\n",
    "df_head = pd.merge(df_head, df_head[[\"sentence_id\", \"token_id\", \"id\"]].rename(columns={\"token_id\":\"token_head\"}).drop_duplicates(),\n",
    "    how=\"left\", left_on=[\"sentence_id\", \"head\"], right_on=[\"sentence_id\", \"id\"], suffixes=(\"\", \"_head\")).drop(columns=[\"id_head\"])\n",
    "df_head[\"token_head\"] = df_head.apply(lambda u: u[\"token_head\"] if not(pd.isna(u[\"token_head\"])) else u[\"head\"], axis=1).astype(int)\n",
    "df_head[\"length_relation\"] = df_head[\"head\"] - df_head[\"id\"]\n",
    "df_head[\"abs_length_relation\"] = df_head[\"length_relation\"].abs()\n",
    "df_head[\"deprel_universal\"] = df_head[\"deprel\"].apply(lambda u: u.split(\":\")[0])\n",
    "df_head.loc[df_head[\"sentence_id\"] == 0]"
   ]
  },
  {
   "cell_type": "code",
   "execution_count": 711,
   "metadata": {},
   "outputs": [
    {
     "data": {
      "text/html": [
       "<div>\n",
       "<style scoped>\n",
       "    .dataframe tbody tr th:only-of-type {\n",
       "        vertical-align: middle;\n",
       "    }\n",
       "\n",
       "    .dataframe tbody tr th {\n",
       "        vertical-align: top;\n",
       "    }\n",
       "\n",
       "    .dataframe thead th {\n",
       "        text-align: right;\n",
       "    }\n",
       "</style>\n",
       "<table border=\"1\" class=\"dataframe\">\n",
       "  <thead>\n",
       "    <tr style=\"text-align: right;\">\n",
       "      <th></th>\n",
       "      <th>sentence_id</th>\n",
       "      <th>token_id</th>\n",
       "      <th>id</th>\n",
       "      <th>form</th>\n",
       "      <th>deprel</th>\n",
       "      <th>head</th>\n",
       "      <th>token_head</th>\n",
       "      <th>length_relation</th>\n",
       "      <th>abs_length_relation</th>\n",
       "      <th>deprel_universal</th>\n",
       "      <th>deprel_order</th>\n",
       "    </tr>\n",
       "  </thead>\n",
       "  <tbody>\n",
       "    <tr>\n",
       "      <th>0</th>\n",
       "      <td>0</td>\n",
       "      <td>1</td>\n",
       "      <td>1</td>\n",
       "      <td>Show</td>\n",
       "      <td>root</td>\n",
       "      <td>0</td>\n",
       "      <td>0</td>\n",
       "      <td>-1</td>\n",
       "      <td>1</td>\n",
       "      <td>root</td>\n",
       "      <td>1</td>\n",
       "    </tr>\n",
       "    <tr>\n",
       "      <th>1</th>\n",
       "      <td>0</td>\n",
       "      <td>2</td>\n",
       "      <td>2</td>\n",
       "      <td>All</td>\n",
       "      <td>obj</td>\n",
       "      <td>1</td>\n",
       "      <td>1</td>\n",
       "      <td>-1</td>\n",
       "      <td>1</td>\n",
       "      <td>obj</td>\n",
       "      <td>8</td>\n",
       "    </tr>\n",
       "    <tr>\n",
       "      <th>2</th>\n",
       "      <td>1</td>\n",
       "      <td>1</td>\n",
       "      <td>1</td>\n",
       "      <td>About</td>\n",
       "      <td>case</td>\n",
       "      <td>5</td>\n",
       "      <td>5</td>\n",
       "      <td>4</td>\n",
       "      <td>4</td>\n",
       "      <td>case</td>\n",
       "      <td>3</td>\n",
       "    </tr>\n",
       "    <tr>\n",
       "      <th>3</th>\n",
       "      <td>1</td>\n",
       "      <td>2</td>\n",
       "      <td>2</td>\n",
       "      <td>ANSI</td>\n",
       "      <td>compound</td>\n",
       "      <td>5</td>\n",
       "      <td>5</td>\n",
       "      <td>3</td>\n",
       "      <td>3</td>\n",
       "      <td>compound</td>\n",
       "      <td>10</td>\n",
       "    </tr>\n",
       "    <tr>\n",
       "      <th>4</th>\n",
       "      <td>1</td>\n",
       "      <td>3</td>\n",
       "      <td>3</td>\n",
       "      <td>SQL</td>\n",
       "      <td>flat</td>\n",
       "      <td>2</td>\n",
       "      <td>2</td>\n",
       "      <td>-1</td>\n",
       "      <td>1</td>\n",
       "      <td>flat</td>\n",
       "      <td>21</td>\n",
       "    </tr>\n",
       "  </tbody>\n",
       "</table>\n",
       "</div>"
      ],
      "text/plain": [
       "   sentence_id  token_id  id   form    deprel  head  token_head  \\\n",
       "0            0         1   1   Show      root     0           0   \n",
       "1            0         2   2    All       obj     1           1   \n",
       "2            1         1   1  About      case     5           5   \n",
       "3            1         2   2   ANSI  compound     5           5   \n",
       "4            1         3   3    SQL      flat     2           2   \n",
       "\n",
       "   length_relation  abs_length_relation deprel_universal  deprel_order  \n",
       "0               -1                    1             root             1  \n",
       "1               -1                    1              obj             8  \n",
       "2                4                    4             case             3  \n",
       "3                3                    3         compound            10  \n",
       "4               -1                    1             flat            21  "
      ]
     },
     "execution_count": 711,
     "metadata": {},
     "output_type": "execute_result"
    }
   ],
   "source": [
    "df_ud = df_deprel.copy() if len(df_deprel) > 0 else df_head.copy()\n",
    "df_ud[\"deprel_order\"] = df_ud[\"deprel_universal\"].map({k: i for i, k in enumerate(list(D_RELATIONS.keys()))})\n",
    "df_ud.head()"
   ]
  },
  {
   "cell_type": "markdown",
   "metadata": {},
   "source": [
    "# EDA"
   ]
  },
  {
   "cell_type": "code",
   "execution_count": 713,
   "metadata": {},
   "outputs": [
    {
     "data": {
      "text/plain": [
       "Text(0.5, 1.0, 'Length of relations')"
      ]
     },
     "execution_count": 713,
     "metadata": {},
     "output_type": "execute_result"
    },
    {
     "data": {
      "image/png": "[encoded data removed]",
      "text/plain": [
       "<Figure size 1000x800 with 1 Axes>"
      ]
     },
     "metadata": {},
     "output_type": "display_data"
    }
   ],
   "source": [
    "fig, ax = plt.subplots(figsize=(10, 8))\n",
    "df_deprel[\"source\"] = \"deprel\"\n",
    "df_head[\"source\"] = \"head\"\n",
    "df = pd.concat([df_deprel, df_head])\n",
    "df[\"deprel_order\"] = df[\"deprel_universal\"].map({k: i for i, k in enumerate(list(D_RELATIONS.keys()))})\n",
    "ax = sns.boxplot(data=df.sort_values(by=\"deprel_order\"), y=\"deprel_universal\", x=\"length_relation\", hue=\"source\", showfliers=False)\n",
    "ax.axvline(x=0, color='gray', linestyle='--')\n",
    "plt.title(\"Length of relations\")"
   ]
  },
  {
   "cell_type": "code",
   "execution_count": 714,
   "metadata": {},
   "outputs": [
    {
     "data": {
      "image/png": "[encoded data removed]",
      "text/plain": [
       "<Figure size 640x480 with 1 Axes>"
      ]
     },
     "metadata": {},
     "output_type": "display_data"
    }
   ],
   "source": [
    "index_sort = df_ud.groupby(\"deprel_universal\").transform(\"count\").sort_values(\"sentence_id\", ascending=False).index\n",
    "ax = sns.boxplot(data=df_ud.loc[index_sort], y=\"deprel_universal\", x=\"abs_length_relation\", showfliers=False)\n",
    "plt.title(f\"Absolute length of relations\")\n",
    "plt.show()"
   ]
  },
  {
   "cell_type": "code",
   "execution_count": 715,
   "metadata": {},
   "outputs": [
    {
     "data": {
      "application/vnd.plotly.v1+json": {
       "config": {
        "plotlyServerURL": "https://plot.ly"
       },
       "data": [
        {
         "customdata": [
          [
           "aux"
          ],
          [
           "amod"
          ],
          [
           "flat"
          ],
          [
           "xcomp"
          ],
          [
           "cop"
          ],
          [
           "case"
          ],
          [
           "acl"
          ],
          [
           "obj"
          ],
          [
           "nummod"
          ],
          [
           "obl"
          ],
          [
           "advmod"
          ],
          [
           "nmod"
          ],
          [
           "nsubj"
          ],
          [
           "det"
          ],
          [
           "iobj"
          ],
          [
           "expl"
          ],
          [
           "vocative"
          ],
          [
           "dislocated"
          ],
          [
           "csubj"
          ],
          [
           "dep"
          ],
          [
           "discourse"
          ],
          [
           "parataxis"
          ],
          [
           "punct"
          ],
          [
           "advcl"
          ],
          [
           "appos"
          ],
          [
           "fixed"
          ],
          [
           "ccomp"
          ],
          [
           "compound"
          ],
          [
           "cc"
          ],
          [
           "mark"
          ],
          [
           "conj"
          ],
          [
           "root"
          ],
          [
           "orphan"
          ]
         ],
         "hovertemplate": "token_id=%{x}<br>abs_length_relation=%{y}<br>deprel_universal=%{customdata[0]}<extra></extra>",
         "legendgroup": "",
         "marker": {
          "color": "#636efa",
          "symbol": "circle"
         },
         "mode": "markers",
         "name": "",
         "orientation": "v",
         "showlegend": false,
         "type": "scatter",
         "x": [
          2106,
          2674,
          278,
          860,
          916,
          5445,
          1068,
          2667,
          269,
          3121,
          3232,
          3464,
          5248,
          5400,
          51,
          215,
          57,
          88,
          105,
          2,
          125,
          207,
          7028,
          1003,
          217,
          293,
          443,
          1515,
          1791,
          1938,
          2369,
          3176,
          1
         ],
         "xaxis": "x",
         "y": [
          1.5446343779677112,
          1.325729244577412,
          1.089928057553957,
          2.9127906976744184,
          2.0316593886462884,
          1.9878787878787878,
          3.4363295880149813,
          2.1736032995875516,
          1.483271375464684,
          4.450817045818648,
          2.063428217821782,
          2.504907621247113,
          2.3568978658536586,
          1.4959259259259259,
          1.2352941176470589,
          1.6418604651162791,
          4.192982456140351,
          5.045454545454546,
          5.838095238095238,
          2,
          4.304,
          8.801932367149758,
          6.978941377347752,
          7.442671984047856,
          5.423963133640553,
          1.081911262798635,
          5.291196388261851,
          1.2257425742574257,
          2.72250139586823,
          2.5283797729618165,
          7.942169691853103,
          5.3620906801007555,
          2
         ],
         "yaxis": "y"
        }
       ],
       "layout": {
        "legend": {
         "tracegroupgap": 0
        },
        "template": {
         "data": {
          "bar": [
           {
            "error_x": {
             "color": "#2a3f5f"
            },
            "error_y": {
             "color": "#2a3f5f"
            },
            "marker": {
             "line": {
              "color": "#E5ECF6",
              "width": 0.5
             },
             "pattern": {
              "fillmode": "overlay",
              "size": 10,
              "solidity": 0.2
             }
            },
            "type": "bar"
           }
          ],
          "barpolar": [
           {
            "marker": {
             "line": {
              "color": "#E5ECF6",
              "width": 0.5
             },
             "pattern": {
              "fillmode": "overlay",
              "size": 10,
              "solidity": 0.2
             }
            },
            "type": "barpolar"
           }
          ],
          "carpet": [
           {
            "aaxis": {
             "endlinecolor": "#2a3f5f",
             "gridcolor": "white",
             "linecolor": "white",
             "minorgridcolor": "white",
             "startlinecolor": "#2a3f5f"
            },
            "baxis": {
             "endlinecolor": "#2a3f5f",
             "gridcolor": "white",
             "linecolor": "white",
             "minorgridcolor": "white",
             "startlinecolor": "#2a3f5f"
            },
            "type": "carpet"
           }
          ],
          "choropleth": [
           {
            "colorbar": {
             "outlinewidth": 0,
             "ticks": ""
            },
            "type": "choropleth"
           }
          ],
          "contour": [
           {
            "colorbar": {
             "outlinewidth": 0,
             "ticks": ""
            },
            "colorscale": [
             [
              0,
              "#0d0887"
             ],
             [
              0.1111111111111111,
              "#46039f"
             ],
             [
              0.2222222222222222,
              "#7201a8"
             ],
             [
              0.3333333333333333,
              "#9c179e"
             ],
             [
              0.4444444444444444,
              "#bd3786"
             ],
             [
              0.5555555555555556,
              "#d8576b"
             ],
             [
              0.6666666666666666,
              "#ed7953"
             ],
             [
              0.7777777777777778,
              "#fb9f3a"
             ],
             [
              0.8888888888888888,
              "#fdca26"
             ],
             [
              1,
              "#f0f921"
             ]
            ],
            "type": "contour"
           }
          ],
          "contourcarpet": [
           {
            "colorbar": {
             "outlinewidth": 0,
             "ticks": ""
            },
            "type": "contourcarpet"
           }
          ],
          "heatmap": [
           {
            "colorbar": {
             "outlinewidth": 0,
             "ticks": ""
            },
            "colorscale": [
             [
              0,
              "#0d0887"
             ],
             [
              0.1111111111111111,
              "#46039f"
             ],
             [
              0.2222222222222222,
              "#7201a8"
             ],
             [
              0.3333333333333333,
              "#9c179e"
             ],
             [
              0.4444444444444444,
              "#bd3786"
             ],
             [
              0.5555555555555556,
              "#d8576b"
             ],
             [
              0.6666666666666666,
              "#ed7953"
             ],
             [
              0.7777777777777778,
              "#fb9f3a"
             ],
             [
              0.8888888888888888,
              "#fdca26"
             ],
             [
              1,
              "#f0f921"
             ]
            ],
            "type": "heatmap"
           }
          ],
          "heatmapgl": [
           {
            "colorbar": {
             "outlinewidth": 0,
             "ticks": ""
            },
            "colorscale": [
             [
              0,
              "#0d0887"
             ],
             [
              0.1111111111111111,
              "#46039f"
             ],
             [
              0.2222222222222222,
              "#7201a8"
             ],
             [
              0.3333333333333333,
              "#9c179e"
             ],
             [
              0.4444444444444444,
              "#bd3786"
             ],
             [
              0.5555555555555556,
              "#d8576b"
             ],
             [
              0.6666666666666666,
              "#ed7953"
             ],
             [
              0.7777777777777778,
              "#fb9f3a"
             ],
             [
              0.8888888888888888,
              "#fdca26"
             ],
             [
              1,
              "#f0f921"
             ]
            ],
            "type": "heatmapgl"
           }
          ],
          "histogram": [
           {
            "marker": {
             "pattern": {
              "fillmode": "overlay",
              "size": 10,
              "solidity": 0.2
             }
            },
            "type": "histogram"
           }
          ],
          "histogram2d": [
           {
            "colorbar": {
             "outlinewidth": 0,
             "ticks": ""
            },
            "colorscale": [
             [
              0,
              "#0d0887"
             ],
             [
              0.1111111111111111,
              "#46039f"
             ],
             [
              0.2222222222222222,
              "#7201a8"
             ],
             [
              0.3333333333333333,
              "#9c179e"
             ],
             [
              0.4444444444444444,
              "#bd3786"
             ],
             [
              0.5555555555555556,
              "#d8576b"
             ],
             [
              0.6666666666666666,
              "#ed7953"
             ],
             [
              0.7777777777777778,
              "#fb9f3a"
             ],
             [
              0.8888888888888888,
              "#fdca26"
             ],
             [
              1,
              "#f0f921"
             ]
            ],
            "type": "histogram2d"
           }
          ],
          "histogram2dcontour": [
           {
            "colorbar": {
             "outlinewidth": 0,
             "ticks": ""
            },
            "colorscale": [
             [
              0,
              "#0d0887"
             ],
             [
              0.1111111111111111,
              "#46039f"
             ],
             [
              0.2222222222222222,
              "#7201a8"
             ],
             [
              0.3333333333333333,
              "#9c179e"
             ],
             [
              0.4444444444444444,
              "#bd3786"
             ],
             [
              0.5555555555555556,
              "#d8576b"
             ],
             [
              0.6666666666666666,
              "#ed7953"
             ],
             [
              0.7777777777777778,
              "#fb9f3a"
             ],
             [
              0.8888888888888888,
              "#fdca26"
             ],
             [
              1,
              "#f0f921"
             ]
            ],
            "type": "histogram2dcontour"
           }
          ],
          "mesh3d": [
           {
            "colorbar": {
             "outlinewidth": 0,
             "ticks": ""
            },
            "type": "mesh3d"
           }
          ],
          "parcoords": [
           {
            "line": {
             "colorbar": {
              "outlinewidth": 0,
              "ticks": ""
             }
            },
            "type": "parcoords"
           }
          ],
          "pie": [
           {
            "automargin": true,
            "type": "pie"
           }
          ],
          "scatter": [
           {
            "fillpattern": {
             "fillmode": "overlay",
             "size": 10,
             "solidity": 0.2
            },
            "type": "scatter"
           }
          ],
          "scatter3d": [
           {
            "line": {
             "colorbar": {
              "outlinewidth": 0,
              "ticks": ""
             }
            },
            "marker": {
             "colorbar": {
              "outlinewidth": 0,
              "ticks": ""
             }
            },
            "type": "scatter3d"
           }
          ],
          "scattercarpet": [
           {
            "marker": {
             "colorbar": {
              "outlinewidth": 0,
              "ticks": ""
             }
            },
            "type": "scattercarpet"
           }
          ],
          "scattergeo": [
           {
            "marker": {
             "colorbar": {
              "outlinewidth": 0,
              "ticks": ""
             }
            },
            "type": "scattergeo"
           }
          ],
          "scattergl": [
           {
            "marker": {
             "colorbar": {
              "outlinewidth": 0,
              "ticks": ""
             }
            },
            "type": "scattergl"
           }
          ],
          "scattermapbox": [
           {
            "marker": {
             "colorbar": {
              "outlinewidth": 0,
              "ticks": ""
             }
            },
            "type": "scattermapbox"
           }
          ],
          "scatterpolar": [
           {
            "marker": {
             "colorbar": {
              "outlinewidth": 0,
              "ticks": ""
             }
            },
            "type": "scatterpolar"
           }
          ],
          "scatterpolargl": [
           {
            "marker": {
             "colorbar": {
              "outlinewidth": 0,
              "ticks": ""
             }
            },
            "type": "scatterpolargl"
           }
          ],
          "scatterternary": [
           {
            "marker": {
             "colorbar": {
              "outlinewidth": 0,
              "ticks": ""
             }
            },
            "type": "scatterternary"
           }
          ],
          "surface": [
           {
            "colorbar": {
             "outlinewidth": 0,
             "ticks": ""
            },
            "colorscale": [
             [
              0,
              "#0d0887"
             ],
             [
              0.1111111111111111,
              "#46039f"
             ],
             [
              0.2222222222222222,
              "#7201a8"
             ],
             [
              0.3333333333333333,
              "#9c179e"
             ],
             [
              0.4444444444444444,
              "#bd3786"
             ],
             [
              0.5555555555555556,
              "#d8576b"
             ],
             [
              0.6666666666666666,
              "#ed7953"
             ],
             [
              0.7777777777777778,
              "#fb9f3a"
             ],
             [
              0.8888888888888888,
              "#fdca26"
             ],
             [
              1,
              "#f0f921"
             ]
            ],
            "type": "surface"
           }
          ],
          "table": [
           {
            "cells": {
             "fill": {
              "color": "#EBF0F8"
             },
             "line": {
              "color": "white"
             }
            },
            "header": {
             "fill": {
              "color": "#C8D4E3"
             },
             "line": {
              "color": "white"
             }
            },
            "type": "table"
           }
          ]
         },
         "layout": {
          "annotationdefaults": {
           "arrowcolor": "#2a3f5f",
           "arrowhead": 0,
           "arrowwidth": 1
          },
          "autotypenumbers": "strict",
          "coloraxis": {
           "colorbar": {
            "outlinewidth": 0,
            "ticks": ""
           }
          },
          "colorscale": {
           "diverging": [
            [
             0,
             "#8e0152"
            ],
            [
             0.1,
             "#c51b7d"
            ],
            [
             0.2,
             "#de77ae"
            ],
            [
             0.3,
             "#f1b6da"
            ],
            [
             0.4,
             "#fde0ef"
            ],
            [
             0.5,
             "#f7f7f7"
            ],
            [
             0.6,
             "#e6f5d0"
            ],
            [
             0.7,
             "#b8e186"
            ],
            [
             0.8,
             "#7fbc41"
            ],
            [
             0.9,
             "#4d9221"
            ],
            [
             1,
             "#276419"
            ]
           ],
           "sequential": [
            [
             0,
             "#0d0887"
            ],
            [
             0.1111111111111111,
             "#46039f"
            ],
            [
             0.2222222222222222,
             "#7201a8"
            ],
            [
             0.3333333333333333,
             "#9c179e"
            ],
            [
             0.4444444444444444,
             "#bd3786"
            ],
            [
             0.5555555555555556,
             "#d8576b"
            ],
            [
             0.6666666666666666,
             "#ed7953"
            ],
            [
             0.7777777777777778,
             "#fb9f3a"
            ],
            [
             0.8888888888888888,
             "#fdca26"
            ],
            [
             1,
             "#f0f921"
            ]
           ],
           "sequentialminus": [
            [
             0,
             "#0d0887"
            ],
            [
             0.1111111111111111,
             "#46039f"
            ],
            [
             0.2222222222222222,
             "#7201a8"
            ],
            [
             0.3333333333333333,
             "#9c179e"
            ],
            [
             0.4444444444444444,
             "#bd3786"
            ],
            [
             0.5555555555555556,
             "#d8576b"
            ],
            [
             0.6666666666666666,
             "#ed7953"
            ],
            [
             0.7777777777777778,
             "#fb9f3a"
            ],
            [
             0.8888888888888888,
             "#fdca26"
            ],
            [
             1,
             "#f0f921"
            ]
           ]
          },
          "colorway": [
           "#636efa",
           "#EF553B",
           "#00cc96",
           "#ab63fa",
           "#FFA15A",
           "#19d3f3",
           "#FF6692",
           "#B6E880",
           "#FF97FF",
           "#FECB52"
          ],
          "font": {
           "color": "#2a3f5f"
          },
          "geo": {
           "bgcolor": "white",
           "lakecolor": "white",
           "landcolor": "#E5ECF6",
           "showlakes": true,
           "showland": true,
           "subunitcolor": "white"
          },
          "hoverlabel": {
           "align": "left"
          },
          "hovermode": "closest",
          "mapbox": {
           "style": "light"
          },
          "paper_bgcolor": "white",
          "plot_bgcolor": "#E5ECF6",
          "polar": {
           "angularaxis": {
            "gridcolor": "white",
            "linecolor": "white",
            "ticks": ""
           },
           "bgcolor": "#E5ECF6",
           "radialaxis": {
            "gridcolor": "white",
            "linecolor": "white",
            "ticks": ""
           }
          },
          "scene": {
           "xaxis": {
            "backgroundcolor": "#E5ECF6",
            "gridcolor": "white",
            "gridwidth": 2,
            "linecolor": "white",
            "showbackground": true,
            "ticks": "",
            "zerolinecolor": "white"
           },
           "yaxis": {
            "backgroundcolor": "#E5ECF6",
            "gridcolor": "white",
            "gridwidth": 2,
            "linecolor": "white",
            "showbackground": true,
            "ticks": "",
            "zerolinecolor": "white"
           },
           "zaxis": {
            "backgroundcolor": "#E5ECF6",
            "gridcolor": "white",
            "gridwidth": 2,
            "linecolor": "white",
            "showbackground": true,
            "ticks": "",
            "zerolinecolor": "white"
           }
          },
          "shapedefaults": {
           "line": {
            "color": "#2a3f5f"
           }
          },
          "ternary": {
           "aaxis": {
            "gridcolor": "white",
            "linecolor": "white",
            "ticks": ""
           },
           "baxis": {
            "gridcolor": "white",
            "linecolor": "white",
            "ticks": ""
           },
           "bgcolor": "#E5ECF6",
           "caxis": {
            "gridcolor": "white",
            "linecolor": "white",
            "ticks": ""
           }
          },
          "title": {
           "x": 0.05
          },
          "xaxis": {
           "automargin": true,
           "gridcolor": "white",
           "linecolor": "white",
           "ticks": "",
           "title": {
            "standoff": 15
           },
           "zerolinecolor": "white",
           "zerolinewidth": 2
          },
          "yaxis": {
           "automargin": true,
           "gridcolor": "white",
           "linecolor": "white",
           "ticks": "",
           "title": {
            "standoff": 15
           },
           "zerolinecolor": "white",
           "zerolinewidth": 2
          }
         }
        },
        "title": {
         "text": "Mean absolute length of relations vs. number of tokens"
        },
        "xaxis": {
         "anchor": "y",
         "domain": [
          0,
          1
         ],
         "title": {
          "text": "token_id"
         }
        },
        "yaxis": {
         "anchor": "x",
         "domain": [
          0,
          1
         ],
         "title": {
          "text": "abs_length_relation"
         }
        }
       }
      }
     },
     "metadata": {},
     "output_type": "display_data"
    }
   ],
   "source": [
    "df = df_ud.groupby(\"deprel_universal\").agg({\"abs_length_relation\":\"mean\", \"token_id\":\"count\"}).sort_values(\"token_id\", ascending=False).reset_index()\n",
    "df = df.merge(pd.Series(D_RELATIONS, name=\"keep\"), left_on=\"deprel_universal\", right_index=True).sort_values(\"token_id\", ascending=False)\n",
    "fig = px.scatter(df.sort_values(by=\"keep\", ascending=False), y=\"abs_length_relation\", x=\"token_id\", hover_data=\"deprel_universal\",title=\"Mean absolute length of relations vs. number of tokens\")\n",
    "fig.show()\n",
    "# fig.write_html(\"../images/universal-dependencies/UD_EWT_mean_length_relations_vs_count.html\")"
   ]
  },
  {
   "cell_type": "markdown",
   "metadata": {},
   "source": [
    "### Score attentional, sentence lengths"
   ]
  },
  {
   "cell_type": "code",
   "execution_count": 716,
   "metadata": {},
   "outputs": [
    {
     "name": "stdout",
     "output_type": "stream",
     "text": [
      "Processing sentence 0...\n",
      "Processing sentence 100...\n",
      "Processing sentence 200...\n",
      "Processing sentence 300...\n",
      "Processing sentence 400...\n",
      "Processing sentence 500...\n",
      "Processing sentence 600...\n",
      "Processing sentence 700...\n",
      "Processing sentence 800...\n",
      "Processing sentence 900...\n",
      "Processing sentence 1000...\n",
      "Processing sentence 1100...\n",
      "Processing sentence 1200...\n",
      "Processing sentence 1300...\n",
      "Processing sentence 1400...\n",
      "Processing sentence 1500...\n",
      "Processing sentence 1600...\n",
      "Processing sentence 1700...\n",
      "Processing sentence 1800...\n",
      "Processing sentence 1900...\n",
      "Processing sentence 2000...\n",
      "Processing sentence 2100...\n",
      "Processing sentence 2200...\n",
      "Processing sentence 2300...\n",
      "Processing sentence 2400...\n",
      "Processing sentence 2500...\n",
      "Processing sentence 2600...\n",
      "Processing sentence 2700...\n",
      "Processing sentence 2800...\n",
      "Processing sentence 2900...\n",
      "Processing sentence 3000...\n",
      "Processing sentence 3100...\n"
     ]
    },
    {
     "data": {
      "text/html": [
       "<div>\n",
       "<style scoped>\n",
       "    .dataframe tbody tr th:only-of-type {\n",
       "        vertical-align: middle;\n",
       "    }\n",
       "\n",
       "    .dataframe tbody tr th {\n",
       "        vertical-align: top;\n",
       "    }\n",
       "\n",
       "    .dataframe thead th {\n",
       "        text-align: right;\n",
       "    }\n",
       "</style>\n",
       "<table border=\"1\" class=\"dataframe\">\n",
       "  <thead>\n",
       "    <tr style=\"text-align: right;\">\n",
       "      <th></th>\n",
       "      <th>sentence_id</th>\n",
       "      <th>score_attentional</th>\n",
       "      <th>length_attentional</th>\n",
       "      <th>length_linguistics</th>\n",
       "    </tr>\n",
       "  </thead>\n",
       "  <tbody>\n",
       "    <tr>\n",
       "      <th>0</th>\n",
       "      <td>0</td>\n",
       "      <td>0.472728</td>\n",
       "      <td>2</td>\n",
       "      <td>2</td>\n",
       "    </tr>\n",
       "    <tr>\n",
       "      <th>1</th>\n",
       "      <td>1</td>\n",
       "      <td>1.603659</td>\n",
       "      <td>6</td>\n",
       "      <td>5</td>\n",
       "    </tr>\n",
       "    <tr>\n",
       "      <th>2</th>\n",
       "      <td>2</td>\n",
       "      <td>4.102909</td>\n",
       "      <td>15</td>\n",
       "      <td>15</td>\n",
       "    </tr>\n",
       "    <tr>\n",
       "      <th>3</th>\n",
       "      <td>3</td>\n",
       "      <td>4.229439</td>\n",
       "      <td>16</td>\n",
       "      <td>14</td>\n",
       "    </tr>\n",
       "    <tr>\n",
       "      <th>4</th>\n",
       "      <td>4</td>\n",
       "      <td>2.794293</td>\n",
       "      <td>11</td>\n",
       "      <td>8</td>\n",
       "    </tr>\n",
       "    <tr>\n",
       "      <th>...</th>\n",
       "      <td>...</td>\n",
       "      <td>...</td>\n",
       "      <td>...</td>\n",
       "      <td>...</td>\n",
       "    </tr>\n",
       "    <tr>\n",
       "      <th>3171</th>\n",
       "      <td>3171</td>\n",
       "      <td>6.674907</td>\n",
       "      <td>25</td>\n",
       "      <td>15</td>\n",
       "    </tr>\n",
       "    <tr>\n",
       "      <th>3172</th>\n",
       "      <td>3172</td>\n",
       "      <td>7.829453</td>\n",
       "      <td>32</td>\n",
       "      <td>29</td>\n",
       "    </tr>\n",
       "    <tr>\n",
       "      <th>3173</th>\n",
       "      <td>3173</td>\n",
       "      <td>2.812665</td>\n",
       "      <td>10</td>\n",
       "      <td>8</td>\n",
       "    </tr>\n",
       "    <tr>\n",
       "      <th>3174</th>\n",
       "      <td>3174</td>\n",
       "      <td>1.862254</td>\n",
       "      <td>7</td>\n",
       "      <td>7</td>\n",
       "    </tr>\n",
       "    <tr>\n",
       "      <th>3175</th>\n",
       "      <td>3175</td>\n",
       "      <td>3.281637</td>\n",
       "      <td>12</td>\n",
       "      <td>12</td>\n",
       "    </tr>\n",
       "  </tbody>\n",
       "</table>\n",
       "<p>3176 rows × 4 columns</p>\n",
       "</div>"
      ],
      "text/plain": [
       "      sentence_id  score_attentional  length_attentional  length_linguistics\n",
       "0               0           0.472728                   2                   2\n",
       "1               1           1.603659                   6                   5\n",
       "2               2           4.102909                  15                  15\n",
       "3               3           4.229439                  16                  14\n",
       "4               4           2.794293                  11                   8\n",
       "...           ...                ...                 ...                 ...\n",
       "3171         3171           6.674907                  25                  15\n",
       "3172         3172           7.829453                  32                  29\n",
       "3173         3173           2.812665                  10                   8\n",
       "3174         3174           1.862254                   7                   7\n",
       "3175         3175           3.281637                  12                  12\n",
       "\n",
       "[3176 rows x 4 columns]"
      ]
     },
     "execution_count": 716,
     "metadata": {},
     "output_type": "execute_result"
    }
   ],
   "source": [
    "def calculate_attentionalScores(data, verbose=False):\n",
    "    d = {\"score_attentional\":[], \"length_attentional\":[]}\n",
    "    for i, sentence in enumerate(data):\n",
    "        if i % 100 == 0 and verbose:\n",
    "            print(f\"Processing sentence {i}...\")\n",
    "        text = sentence.metadata[\"text\"]\n",
    "        burden = burdenizer.compute_burden(text)\n",
    "        d[\"score_attentional\"].append(burden)\n",
    "        d[\"length_attentional\"].append(len(burdenizer.tokens))\n",
    "    return d\n",
    "\n",
    "d_attentional = calculate_attentionalScores(data, verbose=True)\n",
    "df_sentence = pd.DataFrame(d_attentional).reset_index().rename(columns={\"index\":\"sentence_id\"})\n",
    "df_sentence = pd.merge(df_sentence, df_ud.groupby(\"sentence_id\").agg({\"token_id\":\"max\"}).reset_index(),\n",
    "            how=\"left\", on=\"sentence_id\").rename(columns={\"token_id\":\"length_linguistics\"})\n",
    "df_sentence"
   ]
  },
  {
   "cell_type": "code",
   "execution_count": 717,
   "metadata": {},
   "outputs": [
    {
     "data": {
      "application/vnd.plotly.v1+json": {
       "config": {
        "plotlyServerURL": "https://plot.ly"
       },
       "data": [
        {
         "hovertemplate": "type=length_attentional<br>length=%{x}<br>count=%{y}<extra></extra>",
         "legendgroup": "length_attentional",
         "line": {
          "color": "#636efa",
          "dash": "solid"
         },
         "marker": {
          "symbol": "circle"
         },
         "mode": "lines",
         "name": "length_attentional",
         "orientation": "v",
         "showlegend": true,
         "type": "scatter",
         "x": [
          1,
          2,
          3,
          4,
          5,
          6,
          7,
          8,
          9,
          10,
          11,
          12,
          13,
          14,
          15,
          16,
          17,
          18,
          19,
          20,
          21,
          22,
          23,
          24,
          25,
          26,
          27,
          28,
          29,
          30,
          31,
          32,
          33,
          34,
          35,
          36,
          37,
          38,
          39,
          40,
          41,
          42,
          43,
          44,
          45,
          46,
          47,
          48,
          49,
          50,
          51,
          52,
          53,
          54,
          55,
          56,
          57,
          58,
          59,
          60,
          61,
          62,
          63,
          64,
          65,
          67,
          68,
          69,
          72,
          73,
          75,
          78,
          79,
          80,
          82,
          83,
          86,
          87,
          90,
          91,
          92,
          117
         ],
         "xaxis": "x",
         "y": [
          4,
          9,
          30,
          58,
          76,
          100,
          107,
          136,
          118,
          147,
          150,
          153,
          103,
          115,
          109,
          134,
          125,
          103,
          104,
          105,
          99,
          90,
          74,
          89,
          75,
          76,
          49,
          44,
          57,
          48,
          38,
          35,
          34,
          33,
          23,
          22,
          21,
          24,
          17,
          25,
          20,
          17,
          17,
          9,
          6,
          12,
          7,
          15,
          5,
          8,
          3,
          7,
          9,
          3,
          9,
          6,
          7,
          2,
          7,
          5,
          2,
          3,
          1,
          3,
          4,
          3,
          2,
          3,
          3,
          3,
          1,
          3,
          1,
          2,
          1,
          1,
          1,
          1,
          1,
          2,
          1,
          1
         ],
         "yaxis": "y"
        },
        {
         "hovertemplate": "type=length_linguistics<br>length=%{x}<br>count=%{y}<extra></extra>",
         "legendgroup": "length_linguistics",
         "line": {
          "color": "#EF553B",
          "dash": "solid"
         },
         "marker": {
          "symbol": "circle"
         },
         "mode": "lines",
         "name": "length_linguistics",
         "orientation": "v",
         "showlegend": true,
         "type": "scatter",
         "x": [
          1,
          2,
          3,
          4,
          5,
          6,
          7,
          8,
          9,
          10,
          11,
          12,
          13,
          14,
          15,
          16,
          17,
          18,
          19,
          20,
          21,
          22,
          23,
          24,
          25,
          26,
          27,
          28,
          29,
          30,
          31,
          32,
          33,
          34,
          35,
          36,
          37,
          38,
          39,
          40,
          41,
          42,
          43,
          44,
          45,
          46,
          47,
          48,
          49,
          50,
          51,
          52,
          53,
          54,
          55,
          56,
          57,
          58,
          62,
          63,
          64,
          65,
          66,
          67,
          68,
          70,
          71,
          75,
          77,
          78,
          82,
          83,
          85,
          86,
          98
         ],
         "xaxis": "x",
         "y": [
          4,
          16,
          34,
          61,
          85,
          114,
          134,
          139,
          136,
          164,
          144,
          159,
          105,
          135,
          121,
          128,
          131,
          110,
          104,
          98,
          101,
          88,
          89,
          67,
          73,
          66,
          40,
          50,
          54,
          32,
          28,
          37,
          26,
          30,
          11,
          22,
          22,
          26,
          13,
          17,
          15,
          12,
          10,
          11,
          9,
          6,
          9,
          8,
          5,
          6,
          5,
          4,
          9,
          5,
          3,
          5,
          6,
          3,
          1,
          1,
          3,
          3,
          4,
          4,
          1,
          3,
          1,
          2,
          1,
          2,
          1,
          1,
          1,
          1,
          1
         ],
         "yaxis": "y"
        }
       ],
       "layout": {
        "legend": {
         "title": {
          "text": "type"
         },
         "tracegroupgap": 0
        },
        "margin": {
         "t": 60
        },
        "template": {
         "data": {
          "bar": [
           {
            "error_x": {
             "color": "#2a3f5f"
            },
            "error_y": {
             "color": "#2a3f5f"
            },
            "marker": {
             "line": {
              "color": "#E5ECF6",
              "width": 0.5
             },
             "pattern": {
              "fillmode": "overlay",
              "size": 10,
              "solidity": 0.2
             }
            },
            "type": "bar"
           }
          ],
          "barpolar": [
           {
            "marker": {
             "line": {
              "color": "#E5ECF6",
              "width": 0.5
             },
             "pattern": {
              "fillmode": "overlay",
              "size": 10,
              "solidity": 0.2
             }
            },
            "type": "barpolar"
           }
          ],
          "carpet": [
           {
            "aaxis": {
             "endlinecolor": "#2a3f5f",
             "gridcolor": "white",
             "linecolor": "white",
             "minorgridcolor": "white",
             "startlinecolor": "#2a3f5f"
            },
            "baxis": {
             "endlinecolor": "#2a3f5f",
             "gridcolor": "white",
             "linecolor": "white",
             "minorgridcolor": "white",
             "startlinecolor": "#2a3f5f"
            },
            "type": "carpet"
           }
          ],
          "choropleth": [
           {
            "colorbar": {
             "outlinewidth": 0,
             "ticks": ""
            },
            "type": "choropleth"
           }
          ],
          "contour": [
           {
            "colorbar": {
             "outlinewidth": 0,
             "ticks": ""
            },
            "colorscale": [
             [
              0,
              "#0d0887"
             ],
             [
              0.1111111111111111,
              "#46039f"
             ],
             [
              0.2222222222222222,
              "#7201a8"
             ],
             [
              0.3333333333333333,
              "#9c179e"
             ],
             [
              0.4444444444444444,
              "#bd3786"
             ],
             [
              0.5555555555555556,
              "#d8576b"
             ],
             [
              0.6666666666666666,
              "#ed7953"
             ],
             [
              0.7777777777777778,
              "#fb9f3a"
             ],
             [
              0.8888888888888888,
              "#fdca26"
             ],
             [
              1,
              "#f0f921"
             ]
            ],
            "type": "contour"
           }
          ],
          "contourcarpet": [
           {
            "colorbar": {
             "outlinewidth": 0,
             "ticks": ""
            },
            "type": "contourcarpet"
           }
          ],
          "heatmap": [
           {
            "colorbar": {
             "outlinewidth": 0,
             "ticks": ""
            },
            "colorscale": [
             [
              0,
              "#0d0887"
             ],
             [
              0.1111111111111111,
              "#46039f"
             ],
             [
              0.2222222222222222,
              "#7201a8"
             ],
             [
              0.3333333333333333,
              "#9c179e"
             ],
             [
              0.4444444444444444,
              "#bd3786"
             ],
             [
              0.5555555555555556,
              "#d8576b"
             ],
             [
              0.6666666666666666,
              "#ed7953"
             ],
             [
              0.7777777777777778,
              "#fb9f3a"
             ],
             [
              0.8888888888888888,
              "#fdca26"
             ],
             [
              1,
              "#f0f921"
             ]
            ],
            "type": "heatmap"
           }
          ],
          "heatmapgl": [
           {
            "colorbar": {
             "outlinewidth": 0,
             "ticks": ""
            },
            "colorscale": [
             [
              0,
              "#0d0887"
             ],
             [
              0.1111111111111111,
              "#46039f"
             ],
             [
              0.2222222222222222,
              "#7201a8"
             ],
             [
              0.3333333333333333,
              "#9c179e"
             ],
             [
              0.4444444444444444,
              "#bd3786"
             ],
             [
              0.5555555555555556,
              "#d8576b"
             ],
             [
              0.6666666666666666,
              "#ed7953"
             ],
             [
              0.7777777777777778,
              "#fb9f3a"
             ],
             [
              0.8888888888888888,
              "#fdca26"
             ],
             [
              1,
              "#f0f921"
             ]
            ],
            "type": "heatmapgl"
           }
          ],
          "histogram": [
           {
            "marker": {
             "pattern": {
              "fillmode": "overlay",
              "size": 10,
              "solidity": 0.2
             }
            },
            "type": "histogram"
           }
          ],
          "histogram2d": [
           {
            "colorbar": {
             "outlinewidth": 0,
             "ticks": ""
            },
            "colorscale": [
             [
              0,
              "#0d0887"
             ],
             [
              0.1111111111111111,
              "#46039f"
             ],
             [
              0.2222222222222222,
              "#7201a8"
             ],
             [
              0.3333333333333333,
              "#9c179e"
             ],
             [
              0.4444444444444444,
              "#bd3786"
             ],
             [
              0.5555555555555556,
              "#d8576b"
             ],
             [
              0.6666666666666666,
              "#ed7953"
             ],
             [
              0.7777777777777778,
              "#fb9f3a"
             ],
             [
              0.8888888888888888,
              "#fdca26"
             ],
             [
              1,
              "#f0f921"
             ]
            ],
            "type": "histogram2d"
           }
          ],
          "histogram2dcontour": [
           {
            "colorbar": {
             "outlinewidth": 0,
             "ticks": ""
            },
            "colorscale": [
             [
              0,
              "#0d0887"
             ],
             [
              0.1111111111111111,
              "#46039f"
             ],
             [
              0.2222222222222222,
              "#7201a8"
             ],
             [
              0.3333333333333333,
              "#9c179e"
             ],
             [
              0.4444444444444444,
              "#bd3786"
             ],
             [
              0.5555555555555556,
              "#d8576b"
             ],
             [
              0.6666666666666666,
              "#ed7953"
             ],
             [
              0.7777777777777778,
              "#fb9f3a"
             ],
             [
              0.8888888888888888,
              "#fdca26"
             ],
             [
              1,
              "#f0f921"
             ]
            ],
            "type": "histogram2dcontour"
           }
          ],
          "mesh3d": [
           {
            "colorbar": {
             "outlinewidth": 0,
             "ticks": ""
            },
            "type": "mesh3d"
           }
          ],
          "parcoords": [
           {
            "line": {
             "colorbar": {
              "outlinewidth": 0,
              "ticks": ""
             }
            },
            "type": "parcoords"
           }
          ],
          "pie": [
           {
            "automargin": true,
            "type": "pie"
           }
          ],
          "scatter": [
           {
            "fillpattern": {
             "fillmode": "overlay",
             "size": 10,
             "solidity": 0.2
            },
            "type": "scatter"
           }
          ],
          "scatter3d": [
           {
            "line": {
             "colorbar": {
              "outlinewidth": 0,
              "ticks": ""
             }
            },
            "marker": {
             "colorbar": {
              "outlinewidth": 0,
              "ticks": ""
             }
            },
            "type": "scatter3d"
           }
          ],
          "scattercarpet": [
           {
            "marker": {
             "colorbar": {
              "outlinewidth": 0,
              "ticks": ""
             }
            },
            "type": "scattercarpet"
           }
          ],
          "scattergeo": [
           {
            "marker": {
             "colorbar": {
              "outlinewidth": 0,
              "ticks": ""
             }
            },
            "type": "scattergeo"
           }
          ],
          "scattergl": [
           {
            "marker": {
             "colorbar": {
              "outlinewidth": 0,
              "ticks": ""
             }
            },
            "type": "scattergl"
           }
          ],
          "scattermapbox": [
           {
            "marker": {
             "colorbar": {
              "outlinewidth": 0,
              "ticks": ""
             }
            },
            "type": "scattermapbox"
           }
          ],
          "scatterpolar": [
           {
            "marker": {
             "colorbar": {
              "outlinewidth": 0,
              "ticks": ""
             }
            },
            "type": "scatterpolar"
           }
          ],
          "scatterpolargl": [
           {
            "marker": {
             "colorbar": {
              "outlinewidth": 0,
              "ticks": ""
             }
            },
            "type": "scatterpolargl"
           }
          ],
          "scatterternary": [
           {
            "marker": {
             "colorbar": {
              "outlinewidth": 0,
              "ticks": ""
             }
            },
            "type": "scatterternary"
           }
          ],
          "surface": [
           {
            "colorbar": {
             "outlinewidth": 0,
             "ticks": ""
            },
            "colorscale": [
             [
              0,
              "#0d0887"
             ],
             [
              0.1111111111111111,
              "#46039f"
             ],
             [
              0.2222222222222222,
              "#7201a8"
             ],
             [
              0.3333333333333333,
              "#9c179e"
             ],
             [
              0.4444444444444444,
              "#bd3786"
             ],
             [
              0.5555555555555556,
              "#d8576b"
             ],
             [
              0.6666666666666666,
              "#ed7953"
             ],
             [
              0.7777777777777778,
              "#fb9f3a"
             ],
             [
              0.8888888888888888,
              "#fdca26"
             ],
             [
              1,
              "#f0f921"
             ]
            ],
            "type": "surface"
           }
          ],
          "table": [
           {
            "cells": {
             "fill": {
              "color": "#EBF0F8"
             },
             "line": {
              "color": "white"
             }
            },
            "header": {
             "fill": {
              "color": "#C8D4E3"
             },
             "line": {
              "color": "white"
             }
            },
            "type": "table"
           }
          ]
         },
         "layout": {
          "annotationdefaults": {
           "arrowcolor": "#2a3f5f",
           "arrowhead": 0,
           "arrowwidth": 1
          },
          "autotypenumbers": "strict",
          "coloraxis": {
           "colorbar": {
            "outlinewidth": 0,
            "ticks": ""
           }
          },
          "colorscale": {
           "diverging": [
            [
             0,
             "#8e0152"
            ],
            [
             0.1,
             "#c51b7d"
            ],
            [
             0.2,
             "#de77ae"
            ],
            [
             0.3,
             "#f1b6da"
            ],
            [
             0.4,
             "#fde0ef"
            ],
            [
             0.5,
             "#f7f7f7"
            ],
            [
             0.6,
             "#e6f5d0"
            ],
            [
             0.7,
             "#b8e186"
            ],
            [
             0.8,
             "#7fbc41"
            ],
            [
             0.9,
             "#4d9221"
            ],
            [
             1,
             "#276419"
            ]
           ],
           "sequential": [
            [
             0,
             "#0d0887"
            ],
            [
             0.1111111111111111,
             "#46039f"
            ],
            [
             0.2222222222222222,
             "#7201a8"
            ],
            [
             0.3333333333333333,
             "#9c179e"
            ],
            [
             0.4444444444444444,
             "#bd3786"
            ],
            [
             0.5555555555555556,
             "#d8576b"
            ],
            [
             0.6666666666666666,
             "#ed7953"
            ],
            [
             0.7777777777777778,
             "#fb9f3a"
            ],
            [
             0.8888888888888888,
             "#fdca26"
            ],
            [
             1,
             "#f0f921"
            ]
           ],
           "sequentialminus": [
            [
             0,
             "#0d0887"
            ],
            [
             0.1111111111111111,
             "#46039f"
            ],
            [
             0.2222222222222222,
             "#7201a8"
            ],
            [
             0.3333333333333333,
             "#9c179e"
            ],
            [
             0.4444444444444444,
             "#bd3786"
            ],
            [
             0.5555555555555556,
             "#d8576b"
            ],
            [
             0.6666666666666666,
             "#ed7953"
            ],
            [
             0.7777777777777778,
             "#fb9f3a"
            ],
            [
             0.8888888888888888,
             "#fdca26"
            ],
            [
             1,
             "#f0f921"
            ]
           ]
          },
          "colorway": [
           "#636efa",
           "#EF553B",
           "#00cc96",
           "#ab63fa",
           "#FFA15A",
           "#19d3f3",
           "#FF6692",
           "#B6E880",
           "#FF97FF",
           "#FECB52"
          ],
          "font": {
           "color": "#2a3f5f"
          },
          "geo": {
           "bgcolor": "white",
           "lakecolor": "white",
           "landcolor": "#E5ECF6",
           "showlakes": true,
           "showland": true,
           "subunitcolor": "white"
          },
          "hoverlabel": {
           "align": "left"
          },
          "hovermode": "closest",
          "mapbox": {
           "style": "light"
          },
          "paper_bgcolor": "white",
          "plot_bgcolor": "#E5ECF6",
          "polar": {
           "angularaxis": {
            "gridcolor": "white",
            "linecolor": "white",
            "ticks": ""
           },
           "bgcolor": "#E5ECF6",
           "radialaxis": {
            "gridcolor": "white",
            "linecolor": "white",
            "ticks": ""
           }
          },
          "scene": {
           "xaxis": {
            "backgroundcolor": "#E5ECF6",
            "gridcolor": "white",
            "gridwidth": 2,
            "linecolor": "white",
            "showbackground": true,
            "ticks": "",
            "zerolinecolor": "white"
           },
           "yaxis": {
            "backgroundcolor": "#E5ECF6",
            "gridcolor": "white",
            "gridwidth": 2,
            "linecolor": "white",
            "showbackground": true,
            "ticks": "",
            "zerolinecolor": "white"
           },
           "zaxis": {
            "backgroundcolor": "#E5ECF6",
            "gridcolor": "white",
            "gridwidth": 2,
            "linecolor": "white",
            "showbackground": true,
            "ticks": "",
            "zerolinecolor": "white"
           }
          },
          "shapedefaults": {
           "line": {
            "color": "#2a3f5f"
           }
          },
          "ternary": {
           "aaxis": {
            "gridcolor": "white",
            "linecolor": "white",
            "ticks": ""
           },
           "baxis": {
            "gridcolor": "white",
            "linecolor": "white",
            "ticks": ""
           },
           "bgcolor": "#E5ECF6",
           "caxis": {
            "gridcolor": "white",
            "linecolor": "white",
            "ticks": ""
           }
          },
          "title": {
           "x": 0.05
          },
          "xaxis": {
           "automargin": true,
           "gridcolor": "white",
           "linecolor": "white",
           "ticks": "",
           "title": {
            "standoff": 15
           },
           "zerolinecolor": "white",
           "zerolinewidth": 2
          },
          "yaxis": {
           "automargin": true,
           "gridcolor": "white",
           "linecolor": "white",
           "ticks": "",
           "title": {
            "standoff": 15
           },
           "zerolinecolor": "white",
           "zerolinewidth": 2
          }
         }
        },
        "xaxis": {
         "anchor": "y",
         "domain": [
          0,
          1
         ],
         "title": {
          "text": "length"
         }
        },
        "yaxis": {
         "anchor": "x",
         "domain": [
          0,
          1
         ],
         "title": {
          "text": "count"
         }
        }
       }
      }
     },
     "metadata": {},
     "output_type": "display_data"
    }
   ],
   "source": [
    "df = df_sentence[[\"length_linguistics\", \"length_attentional\"]].melt().groupby([\"variable\", \"value\"], as_index=False).size().rename(columns={\"size\":\"count\",\n",
    "                                                                                                                              \"variable\":\"type\",\n",
    "                                                                                                                             \"value\":\"length\"})\n",
    "fig = px.line(df, x=\"length\", y=\"count\", color=\"type\")                                                                                                                        \n",
    "fig.show()\n",
    "# fig.write_html(\"../images/universal-dependencies/UD_EWT_length_linguistics_vs_attentional.html\")"
   ]
  },
  {
   "cell_type": "code",
   "execution_count": 718,
   "metadata": {},
   "outputs": [
    {
     "data": {
      "application/vnd.plotly.v1+json": {
       "config": {
        "plotlyServerURL": "https://plot.ly"
       },
       "data": [
        {
         "hovertemplate": "length_attentional=%{x}<br>score_attentional=%{y}<extra></extra>",
         "legendgroup": "",
         "line": {
          "color": "#636efa",
          "dash": "solid"
         },
         "marker": {
          "symbol": "circle"
         },
         "mode": "lines",
         "name": "",
         "orientation": "v",
         "showlegend": false,
         "type": "scatter",
         "x": [
          1,
          2,
          3,
          4,
          5,
          6,
          7,
          8,
          9,
          10,
          11,
          12,
          13,
          14,
          15,
          16,
          17,
          18,
          19,
          20,
          21,
          22,
          23,
          24,
          25,
          26,
          27,
          28,
          29,
          30,
          31,
          32,
          33,
          34,
          35,
          36,
          37,
          38,
          39,
          40,
          41,
          42,
          43,
          44,
          45,
          46,
          47,
          48,
          49,
          50,
          51,
          52,
          53,
          54,
          55,
          56,
          57,
          58,
          59,
          60,
          61,
          62,
          63,
          64,
          65,
          67,
          68,
          69,
          72,
          73,
          75,
          78,
          79,
          80,
          82,
          83,
          86,
          87,
          90,
          91,
          92,
          117
         ],
         "xaxis": "x",
         "y": [
          0,
          0.46759676602151656,
          0.7797007878621419,
          1.0974803813572587,
          1.3921916547574495,
          1.6647682332992553,
          1.931150936634741,
          2.1894058050478207,
          2.445216035438796,
          2.6849204812731062,
          2.9137097072601317,
          3.1518171939974517,
          3.397114781500066,
          3.6244679243668267,
          3.849155461022613,
          4.0930104433600585,
          4.319416481018067,
          4.569335900464104,
          4.763909780062162,
          5.021552567254929,
          5.232739520795418,
          5.533434179094103,
          5.685424759581283,
          5.960184161582689,
          6.149168796539307,
          6.413061907416896,
          6.608112812042236,
          6.803151921792463,
          7.102689241108141,
          7.325037866830826,
          7.5083898996051985,
          7.774839673723493,
          7.958897127824671,
          8.107111049420906,
          8.479824522267217,
          8.570969776673751,
          8.834241912478493,
          8.985300302505493,
          9.336145344902487,
          9.616286315917968,
          9.681203079223632,
          9.939550287583295,
          10.371906504911536,
          10.378129111395943,
          10.592257817586264,
          10.766597270965576,
          11.0652437210083,
          11.42544542948405,
          11.7323823928833,
          11.827372908592224,
          12.081426620483398,
          12.230613299778529,
          12.514819675021702,
          12.491669654846191,
          12.891597535875109,
          12.879968643188477,
          13.077488218035016,
          13.59608507156372,
          13.458426203046526,
          14.183264541625977,
          14.376480102539062,
          14.328760147094727,
          14.57298469543457,
          14.26524829864502,
          14.654294729232788,
          15.48278776804606,
          16.301592350006104,
          15.718311627705893,
          16.489510854085285,
          16.53038279215495,
          16.40391731262207,
          17.524712244669598,
          17.067699432373047,
          18.37034797668457,
          18.005128860473633,
          17.96815299987793,
          19.32347869873047,
          19.751750946044922,
          20.921119689941406,
          20.526619911193848,
          21.089262008666992,
          26.29495620727539
         ],
         "yaxis": "y"
        }
       ],
       "layout": {
        "legend": {
         "tracegroupgap": 0
        },
        "margin": {
         "t": 60
        },
        "template": {
         "data": {
          "bar": [
           {
            "error_x": {
             "color": "#2a3f5f"
            },
            "error_y": {
             "color": "#2a3f5f"
            },
            "marker": {
             "line": {
              "color": "#E5ECF6",
              "width": 0.5
             },
             "pattern": {
              "fillmode": "overlay",
              "size": 10,
              "solidity": 0.2
             }
            },
            "type": "bar"
           }
          ],
          "barpolar": [
           {
            "marker": {
             "line": {
              "color": "#E5ECF6",
              "width": 0.5
             },
             "pattern": {
              "fillmode": "overlay",
              "size": 10,
              "solidity": 0.2
             }
            },
            "type": "barpolar"
           }
          ],
          "carpet": [
           {
            "aaxis": {
             "endlinecolor": "#2a3f5f",
             "gridcolor": "white",
             "linecolor": "white",
             "minorgridcolor": "white",
             "startlinecolor": "#2a3f5f"
            },
            "baxis": {
             "endlinecolor": "#2a3f5f",
             "gridcolor": "white",
             "linecolor": "white",
             "minorgridcolor": "white",
             "startlinecolor": "#2a3f5f"
            },
            "type": "carpet"
           }
          ],
          "choropleth": [
           {
            "colorbar": {
             "outlinewidth": 0,
             "ticks": ""
            },
            "type": "choropleth"
           }
          ],
          "contour": [
           {
            "colorbar": {
             "outlinewidth": 0,
             "ticks": ""
            },
            "colorscale": [
             [
              0,
              "#0d0887"
             ],
             [
              0.1111111111111111,
              "#46039f"
             ],
             [
              0.2222222222222222,
              "#7201a8"
             ],
             [
              0.3333333333333333,
              "#9c179e"
             ],
             [
              0.4444444444444444,
              "#bd3786"
             ],
             [
              0.5555555555555556,
              "#d8576b"
             ],
             [
              0.6666666666666666,
              "#ed7953"
             ],
             [
              0.7777777777777778,
              "#fb9f3a"
             ],
             [
              0.8888888888888888,
              "#fdca26"
             ],
             [
              1,
              "#f0f921"
             ]
            ],
            "type": "contour"
           }
          ],
          "contourcarpet": [
           {
            "colorbar": {
             "outlinewidth": 0,
             "ticks": ""
            },
            "type": "contourcarpet"
           }
          ],
          "heatmap": [
           {
            "colorbar": {
             "outlinewidth": 0,
             "ticks": ""
            },
            "colorscale": [
             [
              0,
              "#0d0887"
             ],
             [
              0.1111111111111111,
              "#46039f"
             ],
             [
              0.2222222222222222,
              "#7201a8"
             ],
             [
              0.3333333333333333,
              "#9c179e"
             ],
             [
              0.4444444444444444,
              "#bd3786"
             ],
             [
              0.5555555555555556,
              "#d8576b"
             ],
             [
              0.6666666666666666,
              "#ed7953"
             ],
             [
              0.7777777777777778,
              "#fb9f3a"
             ],
             [
              0.8888888888888888,
              "#fdca26"
             ],
             [
              1,
              "#f0f921"
             ]
            ],
            "type": "heatmap"
           }
          ],
          "heatmapgl": [
           {
            "colorbar": {
             "outlinewidth": 0,
             "ticks": ""
            },
            "colorscale": [
             [
              0,
              "#0d0887"
             ],
             [
              0.1111111111111111,
              "#46039f"
             ],
             [
              0.2222222222222222,
              "#7201a8"
             ],
             [
              0.3333333333333333,
              "#9c179e"
             ],
             [
              0.4444444444444444,
              "#bd3786"
             ],
             [
              0.5555555555555556,
              "#d8576b"
             ],
             [
              0.6666666666666666,
              "#ed7953"
             ],
             [
              0.7777777777777778,
              "#fb9f3a"
             ],
             [
              0.8888888888888888,
              "#fdca26"
             ],
             [
              1,
              "#f0f921"
             ]
            ],
            "type": "heatmapgl"
           }
          ],
          "histogram": [
           {
            "marker": {
             "pattern": {
              "fillmode": "overlay",
              "size": 10,
              "solidity": 0.2
             }
            },
            "type": "histogram"
           }
          ],
          "histogram2d": [
           {
            "colorbar": {
             "outlinewidth": 0,
             "ticks": ""
            },
            "colorscale": [
             [
              0,
              "#0d0887"
             ],
             [
              0.1111111111111111,
              "#46039f"
             ],
             [
              0.2222222222222222,
              "#7201a8"
             ],
             [
              0.3333333333333333,
              "#9c179e"
             ],
             [
              0.4444444444444444,
              "#bd3786"
             ],
             [
              0.5555555555555556,
              "#d8576b"
             ],
             [
              0.6666666666666666,
              "#ed7953"
             ],
             [
              0.7777777777777778,
              "#fb9f3a"
             ],
             [
              0.8888888888888888,
              "#fdca26"
             ],
             [
              1,
              "#f0f921"
             ]
            ],
            "type": "histogram2d"
           }
          ],
          "histogram2dcontour": [
           {
            "colorbar": {
             "outlinewidth": 0,
             "ticks": ""
            },
            "colorscale": [
             [
              0,
              "#0d0887"
             ],
             [
              0.1111111111111111,
              "#46039f"
             ],
             [
              0.2222222222222222,
              "#7201a8"
             ],
             [
              0.3333333333333333,
              "#9c179e"
             ],
             [
              0.4444444444444444,
              "#bd3786"
             ],
             [
              0.5555555555555556,
              "#d8576b"
             ],
             [
              0.6666666666666666,
              "#ed7953"
             ],
             [
              0.7777777777777778,
              "#fb9f3a"
             ],
             [
              0.8888888888888888,
              "#fdca26"
             ],
             [
              1,
              "#f0f921"
             ]
            ],
            "type": "histogram2dcontour"
           }
          ],
          "mesh3d": [
           {
            "colorbar": {
             "outlinewidth": 0,
             "ticks": ""
            },
            "type": "mesh3d"
           }
          ],
          "parcoords": [
           {
            "line": {
             "colorbar": {
              "outlinewidth": 0,
              "ticks": ""
             }
            },
            "type": "parcoords"
           }
          ],
          "pie": [
           {
            "automargin": true,
            "type": "pie"
           }
          ],
          "scatter": [
           {
            "fillpattern": {
             "fillmode": "overlay",
             "size": 10,
             "solidity": 0.2
            },
            "type": "scatter"
           }
          ],
          "scatter3d": [
           {
            "line": {
             "colorbar": {
              "outlinewidth": 0,
              "ticks": ""
             }
            },
            "marker": {
             "colorbar": {
              "outlinewidth": 0,
              "ticks": ""
             }
            },
            "type": "scatter3d"
           }
          ],
          "scattercarpet": [
           {
            "marker": {
             "colorbar": {
              "outlinewidth": 0,
              "ticks": ""
             }
            },
            "type": "scattercarpet"
           }
          ],
          "scattergeo": [
           {
            "marker": {
             "colorbar": {
              "outlinewidth": 0,
              "ticks": ""
             }
            },
            "type": "scattergeo"
           }
          ],
          "scattergl": [
           {
            "marker": {
             "colorbar": {
              "outlinewidth": 0,
              "ticks": ""
             }
            },
            "type": "scattergl"
           }
          ],
          "scattermapbox": [
           {
            "marker": {
             "colorbar": {
              "outlinewidth": 0,
              "ticks": ""
             }
            },
            "type": "scattermapbox"
           }
          ],
          "scatterpolar": [
           {
            "marker": {
             "colorbar": {
              "outlinewidth": 0,
              "ticks": ""
             }
            },
            "type": "scatterpolar"
           }
          ],
          "scatterpolargl": [
           {
            "marker": {
             "colorbar": {
              "outlinewidth": 0,
              "ticks": ""
             }
            },
            "type": "scatterpolargl"
           }
          ],
          "scatterternary": [
           {
            "marker": {
             "colorbar": {
              "outlinewidth": 0,
              "ticks": ""
             }
            },
            "type": "scatterternary"
           }
          ],
          "surface": [
           {
            "colorbar": {
             "outlinewidth": 0,
             "ticks": ""
            },
            "colorscale": [
             [
              0,
              "#0d0887"
             ],
             [
              0.1111111111111111,
              "#46039f"
             ],
             [
              0.2222222222222222,
              "#7201a8"
             ],
             [
              0.3333333333333333,
              "#9c179e"
             ],
             [
              0.4444444444444444,
              "#bd3786"
             ],
             [
              0.5555555555555556,
              "#d8576b"
             ],
             [
              0.6666666666666666,
              "#ed7953"
             ],
             [
              0.7777777777777778,
              "#fb9f3a"
             ],
             [
              0.8888888888888888,
              "#fdca26"
             ],
             [
              1,
              "#f0f921"
             ]
            ],
            "type": "surface"
           }
          ],
          "table": [
           {
            "cells": {
             "fill": {
              "color": "#EBF0F8"
             },
             "line": {
              "color": "white"
             }
            },
            "header": {
             "fill": {
              "color": "#C8D4E3"
             },
             "line": {
              "color": "white"
             }
            },
            "type": "table"
           }
          ]
         },
         "layout": {
          "annotationdefaults": {
           "arrowcolor": "#2a3f5f",
           "arrowhead": 0,
           "arrowwidth": 1
          },
          "autotypenumbers": "strict",
          "coloraxis": {
           "colorbar": {
            "outlinewidth": 0,
            "ticks": ""
           }
          },
          "colorscale": {
           "diverging": [
            [
             0,
             "#8e0152"
            ],
            [
             0.1,
             "#c51b7d"
            ],
            [
             0.2,
             "#de77ae"
            ],
            [
             0.3,
             "#f1b6da"
            ],
            [
             0.4,
             "#fde0ef"
            ],
            [
             0.5,
             "#f7f7f7"
            ],
            [
             0.6,
             "#e6f5d0"
            ],
            [
             0.7,
             "#b8e186"
            ],
            [
             0.8,
             "#7fbc41"
            ],
            [
             0.9,
             "#4d9221"
            ],
            [
             1,
             "#276419"
            ]
           ],
           "sequential": [
            [
             0,
             "#0d0887"
            ],
            [
             0.1111111111111111,
             "#46039f"
            ],
            [
             0.2222222222222222,
             "#7201a8"
            ],
            [
             0.3333333333333333,
             "#9c179e"
            ],
            [
             0.4444444444444444,
             "#bd3786"
            ],
            [
             0.5555555555555556,
             "#d8576b"
            ],
            [
             0.6666666666666666,
             "#ed7953"
            ],
            [
             0.7777777777777778,
             "#fb9f3a"
            ],
            [
             0.8888888888888888,
             "#fdca26"
            ],
            [
             1,
             "#f0f921"
            ]
           ],
           "sequentialminus": [
            [
             0,
             "#0d0887"
            ],
            [
             0.1111111111111111,
             "#46039f"
            ],
            [
             0.2222222222222222,
             "#7201a8"
            ],
            [
             0.3333333333333333,
             "#9c179e"
            ],
            [
             0.4444444444444444,
             "#bd3786"
            ],
            [
             0.5555555555555556,
             "#d8576b"
            ],
            [
             0.6666666666666666,
             "#ed7953"
            ],
            [
             0.7777777777777778,
             "#fb9f3a"
            ],
            [
             0.8888888888888888,
             "#fdca26"
            ],
            [
             1,
             "#f0f921"
            ]
           ]
          },
          "colorway": [
           "#636efa",
           "#EF553B",
           "#00cc96",
           "#ab63fa",
           "#FFA15A",
           "#19d3f3",
           "#FF6692",
           "#B6E880",
           "#FF97FF",
           "#FECB52"
          ],
          "font": {
           "color": "#2a3f5f"
          },
          "geo": {
           "bgcolor": "white",
           "lakecolor": "white",
           "landcolor": "#E5ECF6",
           "showlakes": true,
           "showland": true,
           "subunitcolor": "white"
          },
          "hoverlabel": {
           "align": "left"
          },
          "hovermode": "closest",
          "mapbox": {
           "style": "light"
          },
          "paper_bgcolor": "white",
          "plot_bgcolor": "#E5ECF6",
          "polar": {
           "angularaxis": {
            "gridcolor": "white",
            "linecolor": "white",
            "ticks": ""
           },
           "bgcolor": "#E5ECF6",
           "radialaxis": {
            "gridcolor": "white",
            "linecolor": "white",
            "ticks": ""
           }
          },
          "scene": {
           "xaxis": {
            "backgroundcolor": "#E5ECF6",
            "gridcolor": "white",
            "gridwidth": 2,
            "linecolor": "white",
            "showbackground": true,
            "ticks": "",
            "zerolinecolor": "white"
           },
           "yaxis": {
            "backgroundcolor": "#E5ECF6",
            "gridcolor": "white",
            "gridwidth": 2,
            "linecolor": "white",
            "showbackground": true,
            "ticks": "",
            "zerolinecolor": "white"
           },
           "zaxis": {
            "backgroundcolor": "#E5ECF6",
            "gridcolor": "white",
            "gridwidth": 2,
            "linecolor": "white",
            "showbackground": true,
            "ticks": "",
            "zerolinecolor": "white"
           }
          },
          "shapedefaults": {
           "line": {
            "color": "#2a3f5f"
           }
          },
          "ternary": {
           "aaxis": {
            "gridcolor": "white",
            "linecolor": "white",
            "ticks": ""
           },
           "baxis": {
            "gridcolor": "white",
            "linecolor": "white",
            "ticks": ""
           },
           "bgcolor": "#E5ECF6",
           "caxis": {
            "gridcolor": "white",
            "linecolor": "white",
            "ticks": ""
           }
          },
          "title": {
           "x": 0.05
          },
          "xaxis": {
           "automargin": true,
           "gridcolor": "white",
           "linecolor": "white",
           "ticks": "",
           "title": {
            "standoff": 15
           },
           "zerolinecolor": "white",
           "zerolinewidth": 2
          },
          "yaxis": {
           "automargin": true,
           "gridcolor": "white",
           "linecolor": "white",
           "ticks": "",
           "title": {
            "standoff": 15
           },
           "zerolinecolor": "white",
           "zerolinewidth": 2
          }
         }
        },
        "xaxis": {
         "anchor": "y",
         "domain": [
          0,
          1
         ],
         "title": {
          "text": "length_attentional"
         }
        },
        "yaxis": {
         "anchor": "x",
         "domain": [
          0,
          1
         ],
         "title": {
          "text": "score_attentional"
         }
        }
       }
      }
     },
     "metadata": {},
     "output_type": "display_data"
    }
   ],
   "source": [
    "fig = px.line(df_sentence.groupby(\"length_attentional\", as_index=False).agg({\"score_attentional\":\"mean\"}),\n",
    "        x=\"length_attentional\", y=\"score_attentional\")\n",
    "fig.show()\n",
    "# fig.write_html(\"../images/universal-dependencies/UD_EWT_mean_attentional_score_vs_length.html\")"
   ]
  },
  {
   "cell_type": "markdown",
   "metadata": {},
   "source": [
    "### Correlation score attentional score linguistics"
   ]
  },
  {
   "cell_type": "code",
   "execution_count": 719,
   "metadata": {},
   "outputs": [
    {
     "data": {
      "text/html": [
       "<div>\n",
       "<style scoped>\n",
       "    .dataframe tbody tr th:only-of-type {\n",
       "        vertical-align: middle;\n",
       "    }\n",
       "\n",
       "    .dataframe tbody tr th {\n",
       "        vertical-align: top;\n",
       "    }\n",
       "\n",
       "    .dataframe thead th {\n",
       "        text-align: right;\n",
       "    }\n",
       "</style>\n",
       "<table border=\"1\" class=\"dataframe\">\n",
       "  <thead>\n",
       "    <tr style=\"text-align: right;\">\n",
       "      <th></th>\n",
       "      <th>sentence_id</th>\n",
       "      <th>score_attentional</th>\n",
       "      <th>length_attentional</th>\n",
       "      <th>length_linguistics</th>\n",
       "    </tr>\n",
       "  </thead>\n",
       "  <tbody>\n",
       "    <tr>\n",
       "      <th>0</th>\n",
       "      <td>0</td>\n",
       "      <td>0.472728</td>\n",
       "      <td>2</td>\n",
       "      <td>2</td>\n",
       "    </tr>\n",
       "    <tr>\n",
       "      <th>1</th>\n",
       "      <td>1</td>\n",
       "      <td>1.603659</td>\n",
       "      <td>6</td>\n",
       "      <td>5</td>\n",
       "    </tr>\n",
       "    <tr>\n",
       "      <th>2</th>\n",
       "      <td>2</td>\n",
       "      <td>4.102909</td>\n",
       "      <td>15</td>\n",
       "      <td>15</td>\n",
       "    </tr>\n",
       "    <tr>\n",
       "      <th>3</th>\n",
       "      <td>3</td>\n",
       "      <td>4.229439</td>\n",
       "      <td>16</td>\n",
       "      <td>14</td>\n",
       "    </tr>\n",
       "    <tr>\n",
       "      <th>6</th>\n",
       "      <td>6</td>\n",
       "      <td>7.976808</td>\n",
       "      <td>31</td>\n",
       "      <td>26</td>\n",
       "    </tr>\n",
       "    <tr>\n",
       "      <th>...</th>\n",
       "      <td>...</td>\n",
       "      <td>...</td>\n",
       "      <td>...</td>\n",
       "      <td>...</td>\n",
       "    </tr>\n",
       "    <tr>\n",
       "      <th>3170</th>\n",
       "      <td>3170</td>\n",
       "      <td>1.465207</td>\n",
       "      <td>5</td>\n",
       "      <td>5</td>\n",
       "    </tr>\n",
       "    <tr>\n",
       "      <th>3172</th>\n",
       "      <td>3172</td>\n",
       "      <td>7.829453</td>\n",
       "      <td>32</td>\n",
       "      <td>29</td>\n",
       "    </tr>\n",
       "    <tr>\n",
       "      <th>3173</th>\n",
       "      <td>3173</td>\n",
       "      <td>2.812665</td>\n",
       "      <td>10</td>\n",
       "      <td>8</td>\n",
       "    </tr>\n",
       "    <tr>\n",
       "      <th>3174</th>\n",
       "      <td>3174</td>\n",
       "      <td>1.862254</td>\n",
       "      <td>7</td>\n",
       "      <td>7</td>\n",
       "    </tr>\n",
       "    <tr>\n",
       "      <th>3175</th>\n",
       "      <td>3175</td>\n",
       "      <td>3.281637</td>\n",
       "      <td>12</td>\n",
       "      <td>12</td>\n",
       "    </tr>\n",
       "  </tbody>\n",
       "</table>\n",
       "<p>2931 rows × 4 columns</p>\n",
       "</div>"
      ],
      "text/plain": [
       "      sentence_id  score_attentional  length_attentional  length_linguistics\n",
       "0               0           0.472728                   2                   2\n",
       "1               1           1.603659                   6                   5\n",
       "2               2           4.102909                  15                  15\n",
       "3               3           4.229439                  16                  14\n",
       "6               6           7.976808                  31                  26\n",
       "...           ...                ...                 ...                 ...\n",
       "3170         3170           1.465207                   5                   5\n",
       "3172         3172           7.829453                  32                  29\n",
       "3173         3173           2.812665                  10                   8\n",
       "3174         3174           1.862254                   7                   7\n",
       "3175         3175           3.281637                  12                  12\n",
       "\n",
       "[2931 rows x 4 columns]"
      ]
     },
     "execution_count": 719,
     "metadata": {},
     "output_type": "execute_result"
    }
   ],
   "source": [
    "df_sentence = df_sentence.loc[(df_sentence[\"length_attentional\"]<=50) & (df_sentence[\"length_attentional\"]>=2)]\n",
    "mask = np.minimum((df_sentence[\"length_attentional\"]/df_sentence[\"length_linguistics\"]).values,(df_sentence[\"length_linguistics\"]/df_sentence[\"length_attentional\"]).values)>0.75\n",
    "df_sentence = df_sentence.loc[mask]\n",
    "df_sentence"
   ]
  },
  {
   "cell_type": "code",
   "execution_count": 720,
   "metadata": {},
   "outputs": [
    {
     "name": "stderr",
     "output_type": "stream",
     "text": [
      "/tmp/ipykernel_48539/2537113450.py:12: ConstantInputWarning:\n",
      "\n",
      "An input array is constant; the correlation coefficient is not defined.\n",
      "\n",
      "/tmp/ipykernel_48539/2537113450.py:12: ConstantInputWarning:\n",
      "\n",
      "An input array is constant; the correlation coefficient is not defined.\n",
      "\n",
      "/tmp/ipykernel_48539/2537113450.py:12: ConstantInputWarning:\n",
      "\n",
      "An input array is constant; the correlation coefficient is not defined.\n",
      "\n",
      "/tmp/ipykernel_48539/2537113450.py:12: ConstantInputWarning:\n",
      "\n",
      "An input array is constant; the correlation coefficient is not defined.\n",
      "\n",
      "/tmp/ipykernel_48539/2537113450.py:12: ConstantInputWarning:\n",
      "\n",
      "An input array is constant; the correlation coefficient is not defined.\n",
      "\n",
      "/tmp/ipykernel_48539/2537113450.py:12: ConstantInputWarning:\n",
      "\n",
      "An input array is constant; the correlation coefficient is not defined.\n",
      "\n",
      "/tmp/ipykernel_48539/2537113450.py:12: ConstantInputWarning:\n",
      "\n",
      "An input array is constant; the correlation coefficient is not defined.\n",
      "\n",
      "/tmp/ipykernel_48539/2537113450.py:12: ConstantInputWarning:\n",
      "\n",
      "An input array is constant; the correlation coefficient is not defined.\n",
      "\n",
      "/tmp/ipykernel_48539/2537113450.py:12: ConstantInputWarning:\n",
      "\n",
      "An input array is constant; the correlation coefficient is not defined.\n",
      "\n",
      "/tmp/ipykernel_48539/2537113450.py:12: ConstantInputWarning:\n",
      "\n",
      "An input array is constant; the correlation coefficient is not defined.\n",
      "\n",
      "/tmp/ipykernel_48539/2537113450.py:12: ConstantInputWarning:\n",
      "\n",
      "An input array is constant; the correlation coefficient is not defined.\n",
      "\n",
      "/tmp/ipykernel_48539/2537113450.py:12: ConstantInputWarning:\n",
      "\n",
      "An input array is constant; the correlation coefficient is not defined.\n",
      "\n",
      "/tmp/ipykernel_48539/2537113450.py:12: ConstantInputWarning:\n",
      "\n",
      "An input array is constant; the correlation coefficient is not defined.\n",
      "\n",
      "/tmp/ipykernel_48539/2537113450.py:12: ConstantInputWarning:\n",
      "\n",
      "An input array is constant; the correlation coefficient is not defined.\n",
      "\n",
      "/tmp/ipykernel_48539/2537113450.py:12: ConstantInputWarning:\n",
      "\n",
      "An input array is constant; the correlation coefficient is not defined.\n",
      "\n",
      "/tmp/ipykernel_48539/2537113450.py:12: ConstantInputWarning:\n",
      "\n",
      "An input array is constant; the correlation coefficient is not defined.\n",
      "\n",
      "/tmp/ipykernel_48539/2537113450.py:12: ConstantInputWarning:\n",
      "\n",
      "An input array is constant; the correlation coefficient is not defined.\n",
      "\n",
      "/tmp/ipykernel_48539/2537113450.py:12: ConstantInputWarning:\n",
      "\n",
      "An input array is constant; the correlation coefficient is not defined.\n",
      "\n",
      "/tmp/ipykernel_48539/2537113450.py:12: ConstantInputWarning:\n",
      "\n",
      "An input array is constant; the correlation coefficient is not defined.\n",
      "\n",
      "/tmp/ipykernel_48539/2537113450.py:12: ConstantInputWarning:\n",
      "\n",
      "An input array is constant; the correlation coefficient is not defined.\n",
      "\n",
      "/tmp/ipykernel_48539/2537113450.py:12: ConstantInputWarning:\n",
      "\n",
      "An input array is constant; the correlation coefficient is not defined.\n",
      "\n",
      "/tmp/ipykernel_48539/2537113450.py:12: ConstantInputWarning:\n",
      "\n",
      "An input array is constant; the correlation coefficient is not defined.\n",
      "\n",
      "/tmp/ipykernel_48539/2537113450.py:12: ConstantInputWarning:\n",
      "\n",
      "An input array is constant; the correlation coefficient is not defined.\n",
      "\n",
      "/tmp/ipykernel_48539/2537113450.py:12: ConstantInputWarning:\n",
      "\n",
      "An input array is constant; the correlation coefficient is not defined.\n",
      "\n",
      "/tmp/ipykernel_48539/2537113450.py:12: ConstantInputWarning:\n",
      "\n",
      "An input array is constant; the correlation coefficient is not defined.\n",
      "\n",
      "/tmp/ipykernel_48539/2537113450.py:12: ConstantInputWarning:\n",
      "\n",
      "An input array is constant; the correlation coefficient is not defined.\n",
      "\n",
      "/tmp/ipykernel_48539/2537113450.py:12: ConstantInputWarning:\n",
      "\n",
      "An input array is constant; the correlation coefficient is not defined.\n",
      "\n",
      "/tmp/ipykernel_48539/2537113450.py:12: ConstantInputWarning:\n",
      "\n",
      "An input array is constant; the correlation coefficient is not defined.\n",
      "\n",
      "/tmp/ipykernel_48539/2537113450.py:12: ConstantInputWarning:\n",
      "\n",
      "An input array is constant; the correlation coefficient is not defined.\n",
      "\n",
      "/tmp/ipykernel_48539/2537113450.py:12: ConstantInputWarning:\n",
      "\n",
      "An input array is constant; the correlation coefficient is not defined.\n",
      "\n",
      "/tmp/ipykernel_48539/2537113450.py:12: ConstantInputWarning:\n",
      "\n",
      "An input array is constant; the correlation coefficient is not defined.\n",
      "\n",
      "/tmp/ipykernel_48539/2537113450.py:12: ConstantInputWarning:\n",
      "\n",
      "An input array is constant; the correlation coefficient is not defined.\n",
      "\n",
      "/tmp/ipykernel_48539/2537113450.py:12: ConstantInputWarning:\n",
      "\n",
      "An input array is constant; the correlation coefficient is not defined.\n",
      "\n",
      "/tmp/ipykernel_48539/2537113450.py:12: ConstantInputWarning:\n",
      "\n",
      "An input array is constant; the correlation coefficient is not defined.\n",
      "\n",
      "/tmp/ipykernel_48539/2537113450.py:12: ConstantInputWarning:\n",
      "\n",
      "An input array is constant; the correlation coefficient is not defined.\n",
      "\n",
      "/tmp/ipykernel_48539/2537113450.py:12: ConstantInputWarning:\n",
      "\n",
      "An input array is constant; the correlation coefficient is not defined.\n",
      "\n",
      "/tmp/ipykernel_48539/2537113450.py:12: ConstantInputWarning:\n",
      "\n",
      "An input array is constant; the correlation coefficient is not defined.\n",
      "\n",
      "/tmp/ipykernel_48539/2537113450.py:12: ConstantInputWarning:\n",
      "\n",
      "An input array is constant; the correlation coefficient is not defined.\n",
      "\n",
      "/tmp/ipykernel_48539/2537113450.py:12: ConstantInputWarning:\n",
      "\n",
      "An input array is constant; the correlation coefficient is not defined.\n",
      "\n",
      "/tmp/ipykernel_48539/2537113450.py:12: ConstantInputWarning:\n",
      "\n",
      "An input array is constant; the correlation coefficient is not defined.\n",
      "\n",
      "/tmp/ipykernel_48539/2537113450.py:12: ConstantInputWarning:\n",
      "\n",
      "An input array is constant; the correlation coefficient is not defined.\n",
      "\n",
      "/tmp/ipykernel_48539/2537113450.py:12: ConstantInputWarning:\n",
      "\n",
      "An input array is constant; the correlation coefficient is not defined.\n",
      "\n",
      "/tmp/ipykernel_48539/2537113450.py:12: ConstantInputWarning:\n",
      "\n",
      "An input array is constant; the correlation coefficient is not defined.\n",
      "\n",
      "/tmp/ipykernel_48539/2537113450.py:12: ConstantInputWarning:\n",
      "\n",
      "An input array is constant; the correlation coefficient is not defined.\n",
      "\n",
      "/tmp/ipykernel_48539/2537113450.py:12: ConstantInputWarning:\n",
      "\n",
      "An input array is constant; the correlation coefficient is not defined.\n",
      "\n",
      "/tmp/ipykernel_48539/2537113450.py:12: ConstantInputWarning:\n",
      "\n",
      "An input array is constant; the correlation coefficient is not defined.\n",
      "\n",
      "/tmp/ipykernel_48539/2537113450.py:12: ConstantInputWarning:\n",
      "\n",
      "An input array is constant; the correlation coefficient is not defined.\n",
      "\n",
      "/tmp/ipykernel_48539/2537113450.py:12: ConstantInputWarning:\n",
      "\n",
      "An input array is constant; the correlation coefficient is not defined.\n",
      "\n",
      "/tmp/ipykernel_48539/2537113450.py:12: ConstantInputWarning:\n",
      "\n",
      "An input array is constant; the correlation coefficient is not defined.\n",
      "\n",
      "/tmp/ipykernel_48539/2537113450.py:12: ConstantInputWarning:\n",
      "\n",
      "An input array is constant; the correlation coefficient is not defined.\n",
      "\n",
      "/tmp/ipykernel_48539/2537113450.py:12: ConstantInputWarning:\n",
      "\n",
      "An input array is constant; the correlation coefficient is not defined.\n",
      "\n",
      "/tmp/ipykernel_48539/2537113450.py:12: ConstantInputWarning:\n",
      "\n",
      "An input array is constant; the correlation coefficient is not defined.\n",
      "\n",
      "/tmp/ipykernel_48539/2537113450.py:12: ConstantInputWarning:\n",
      "\n",
      "An input array is constant; the correlation coefficient is not defined.\n",
      "\n",
      "/tmp/ipykernel_48539/2537113450.py:12: ConstantInputWarning:\n",
      "\n",
      "An input array is constant; the correlation coefficient is not defined.\n",
      "\n",
      "/tmp/ipykernel_48539/2537113450.py:12: ConstantInputWarning:\n",
      "\n",
      "An input array is constant; the correlation coefficient is not defined.\n",
      "\n",
      "/tmp/ipykernel_48539/2537113450.py:12: ConstantInputWarning:\n",
      "\n",
      "An input array is constant; the correlation coefficient is not defined.\n",
      "\n",
      "/tmp/ipykernel_48539/2537113450.py:12: ConstantInputWarning:\n",
      "\n",
      "An input array is constant; the correlation coefficient is not defined.\n",
      "\n",
      "/tmp/ipykernel_48539/2537113450.py:12: ConstantInputWarning:\n",
      "\n",
      "An input array is constant; the correlation coefficient is not defined.\n",
      "\n",
      "/tmp/ipykernel_48539/2537113450.py:12: ConstantInputWarning:\n",
      "\n",
      "An input array is constant; the correlation coefficient is not defined.\n",
      "\n",
      "/tmp/ipykernel_48539/2537113450.py:12: ConstantInputWarning:\n",
      "\n",
      "An input array is constant; the correlation coefficient is not defined.\n",
      "\n",
      "/tmp/ipykernel_48539/2537113450.py:12: ConstantInputWarning:\n",
      "\n",
      "An input array is constant; the correlation coefficient is not defined.\n",
      "\n",
      "/tmp/ipykernel_48539/2537113450.py:12: ConstantInputWarning:\n",
      "\n",
      "An input array is constant; the correlation coefficient is not defined.\n",
      "\n",
      "/tmp/ipykernel_48539/2537113450.py:12: ConstantInputWarning:\n",
      "\n",
      "An input array is constant; the correlation coefficient is not defined.\n",
      "\n",
      "/tmp/ipykernel_48539/2537113450.py:12: ConstantInputWarning:\n",
      "\n",
      "An input array is constant; the correlation coefficient is not defined.\n",
      "\n",
      "/tmp/ipykernel_48539/2537113450.py:12: ConstantInputWarning:\n",
      "\n",
      "An input array is constant; the correlation coefficient is not defined.\n",
      "\n",
      "/tmp/ipykernel_48539/2537113450.py:12: ConstantInputWarning:\n",
      "\n",
      "An input array is constant; the correlation coefficient is not defined.\n",
      "\n",
      "/tmp/ipykernel_48539/2537113450.py:12: ConstantInputWarning:\n",
      "\n",
      "An input array is constant; the correlation coefficient is not defined.\n",
      "\n",
      "/tmp/ipykernel_48539/2537113450.py:12: ConstantInputWarning:\n",
      "\n",
      "An input array is constant; the correlation coefficient is not defined.\n",
      "\n",
      "/tmp/ipykernel_48539/2537113450.py:12: ConstantInputWarning:\n",
      "\n",
      "An input array is constant; the correlation coefficient is not defined.\n",
      "\n",
      "/tmp/ipykernel_48539/2537113450.py:12: ConstantInputWarning:\n",
      "\n",
      "An input array is constant; the correlation coefficient is not defined.\n",
      "\n",
      "/tmp/ipykernel_48539/2537113450.py:12: ConstantInputWarning:\n",
      "\n",
      "An input array is constant; the correlation coefficient is not defined.\n",
      "\n",
      "/tmp/ipykernel_48539/2537113450.py:12: ConstantInputWarning:\n",
      "\n",
      "An input array is constant; the correlation coefficient is not defined.\n",
      "\n",
      "/tmp/ipykernel_48539/2537113450.py:12: ConstantInputWarning:\n",
      "\n",
      "An input array is constant; the correlation coefficient is not defined.\n",
      "\n",
      "/tmp/ipykernel_48539/2537113450.py:12: ConstantInputWarning:\n",
      "\n",
      "An input array is constant; the correlation coefficient is not defined.\n",
      "\n",
      "/tmp/ipykernel_48539/2537113450.py:12: ConstantInputWarning:\n",
      "\n",
      "An input array is constant; the correlation coefficient is not defined.\n",
      "\n",
      "/tmp/ipykernel_48539/2537113450.py:12: ConstantInputWarning:\n",
      "\n",
      "An input array is constant; the correlation coefficient is not defined.\n",
      "\n",
      "/tmp/ipykernel_48539/2537113450.py:12: ConstantInputWarning:\n",
      "\n",
      "An input array is constant; the correlation coefficient is not defined.\n",
      "\n",
      "/tmp/ipykernel_48539/2537113450.py:12: ConstantInputWarning:\n",
      "\n",
      "An input array is constant; the correlation coefficient is not defined.\n",
      "\n",
      "/tmp/ipykernel_48539/2537113450.py:12: ConstantInputWarning:\n",
      "\n",
      "An input array is constant; the correlation coefficient is not defined.\n",
      "\n",
      "/tmp/ipykernel_48539/2537113450.py:12: ConstantInputWarning:\n",
      "\n",
      "An input array is constant; the correlation coefficient is not defined.\n",
      "\n",
      "/tmp/ipykernel_48539/2537113450.py:12: ConstantInputWarning:\n",
      "\n",
      "An input array is constant; the correlation coefficient is not defined.\n",
      "\n",
      "/tmp/ipykernel_48539/2537113450.py:12: ConstantInputWarning:\n",
      "\n",
      "An input array is constant; the correlation coefficient is not defined.\n",
      "\n",
      "/tmp/ipykernel_48539/2537113450.py:12: ConstantInputWarning:\n",
      "\n",
      "An input array is constant; the correlation coefficient is not defined.\n",
      "\n",
      "/tmp/ipykernel_48539/2537113450.py:12: ConstantInputWarning:\n",
      "\n",
      "An input array is constant; the correlation coefficient is not defined.\n",
      "\n",
      "/tmp/ipykernel_48539/2537113450.py:12: ConstantInputWarning:\n",
      "\n",
      "An input array is constant; the correlation coefficient is not defined.\n",
      "\n",
      "/tmp/ipykernel_48539/2537113450.py:12: ConstantInputWarning:\n",
      "\n",
      "An input array is constant; the correlation coefficient is not defined.\n",
      "\n",
      "/tmp/ipykernel_48539/2537113450.py:12: ConstantInputWarning:\n",
      "\n",
      "An input array is constant; the correlation coefficient is not defined.\n",
      "\n",
      "/tmp/ipykernel_48539/2537113450.py:12: ConstantInputWarning:\n",
      "\n",
      "An input array is constant; the correlation coefficient is not defined.\n",
      "\n",
      "/tmp/ipykernel_48539/2537113450.py:12: ConstantInputWarning:\n",
      "\n",
      "An input array is constant; the correlation coefficient is not defined.\n",
      "\n",
      "/tmp/ipykernel_48539/2537113450.py:12: ConstantInputWarning:\n",
      "\n",
      "An input array is constant; the correlation coefficient is not defined.\n",
      "\n",
      "/tmp/ipykernel_48539/2537113450.py:12: ConstantInputWarning:\n",
      "\n",
      "An input array is constant; the correlation coefficient is not defined.\n",
      "\n",
      "/tmp/ipykernel_48539/2537113450.py:12: ConstantInputWarning:\n",
      "\n",
      "An input array is constant; the correlation coefficient is not defined.\n",
      "\n",
      "/tmp/ipykernel_48539/2537113450.py:12: ConstantInputWarning:\n",
      "\n",
      "An input array is constant; the correlation coefficient is not defined.\n",
      "\n",
      "/tmp/ipykernel_48539/2537113450.py:12: ConstantInputWarning:\n",
      "\n",
      "An input array is constant; the correlation coefficient is not defined.\n",
      "\n",
      "/tmp/ipykernel_48539/2537113450.py:12: ConstantInputWarning:\n",
      "\n",
      "An input array is constant; the correlation coefficient is not defined.\n",
      "\n",
      "/tmp/ipykernel_48539/2537113450.py:12: ConstantInputWarning:\n",
      "\n",
      "An input array is constant; the correlation coefficient is not defined.\n",
      "\n",
      "/tmp/ipykernel_48539/2537113450.py:12: ConstantInputWarning:\n",
      "\n",
      "An input array is constant; the correlation coefficient is not defined.\n",
      "\n",
      "/tmp/ipykernel_48539/2537113450.py:12: ConstantInputWarning:\n",
      "\n",
      "An input array is constant; the correlation coefficient is not defined.\n",
      "\n"
     ]
    }
   ],
   "source": [
    "l_df_spearman = []\n",
    "for deprel in df_ud[\"deprel_universal\"].unique():\n",
    "    df = pd.merge(df_sentence\n",
    "        ,df_ud.loc[(df_ud[\"sentence_id\"].isin(df_sentence[\"sentence_id\"]))&(df_ud[\"deprel_universal\"]==deprel)].groupby(\"sentence_id\").agg({\"abs_length_relation\":\"mean\"}).reset_index().rename(columns={\"abs_length_relation\":\"score_linguistics\"})\n",
    "        ,how=\"inner\", on=\"sentence_id\")\n",
    "    # df[\"score_linguistics_normalized\"] = df[\"score_linguistics\"]/df[\"length_linguistics\"]\n",
    "    l_spearmanr = []\n",
    "    for length_attentional in np.sort(df[\"length_attentional\"].unique()):\n",
    "        a = df.loc[df[\"length_attentional\"]==length_attentional, [\"score_attentional\", \"score_linguistics\"]].values\n",
    "        a_attentional = a[:, 0]\n",
    "        a_linguistics = a[:, 1]\n",
    "        spearmanr = scipy.stats.spearmanr(a_attentional, a_linguistics)\n",
    "        l_spearmanr.append((deprel, length_attentional, spearmanr.correlation, spearmanr.pvalue, len(a)))\n",
    "    l_df_spearman.append(pd.DataFrame(l_spearmanr, columns=[\"deprel\", \"length_attentional\", \"correlation\", \"pvalue\", \"size\"]))"
   ]
  },
  {
   "cell_type": "code",
   "execution_count": 721,
   "metadata": {},
   "outputs": [
    {
     "data": {
      "text/html": [
       "<div>\n",
       "<style scoped>\n",
       "    .dataframe tbody tr th:only-of-type {\n",
       "        vertical-align: middle;\n",
       "    }\n",
       "\n",
       "    .dataframe tbody tr th {\n",
       "        vertical-align: top;\n",
       "    }\n",
       "\n",
       "    .dataframe thead th {\n",
       "        text-align: right;\n",
       "    }\n",
       "</style>\n",
       "<table border=\"1\" class=\"dataframe\">\n",
       "  <thead>\n",
       "    <tr style=\"text-align: right;\">\n",
       "      <th></th>\n",
       "      <th>deprel</th>\n",
       "      <th>length_attentional</th>\n",
       "      <th>correlation</th>\n",
       "      <th>pvalue</th>\n",
       "      <th>size</th>\n",
       "      <th>has_significant_pvalue</th>\n",
       "    </tr>\n",
       "  </thead>\n",
       "  <tbody>\n",
       "    <tr>\n",
       "      <th>7</th>\n",
       "      <td>obj</td>\n",
       "      <td>9</td>\n",
       "      <td>-0.311822</td>\n",
       "      <td>0.041794</td>\n",
       "      <td>43</td>\n",
       "      <td>True</td>\n",
       "    </tr>\n",
       "    <tr>\n",
       "      <th>23</th>\n",
       "      <td>obj</td>\n",
       "      <td>25</td>\n",
       "      <td>0.292425</td>\n",
       "      <td>0.048600</td>\n",
       "      <td>46</td>\n",
       "      <td>True</td>\n",
       "    </tr>\n",
       "    <tr>\n",
       "      <th>11</th>\n",
       "      <td>case</td>\n",
       "      <td>14</td>\n",
       "      <td>0.296062</td>\n",
       "      <td>0.009909</td>\n",
       "      <td>75</td>\n",
       "      <td>True</td>\n",
       "    </tr>\n",
       "  </tbody>\n",
       "</table>\n",
       "</div>"
      ],
      "text/plain": [
       "   deprel  length_attentional  correlation    pvalue  size  \\\n",
       "7     obj                   9    -0.311822  0.041794    43   \n",
       "23    obj                  25     0.292425  0.048600    46   \n",
       "11   case                  14     0.296062  0.009909    75   \n",
       "\n",
       "    has_significant_pvalue  \n",
       "7                     True  \n",
       "23                    True  \n",
       "11                    True  "
      ]
     },
     "execution_count": 721,
     "metadata": {},
     "output_type": "execute_result"
    }
   ],
   "source": [
    "df_spearman = pd.concat(l_df_spearman).dropna()\n",
    "df_spearman[\"has_significant_pvalue\"] = df_spearman[\"pvalue\"]<0.05\n",
    "df_spearman = df_spearman.loc[(df_spearman[\"has_significant_pvalue\"])&(df_spearman[\"size\"]>10)&(~df_spearman[\"deprel\"].isin([\"punct\", \"root\"]))]\n",
    "df_spearman.head(3)"
   ]
  },
  {
   "cell_type": "code",
   "execution_count": 722,
   "metadata": {},
   "outputs": [
    {
     "data": {
      "application/vnd.plotly.v1+json": {
       "config": {
        "plotlyServerURL": "https://plot.ly"
       },
       "data": [
        {
         "customdata": [
          [
           "obj",
           0.041794214948412775,
           43
          ],
          [
           "obj",
           0.04860043035008696,
           46
          ]
         ],
         "hovertemplate": "deprel=%{customdata[0]}<br>length_attentional=%{x}<br>correlation=%{y}<br>pvalue=%{customdata[1]}<br>size=%{customdata[2]}<extra></extra>",
         "legendgroup": "obj",
         "marker": {
          "color": "#636efa",
          "symbol": "circle"
         },
         "mode": "markers",
         "name": "obj",
         "orientation": "v",
         "showlegend": true,
         "type": "scatter",
         "x": [
          9,
          25
         ],
         "xaxis": "x",
         "y": [
          -0.3118217124148201,
          0.2924245599166541
         ],
         "yaxis": "y"
        },
        {
         "customdata": [
          [
           "case",
           0.009908634185115991,
           75
          ],
          [
           "case",
           0.0422822888433067,
           46
          ]
         ],
         "hovertemplate": "deprel=%{customdata[0]}<br>length_attentional=%{x}<br>correlation=%{y}<br>pvalue=%{customdata[1]}<br>size=%{customdata[2]}<extra></extra>",
         "legendgroup": "case",
         "marker": {
          "color": "#EF553B",
          "symbol": "circle"
         },
         "mode": "markers",
         "name": "case",
         "orientation": "v",
         "showlegend": true,
         "type": "scatter",
         "x": [
          14,
          30
         ],
         "xaxis": "x",
         "y": [
          0.29606167700222985,
          0.30072094371130975
         ],
         "yaxis": "y"
        },
        {
         "customdata": [
          [
           "compound",
           0.012982546070632513,
           28
          ]
         ],
         "hovertemplate": "deprel=%{customdata[0]}<br>length_attentional=%{x}<br>correlation=%{y}<br>pvalue=%{customdata[1]}<br>size=%{customdata[2]}<extra></extra>",
         "legendgroup": "compound",
         "marker": {
          "color": "#00cc96",
          "symbol": "circle"
         },
         "mode": "markers",
         "name": "compound",
         "orientation": "v",
         "showlegend": true,
         "type": "scatter",
         "x": [
          21
         ],
         "xaxis": "x",
         "y": [
          0.463516353860788
         ],
         "yaxis": "y"
        },
        {
         "customdata": [
          [
           "nsubj",
           0.007976954247367612,
           49
          ],
          [
           "nsubj",
           0.0022184367678174002,
           73
          ],
          [
           "nsubj",
           0.0003522865534660173,
           82
          ],
          [
           "nsubj",
           0.013359846089972439,
           107
          ],
          [
           "nsubj",
           0.00005627942857808084,
           99
          ],
          [
           "nsubj",
           0.002320916228142019,
           132
          ],
          [
           "nsubj",
           0.0015653716756713549,
           132
          ],
          [
           "nsubj",
           0.001424981737612641,
           96
          ],
          [
           "nsubj",
           0.0361978925530223,
           121
          ],
          [
           "nsubj",
           0.011689567559339519,
           96
          ],
          [
           "nsubj",
           0.0024421137148874904,
           24
          ]
         ],
         "hovertemplate": "deprel=%{customdata[0]}<br>length_attentional=%{x}<br>correlation=%{y}<br>pvalue=%{customdata[1]}<br>size=%{customdata[2]}<extra></extra>",
         "legendgroup": "nsubj",
         "marker": {
          "color": "#ab63fa",
          "symbol": "circle"
         },
         "mode": "markers",
         "name": "nsubj",
         "orientation": "v",
         "showlegend": true,
         "type": "scatter",
         "x": [
          5,
          6,
          7,
          8,
          9,
          10,
          12,
          13,
          16,
          18,
          40
         ],
         "xaxis": "x",
         "y": [
          0.3747586591904366,
          0.3525770930456707,
          0.38519364476805923,
          0.23851247574695558,
          0.3933678142488461,
          0.26291991036020956,
          0.27260198081133075,
          0.3210728154244992,
          0.19065564164379667,
          0.2563791123387311,
          0.5893401476261207
         ],
         "yaxis": "y"
        },
        {
         "customdata": [
          [
           "det",
           0.0005253621631041075,
           21
          ],
          [
           "det",
           0.025148218125109992,
           17
          ]
         ],
         "hovertemplate": "deprel=%{customdata[0]}<br>length_attentional=%{x}<br>correlation=%{y}<br>pvalue=%{customdata[1]}<br>size=%{customdata[2]}<extra></extra>",
         "legendgroup": "det",
         "marker": {
          "color": "#FFA15A",
          "symbol": "circle"
         },
         "mode": "markers",
         "name": "det",
         "orientation": "v",
         "showlegend": true,
         "type": "scatter",
         "x": [
          36,
          43
         ],
         "xaxis": "x",
         "y": [
          0.6908648392010018,
          0.5403127054097774
         ],
         "yaxis": "y"
        },
        {
         "customdata": [
          [
           "nmod",
           0.010244335563027625,
           26
          ],
          [
           "nmod",
           0.006319556074295697,
           42
          ],
          [
           "nmod",
           0.022165491982449586,
           58
          ],
          [
           "nmod",
           0.048175829115677506,
           73
          ],
          [
           "nmod",
           0.007149608511108723,
           66
          ],
          [
           "nmod",
           0.0053444243251077545,
           34
          ],
          [
           "nmod",
           0.04721459482661408,
           47
          ],
          [
           "nmod",
           0.005658699023143003,
           41
          ],
          [
           "nmod",
           0.026787612997624565,
           33
          ],
          [
           "nmod",
           0.021471443432225314,
           21
          ],
          [
           "nmod",
           0.014316606802389442,
           15
          ]
         ],
         "hovertemplate": "deprel=%{customdata[0]}<br>length_attentional=%{x}<br>correlation=%{y}<br>pvalue=%{customdata[1]}<br>size=%{customdata[2]}<extra></extra>",
         "legendgroup": "nmod",
         "marker": {
          "color": "#19d3f3",
          "symbol": "circle"
         },
         "mode": "markers",
         "name": "nmod",
         "orientation": "v",
         "showlegend": true,
         "type": "scatter",
         "x": [
          8,
          13,
          15,
          17,
          19,
          28,
          29,
          30,
          31,
          40,
          43
         ],
         "xaxis": "x",
         "y": [
          0.4944150185986994,
          0.414715037849118,
          0.2999432171320451,
          0.23208920451961823,
          0.3281386785493504,
          0.46716188865331737,
          0.2909884347648503,
          0.4245964016642429,
          0.3853447602567911,
          0.4984018117889281,
          0.6168022088734721
         ],
         "yaxis": "y"
        },
        {
         "customdata": [
          [
           "aux",
           0.02289949455176825,
           11
          ],
          [
           "aux",
           0.00006849608782489852,
           48
          ],
          [
           "aux",
           0.02422226097416528,
           45
          ]
         ],
         "hovertemplate": "deprel=%{customdata[0]}<br>length_attentional=%{x}<br>correlation=%{y}<br>pvalue=%{customdata[1]}<br>size=%{customdata[2]}<extra></extra>",
         "legendgroup": "aux",
         "marker": {
          "color": "#FF6692",
          "symbol": "circle"
         },
         "mode": "markers",
         "name": "aux",
         "orientation": "v",
         "showlegend": true,
         "type": "scatter",
         "x": [
          5,
          9,
          23
         ],
         "xaxis": "x",
         "y": [
          0.6741998624632421,
          0.542297379487869,
          0.3355802450225359
         ],
         "yaxis": "y"
        },
        {
         "customdata": [
          [
           "advmod",
           0.04885647653273899,
           67
          ],
          [
           "advmod",
           0.01769517407661666,
           58
          ],
          [
           "advmod",
           0.027988508986097418,
           62
          ]
         ],
         "hovertemplate": "deprel=%{customdata[0]}<br>length_attentional=%{x}<br>correlation=%{y}<br>pvalue=%{customdata[1]}<br>size=%{customdata[2]}<extra></extra>",
         "legendgroup": "advmod",
         "marker": {
          "color": "#B6E880",
          "symbol": "circle"
         },
         "mode": "markers",
         "name": "advmod",
         "orientation": "v",
         "showlegend": true,
         "type": "scatter",
         "x": [
          16,
          19,
          20
         ],
         "xaxis": "x",
         "y": [
          0.24162288039385135,
          -0.31046962214818247,
          0.27918302265377976
         ],
         "yaxis": "y"
        },
        {
         "customdata": [
          [
           "cop",
           0.03427121705225219,
           12
          ],
          [
           "cop",
           0.025457643490033714,
           35
          ],
          [
           "cop",
           0.036137325296527266,
           42
          ]
         ],
         "hovertemplate": "deprel=%{customdata[0]}<br>length_attentional=%{x}<br>correlation=%{y}<br>pvalue=%{customdata[1]}<br>size=%{customdata[2]}<extra></extra>",
         "legendgroup": "cop",
         "marker": {
          "color": "#FF97FF",
          "symbol": "circle"
         },
         "mode": "markers",
         "name": "cop",
         "orientation": "v",
         "showlegend": true,
         "type": "scatter",
         "x": [
          7,
          10,
          11
         ],
         "xaxis": "x",
         "y": [
          0.6124163554000536,
          0.37730131304581727,
          0.32431484344322054
         ],
         "yaxis": "y"
        },
        {
         "customdata": [
          [
           "obl",
           0.032936806907237604,
           59
          ],
          [
           "obl",
           0.044527790903262074,
           13
          ]
         ],
         "hovertemplate": "deprel=%{customdata[0]}<br>length_attentional=%{x}<br>correlation=%{y}<br>pvalue=%{customdata[1]}<br>size=%{customdata[2]}<extra></extra>",
         "legendgroup": "obl",
         "marker": {
          "color": "#FECB52",
          "symbol": "circle"
         },
         "mode": "markers",
         "name": "obl",
         "orientation": "v",
         "showlegend": true,
         "type": "scatter",
         "x": [
          13,
          42
         ],
         "xaxis": "x",
         "y": [
          0.2781205158240505,
          0.5643288476341274
         ],
         "yaxis": "y"
        },
        {
         "customdata": [
          [
           "amod",
           0.035314452147255274,
           49
          ],
          [
           "amod",
           0.03876777164175848,
           21
          ],
          [
           "amod",
           0.006537925003600066,
           12
          ]
         ],
         "hovertemplate": "deprel=%{customdata[0]}<br>length_attentional=%{x}<br>correlation=%{y}<br>pvalue=%{customdata[1]}<br>size=%{customdata[2]}<extra></extra>",
         "legendgroup": "amod",
         "marker": {
          "color": "#636efa",
          "symbol": "circle"
         },
         "mode": "markers",
         "name": "amod",
         "orientation": "v",
         "showlegend": true,
         "type": "scatter",
         "x": [
          18,
          38,
          48
         ],
         "xaxis": "x",
         "y": [
          0.30142537584185136,
          0.45386365619592334,
          0.7343158832057565
         ],
         "yaxis": "y"
        },
        {
         "customdata": [
          [
           "cc",
           0.00365504476005405,
           14
          ],
          [
           "cc",
           0.0393983835753963,
           33
          ],
          [
           "cc",
           0.0027917988823942634,
           42
          ]
         ],
         "hovertemplate": "deprel=%{customdata[0]}<br>length_attentional=%{x}<br>correlation=%{y}<br>pvalue=%{customdata[1]}<br>size=%{customdata[2]}<extra></extra>",
         "legendgroup": "cc",
         "marker": {
          "color": "#EF553B",
          "symbol": "circle"
         },
         "mode": "markers",
         "name": "cc",
         "orientation": "v",
         "showlegend": true,
         "type": "scatter",
         "x": [
          10,
          16,
          23
         ],
         "xaxis": "x",
         "y": [
          0.7204454275818407,
          0.36034692972545607,
          0.4499580039888409
         ],
         "yaxis": "y"
        },
        {
         "customdata": [
          [
           "conj",
           0.034537338300298676,
           34
          ],
          [
           "conj",
           0.0015025101431385196,
           47
          ],
          [
           "conj",
           0.036547569351806856,
           29
          ],
          [
           "conj",
           0.01711027925755263,
           20
          ]
         ],
         "hovertemplate": "deprel=%{customdata[0]}<br>length_attentional=%{x}<br>correlation=%{y}<br>pvalue=%{customdata[1]}<br>size=%{customdata[2]}<extra></extra>",
         "legendgroup": "conj",
         "marker": {
          "color": "#00cc96",
          "symbol": "circle"
         },
         "mode": "markers",
         "name": "conj",
         "orientation": "v",
         "showlegend": true,
         "type": "scatter",
         "x": [
          16,
          23,
          32,
          38
         ],
         "xaxis": "x",
         "y": [
          0.36359292423110773,
          0.4500716357883276,
          0.38988345610266195,
          0.5263975685217386
         ],
         "yaxis": "y"
        },
        {
         "customdata": [
          [
           "mark",
           0.03710896542196608,
           24
          ]
         ],
         "hovertemplate": "deprel=%{customdata[0]}<br>length_attentional=%{x}<br>correlation=%{y}<br>pvalue=%{customdata[1]}<br>size=%{customdata[2]}<extra></extra>",
         "legendgroup": "mark",
         "marker": {
          "color": "#ab63fa",
          "symbol": "circle"
         },
         "mode": "markers",
         "name": "mark",
         "orientation": "v",
         "showlegend": true,
         "type": "scatter",
         "x": [
          31
         ],
         "xaxis": "x",
         "y": [
          0.42765333177102416
         ],
         "yaxis": "y"
        },
        {
         "customdata": [
          [
           "acl",
           0.03127499613070305,
           31
          ],
          [
           "acl",
           0.00023587721177245158,
           20
          ]
         ],
         "hovertemplate": "deprel=%{customdata[0]}<br>length_attentional=%{x}<br>correlation=%{y}<br>pvalue=%{customdata[1]}<br>size=%{customdata[2]}<extra></extra>",
         "legendgroup": "acl",
         "marker": {
          "color": "#FFA15A",
          "symbol": "circle"
         },
         "mode": "markers",
         "name": "acl",
         "orientation": "v",
         "showlegend": true,
         "type": "scatter",
         "x": [
          22,
          30
         ],
         "xaxis": "x",
         "y": [
          -0.38746001591473456,
          -0.7330863269194935
         ],
         "yaxis": "y"
        },
        {
         "customdata": [
          [
           "xcomp",
           0.0008642412538836223,
           13
          ]
         ],
         "hovertemplate": "deprel=%{customdata[0]}<br>length_attentional=%{x}<br>correlation=%{y}<br>pvalue=%{customdata[1]}<br>size=%{customdata[2]}<extra></extra>",
         "legendgroup": "xcomp",
         "marker": {
          "color": "#19d3f3",
          "symbol": "circle"
         },
         "mode": "markers",
         "name": "xcomp",
         "orientation": "v",
         "showlegend": true,
         "type": "scatter",
         "x": [
          30
         ],
         "xaxis": "x",
         "y": [
          0.8065793669601546
         ],
         "yaxis": "y"
        },
        {
         "customdata": [
          [
           "advcl",
           0.025720178153282928,
           31
          ],
          [
           "advcl",
           0.04798517947614062,
           25
          ],
          [
           "advcl",
           0.00013666650119314064,
           32
          ],
          [
           "advcl",
           0.017938580451183763,
           32
          ],
          [
           "advcl",
           0.031223665110501127,
           27
          ],
          [
           "advcl",
           0.02416442733694141,
           11
          ]
         ],
         "hovertemplate": "deprel=%{customdata[0]}<br>length_attentional=%{x}<br>correlation=%{y}<br>pvalue=%{customdata[1]}<br>size=%{customdata[2]}<extra></extra>",
         "legendgroup": "advcl",
         "marker": {
          "color": "#FF6692",
          "symbol": "circle"
         },
         "mode": "markers",
         "name": "advcl",
         "orientation": "v",
         "showlegend": true,
         "type": "scatter",
         "x": [
          17,
          20,
          21,
          22,
          24,
          48
         ],
         "xaxis": "x",
         "y": [
          0.40013368315758135,
          0.3993148007488493,
          0.6237311717883544,
          0.4158076879985663,
          0.4152980822245183,
          0.669752957118536
         ],
         "yaxis": "y"
        },
        {
         "customdata": [
          [
           "ccomp",
           0.038082152137807725,
           13
          ],
          [
           "ccomp",
           0.039315541987255787,
           15
          ]
         ],
         "hovertemplate": "deprel=%{customdata[0]}<br>length_attentional=%{x}<br>correlation=%{y}<br>pvalue=%{customdata[1]}<br>size=%{customdata[2]}<extra></extra>",
         "legendgroup": "ccomp",
         "marker": {
          "color": "#B6E880",
          "symbol": "circle"
         },
         "mode": "markers",
         "name": "ccomp",
         "orientation": "v",
         "showlegend": true,
         "type": "scatter",
         "x": [
          13,
          23
         ],
         "xaxis": "x",
         "y": [
          0.5791167087032106,
          -0.5362882079785147
         ],
         "yaxis": "y"
        }
       ],
       "layout": {
        "legend": {
         "title": {
          "text": "deprel"
         },
         "tracegroupgap": 0
        },
        "margin": {
         "t": 60
        },
        "template": {
         "data": {
          "bar": [
           {
            "error_x": {
             "color": "#2a3f5f"
            },
            "error_y": {
             "color": "#2a3f5f"
            },
            "marker": {
             "line": {
              "color": "#E5ECF6",
              "width": 0.5
             },
             "pattern": {
              "fillmode": "overlay",
              "size": 10,
              "solidity": 0.2
             }
            },
            "type": "bar"
           }
          ],
          "barpolar": [
           {
            "marker": {
             "line": {
              "color": "#E5ECF6",
              "width": 0.5
             },
             "pattern": {
              "fillmode": "overlay",
              "size": 10,
              "solidity": 0.2
             }
            },
            "type": "barpolar"
           }
          ],
          "carpet": [
           {
            "aaxis": {
             "endlinecolor": "#2a3f5f",
             "gridcolor": "white",
             "linecolor": "white",
             "minorgridcolor": "white",
             "startlinecolor": "#2a3f5f"
            },
            "baxis": {
             "endlinecolor": "#2a3f5f",
             "gridcolor": "white",
             "linecolor": "white",
             "minorgridcolor": "white",
             "startlinecolor": "#2a3f5f"
            },
            "type": "carpet"
           }
          ],
          "choropleth": [
           {
            "colorbar": {
             "outlinewidth": 0,
             "ticks": ""
            },
            "type": "choropleth"
           }
          ],
          "contour": [
           {
            "colorbar": {
             "outlinewidth": 0,
             "ticks": ""
            },
            "colorscale": [
             [
              0,
              "#0d0887"
             ],
             [
              0.1111111111111111,
              "#46039f"
             ],
             [
              0.2222222222222222,
              "#7201a8"
             ],
             [
              0.3333333333333333,
              "#9c179e"
             ],
             [
              0.4444444444444444,
              "#bd3786"
             ],
             [
              0.5555555555555556,
              "#d8576b"
             ],
             [
              0.6666666666666666,
              "#ed7953"
             ],
             [
              0.7777777777777778,
              "#fb9f3a"
             ],
             [
              0.8888888888888888,
              "#fdca26"
             ],
             [
              1,
              "#f0f921"
             ]
            ],
            "type": "contour"
           }
          ],
          "contourcarpet": [
           {
            "colorbar": {
             "outlinewidth": 0,
             "ticks": ""
            },
            "type": "contourcarpet"
           }
          ],
          "heatmap": [
           {
            "colorbar": {
             "outlinewidth": 0,
             "ticks": ""
            },
            "colorscale": [
             [
              0,
              "#0d0887"
             ],
             [
              0.1111111111111111,
              "#46039f"
             ],
             [
              0.2222222222222222,
              "#7201a8"
             ],
             [
              0.3333333333333333,
              "#9c179e"
             ],
             [
              0.4444444444444444,
              "#bd3786"
             ],
             [
              0.5555555555555556,
              "#d8576b"
             ],
             [
              0.6666666666666666,
              "#ed7953"
             ],
             [
              0.7777777777777778,
              "#fb9f3a"
             ],
             [
              0.8888888888888888,
              "#fdca26"
             ],
             [
              1,
              "#f0f921"
             ]
            ],
            "type": "heatmap"
           }
          ],
          "heatmapgl": [
           {
            "colorbar": {
             "outlinewidth": 0,
             "ticks": ""
            },
            "colorscale": [
             [
              0,
              "#0d0887"
             ],
             [
              0.1111111111111111,
              "#46039f"
             ],
             [
              0.2222222222222222,
              "#7201a8"
             ],
             [
              0.3333333333333333,
              "#9c179e"
             ],
             [
              0.4444444444444444,
              "#bd3786"
             ],
             [
              0.5555555555555556,
              "#d8576b"
             ],
             [
              0.6666666666666666,
              "#ed7953"
             ],
             [
              0.7777777777777778,
              "#fb9f3a"
             ],
             [
              0.8888888888888888,
              "#fdca26"
             ],
             [
              1,
              "#f0f921"
             ]
            ],
            "type": "heatmapgl"
           }
          ],
          "histogram": [
           {
            "marker": {
             "pattern": {
              "fillmode": "overlay",
              "size": 10,
              "solidity": 0.2
             }
            },
            "type": "histogram"
           }
          ],
          "histogram2d": [
           {
            "colorbar": {
             "outlinewidth": 0,
             "ticks": ""
            },
            "colorscale": [
             [
              0,
              "#0d0887"
             ],
             [
              0.1111111111111111,
              "#46039f"
             ],
             [
              0.2222222222222222,
              "#7201a8"
             ],
             [
              0.3333333333333333,
              "#9c179e"
             ],
             [
              0.4444444444444444,
              "#bd3786"
             ],
             [
              0.5555555555555556,
              "#d8576b"
             ],
             [
              0.6666666666666666,
              "#ed7953"
             ],
             [
              0.7777777777777778,
              "#fb9f3a"
             ],
             [
              0.8888888888888888,
              "#fdca26"
             ],
             [
              1,
              "#f0f921"
             ]
            ],
            "type": "histogram2d"
           }
          ],
          "histogram2dcontour": [
           {
            "colorbar": {
             "outlinewidth": 0,
             "ticks": ""
            },
            "colorscale": [
             [
              0,
              "#0d0887"
             ],
             [
              0.1111111111111111,
              "#46039f"
             ],
             [
              0.2222222222222222,
              "#7201a8"
             ],
             [
              0.3333333333333333,
              "#9c179e"
             ],
             [
              0.4444444444444444,
              "#bd3786"
             ],
             [
              0.5555555555555556,
              "#d8576b"
             ],
             [
              0.6666666666666666,
              "#ed7953"
             ],
             [
              0.7777777777777778,
              "#fb9f3a"
             ],
             [
              0.8888888888888888,
              "#fdca26"
             ],
             [
              1,
              "#f0f921"
             ]
            ],
            "type": "histogram2dcontour"
           }
          ],
          "mesh3d": [
           {
            "colorbar": {
             "outlinewidth": 0,
             "ticks": ""
            },
            "type": "mesh3d"
           }
          ],
          "parcoords": [
           {
            "line": {
             "colorbar": {
              "outlinewidth": 0,
              "ticks": ""
             }
            },
            "type": "parcoords"
           }
          ],
          "pie": [
           {
            "automargin": true,
            "type": "pie"
           }
          ],
          "scatter": [
           {
            "fillpattern": {
             "fillmode": "overlay",
             "size": 10,
             "solidity": 0.2
            },
            "type": "scatter"
           }
          ],
          "scatter3d": [
           {
            "line": {
             "colorbar": {
              "outlinewidth": 0,
              "ticks": ""
             }
            },
            "marker": {
             "colorbar": {
              "outlinewidth": 0,
              "ticks": ""
             }
            },
            "type": "scatter3d"
           }
          ],
          "scattercarpet": [
           {
            "marker": {
             "colorbar": {
              "outlinewidth": 0,
              "ticks": ""
             }
            },
            "type": "scattercarpet"
           }
          ],
          "scattergeo": [
           {
            "marker": {
             "colorbar": {
              "outlinewidth": 0,
              "ticks": ""
             }
            },
            "type": "scattergeo"
           }
          ],
          "scattergl": [
           {
            "marker": {
             "colorbar": {
              "outlinewidth": 0,
              "ticks": ""
             }
            },
            "type": "scattergl"
           }
          ],
          "scattermapbox": [
           {
            "marker": {
             "colorbar": {
              "outlinewidth": 0,
              "ticks": ""
             }
            },
            "type": "scattermapbox"
           }
          ],
          "scatterpolar": [
           {
            "marker": {
             "colorbar": {
              "outlinewidth": 0,
              "ticks": ""
             }
            },
            "type": "scatterpolar"
           }
          ],
          "scatterpolargl": [
           {
            "marker": {
             "colorbar": {
              "outlinewidth": 0,
              "ticks": ""
             }
            },
            "type": "scatterpolargl"
           }
          ],
          "scatterternary": [
           {
            "marker": {
             "colorbar": {
              "outlinewidth": 0,
              "ticks": ""
             }
            },
            "type": "scatterternary"
           }
          ],
          "surface": [
           {
            "colorbar": {
             "outlinewidth": 0,
             "ticks": ""
            },
            "colorscale": [
             [
              0,
              "#0d0887"
             ],
             [
              0.1111111111111111,
              "#46039f"
             ],
             [
              0.2222222222222222,
              "#7201a8"
             ],
             [
              0.3333333333333333,
              "#9c179e"
             ],
             [
              0.4444444444444444,
              "#bd3786"
             ],
             [
              0.5555555555555556,
              "#d8576b"
             ],
             [
              0.6666666666666666,
              "#ed7953"
             ],
             [
              0.7777777777777778,
              "#fb9f3a"
             ],
             [
              0.8888888888888888,
              "#fdca26"
             ],
             [
              1,
              "#f0f921"
             ]
            ],
            "type": "surface"
           }
          ],
          "table": [
           {
            "cells": {
             "fill": {
              "color": "#EBF0F8"
             },
             "line": {
              "color": "white"
             }
            },
            "header": {
             "fill": {
              "color": "#C8D4E3"
             },
             "line": {
              "color": "white"
             }
            },
            "type": "table"
           }
          ]
         },
         "layout": {
          "annotationdefaults": {
           "arrowcolor": "#2a3f5f",
           "arrowhead": 0,
           "arrowwidth": 1
          },
          "autotypenumbers": "strict",
          "coloraxis": {
           "colorbar": {
            "outlinewidth": 0,
            "ticks": ""
           }
          },
          "colorscale": {
           "diverging": [
            [
             0,
             "#8e0152"
            ],
            [
             0.1,
             "#c51b7d"
            ],
            [
             0.2,
             "#de77ae"
            ],
            [
             0.3,
             "#f1b6da"
            ],
            [
             0.4,
             "#fde0ef"
            ],
            [
             0.5,
             "#f7f7f7"
            ],
            [
             0.6,
             "#e6f5d0"
            ],
            [
             0.7,
             "#b8e186"
            ],
            [
             0.8,
             "#7fbc41"
            ],
            [
             0.9,
             "#4d9221"
            ],
            [
             1,
             "#276419"
            ]
           ],
           "sequential": [
            [
             0,
             "#0d0887"
            ],
            [
             0.1111111111111111,
             "#46039f"
            ],
            [
             0.2222222222222222,
             "#7201a8"
            ],
            [
             0.3333333333333333,
             "#9c179e"
            ],
            [
             0.4444444444444444,
             "#bd3786"
            ],
            [
             0.5555555555555556,
             "#d8576b"
            ],
            [
             0.6666666666666666,
             "#ed7953"
            ],
            [
             0.7777777777777778,
             "#fb9f3a"
            ],
            [
             0.8888888888888888,
             "#fdca26"
            ],
            [
             1,
             "#f0f921"
            ]
           ],
           "sequentialminus": [
            [
             0,
             "#0d0887"
            ],
            [
             0.1111111111111111,
             "#46039f"
            ],
            [
             0.2222222222222222,
             "#7201a8"
            ],
            [
             0.3333333333333333,
             "#9c179e"
            ],
            [
             0.4444444444444444,
             "#bd3786"
            ],
            [
             0.5555555555555556,
             "#d8576b"
            ],
            [
             0.6666666666666666,
             "#ed7953"
            ],
            [
             0.7777777777777778,
             "#fb9f3a"
            ],
            [
             0.8888888888888888,
             "#fdca26"
            ],
            [
             1,
             "#f0f921"
            ]
           ]
          },
          "colorway": [
           "#636efa",
           "#EF553B",
           "#00cc96",
           "#ab63fa",
           "#FFA15A",
           "#19d3f3",
           "#FF6692",
           "#B6E880",
           "#FF97FF",
           "#FECB52"
          ],
          "font": {
           "color": "#2a3f5f"
          },
          "geo": {
           "bgcolor": "white",
           "lakecolor": "white",
           "landcolor": "#E5ECF6",
           "showlakes": true,
           "showland": true,
           "subunitcolor": "white"
          },
          "hoverlabel": {
           "align": "left"
          },
          "hovermode": "closest",
          "mapbox": {
           "style": "light"
          },
          "paper_bgcolor": "white",
          "plot_bgcolor": "#E5ECF6",
          "polar": {
           "angularaxis": {
            "gridcolor": "white",
            "linecolor": "white",
            "ticks": ""
           },
           "bgcolor": "#E5ECF6",
           "radialaxis": {
            "gridcolor": "white",
            "linecolor": "white",
            "ticks": ""
           }
          },
          "scene": {
           "xaxis": {
            "backgroundcolor": "#E5ECF6",
            "gridcolor": "white",
            "gridwidth": 2,
            "linecolor": "white",
            "showbackground": true,
            "ticks": "",
            "zerolinecolor": "white"
           },
           "yaxis": {
            "backgroundcolor": "#E5ECF6",
            "gridcolor": "white",
            "gridwidth": 2,
            "linecolor": "white",
            "showbackground": true,
            "ticks": "",
            "zerolinecolor": "white"
           },
           "zaxis": {
            "backgroundcolor": "#E5ECF6",
            "gridcolor": "white",
            "gridwidth": 2,
            "linecolor": "white",
            "showbackground": true,
            "ticks": "",
            "zerolinecolor": "white"
           }
          },
          "shapedefaults": {
           "line": {
            "color": "#2a3f5f"
           }
          },
          "ternary": {
           "aaxis": {
            "gridcolor": "white",
            "linecolor": "white",
            "ticks": ""
           },
           "baxis": {
            "gridcolor": "white",
            "linecolor": "white",
            "ticks": ""
           },
           "bgcolor": "#E5ECF6",
           "caxis": {
            "gridcolor": "white",
            "linecolor": "white",
            "ticks": ""
           }
          },
          "title": {
           "x": 0.05
          },
          "xaxis": {
           "automargin": true,
           "gridcolor": "white",
           "linecolor": "white",
           "ticks": "",
           "title": {
            "standoff": 15
           },
           "zerolinecolor": "white",
           "zerolinewidth": 2
          },
          "yaxis": {
           "automargin": true,
           "gridcolor": "white",
           "linecolor": "white",
           "ticks": "",
           "title": {
            "standoff": 15
           },
           "zerolinecolor": "white",
           "zerolinewidth": 2
          }
         }
        },
        "xaxis": {
         "anchor": "y",
         "domain": [
          0,
          1
         ],
         "title": {
          "text": "length_attentional"
         }
        },
        "yaxis": {
         "anchor": "x",
         "domain": [
          0,
          1
         ],
         "title": {
          "text": "correlation"
         }
        }
       }
      }
     },
     "metadata": {},
     "output_type": "display_data"
    }
   ],
   "source": [
    "fig = px.scatter(df_spearman\n",
    "        , x=\"length_attentional\"\n",
    "        , y=\"correlation\"\n",
    "        , color=\"deprel\"\n",
    "        , hover_data=[\"deprel\", \"pvalue\", \"size\"])\n",
    "fig.show()\n",
    "# fig.write_html(\"../images/universal-dependencies/UD_EWT_spearman_correlation_linguistics_vs_attentional_by_length.html\")"
   ]
  },
  {
   "cell_type": "code",
   "execution_count": 723,
   "metadata": {},
   "outputs": [
    {
     "data": {
      "text/html": [
       "<div>\n",
       "<style scoped>\n",
       "    .dataframe tbody tr th:only-of-type {\n",
       "        vertical-align: middle;\n",
       "    }\n",
       "\n",
       "    .dataframe tbody tr th {\n",
       "        vertical-align: top;\n",
       "    }\n",
       "\n",
       "    .dataframe thead th {\n",
       "        text-align: right;\n",
       "    }\n",
       "</style>\n",
       "<table border=\"1\" class=\"dataframe\">\n",
       "  <thead>\n",
       "    <tr style=\"text-align: right;\">\n",
       "      <th></th>\n",
       "      <th>correlation</th>\n",
       "      <th>size</th>\n",
       "      <th>count_deprel</th>\n",
       "    </tr>\n",
       "    <tr>\n",
       "      <th>deprel</th>\n",
       "      <th></th>\n",
       "      <th></th>\n",
       "      <th></th>\n",
       "    </tr>\n",
       "  </thead>\n",
       "  <tbody>\n",
       "    <tr>\n",
       "      <th>nmod</th>\n",
       "      <td>0.404782</td>\n",
       "      <td>41.454545</td>\n",
       "      <td>11</td>\n",
       "    </tr>\n",
       "    <tr>\n",
       "      <th>nsubj</th>\n",
       "      <td>0.330671</td>\n",
       "      <td>91.909091</td>\n",
       "      <td>11</td>\n",
       "    </tr>\n",
       "    <tr>\n",
       "      <th>advcl</th>\n",
       "      <td>0.487340</td>\n",
       "      <td>26.333333</td>\n",
       "      <td>6</td>\n",
       "    </tr>\n",
       "    <tr>\n",
       "      <th>conj</th>\n",
       "      <td>0.432486</td>\n",
       "      <td>32.500000</td>\n",
       "      <td>4</td>\n",
       "    </tr>\n",
       "    <tr>\n",
       "      <th>advmod</th>\n",
       "      <td>0.070112</td>\n",
       "      <td>62.333333</td>\n",
       "      <td>3</td>\n",
       "    </tr>\n",
       "    <tr>\n",
       "      <th>amod</th>\n",
       "      <td>0.496535</td>\n",
       "      <td>27.333333</td>\n",
       "      <td>3</td>\n",
       "    </tr>\n",
       "    <tr>\n",
       "      <th>aux</th>\n",
       "      <td>0.517359</td>\n",
       "      <td>34.666667</td>\n",
       "      <td>3</td>\n",
       "    </tr>\n",
       "    <tr>\n",
       "      <th>cc</th>\n",
       "      <td>0.510250</td>\n",
       "      <td>29.666667</td>\n",
       "      <td>3</td>\n",
       "    </tr>\n",
       "    <tr>\n",
       "      <th>cop</th>\n",
       "      <td>0.438011</td>\n",
       "      <td>29.666667</td>\n",
       "      <td>3</td>\n",
       "    </tr>\n",
       "    <tr>\n",
       "      <th>obl</th>\n",
       "      <td>0.421225</td>\n",
       "      <td>36.000000</td>\n",
       "      <td>2</td>\n",
       "    </tr>\n",
       "    <tr>\n",
       "      <th>obj</th>\n",
       "      <td>-0.009699</td>\n",
       "      <td>44.500000</td>\n",
       "      <td>2</td>\n",
       "    </tr>\n",
       "    <tr>\n",
       "      <th>acl</th>\n",
       "      <td>-0.560273</td>\n",
       "      <td>25.500000</td>\n",
       "      <td>2</td>\n",
       "    </tr>\n",
       "    <tr>\n",
       "      <th>det</th>\n",
       "      <td>0.615589</td>\n",
       "      <td>19.000000</td>\n",
       "      <td>2</td>\n",
       "    </tr>\n",
       "    <tr>\n",
       "      <th>ccomp</th>\n",
       "      <td>0.021414</td>\n",
       "      <td>14.000000</td>\n",
       "      <td>2</td>\n",
       "    </tr>\n",
       "    <tr>\n",
       "      <th>case</th>\n",
       "      <td>0.298391</td>\n",
       "      <td>60.500000</td>\n",
       "      <td>2</td>\n",
       "    </tr>\n",
       "    <tr>\n",
       "      <th>mark</th>\n",
       "      <td>0.427653</td>\n",
       "      <td>24.000000</td>\n",
       "      <td>1</td>\n",
       "    </tr>\n",
       "    <tr>\n",
       "      <th>compound</th>\n",
       "      <td>0.463516</td>\n",
       "      <td>28.000000</td>\n",
       "      <td>1</td>\n",
       "    </tr>\n",
       "    <tr>\n",
       "      <th>xcomp</th>\n",
       "      <td>0.806579</td>\n",
       "      <td>13.000000</td>\n",
       "      <td>1</td>\n",
       "    </tr>\n",
       "  </tbody>\n",
       "</table>\n",
       "</div>"
      ],
      "text/plain": [
       "          correlation       size  count_deprel\n",
       "deprel                                        \n",
       "nmod         0.404782  41.454545            11\n",
       "nsubj        0.330671  91.909091            11\n",
       "advcl        0.487340  26.333333             6\n",
       "conj         0.432486  32.500000             4\n",
       "advmod       0.070112  62.333333             3\n",
       "amod         0.496535  27.333333             3\n",
       "aux          0.517359  34.666667             3\n",
       "cc           0.510250  29.666667             3\n",
       "cop          0.438011  29.666667             3\n",
       "obl          0.421225  36.000000             2\n",
       "obj         -0.009699  44.500000             2\n",
       "acl         -0.560273  25.500000             2\n",
       "det          0.615589  19.000000             2\n",
       "ccomp        0.021414  14.000000             2\n",
       "case         0.298391  60.500000             2\n",
       "mark         0.427653  24.000000             1\n",
       "compound     0.463516  28.000000             1\n",
       "xcomp        0.806579  13.000000             1"
      ]
     },
     "execution_count": 723,
     "metadata": {},
     "output_type": "execute_result"
    }
   ],
   "source": [
    "df_spearman.groupby(\"deprel\").agg({\"correlation\":\"mean\", \"size\":\"mean\", \"deprel\":\"count\"}).rename(columns={\"deprel\":\"count_deprel\"}).sort_values(\"count_deprel\", ascending=False)"
   ]
  },
  {
   "cell_type": "markdown",
   "metadata": {},
   "source": [
    "### Combined relations"
   ]
  },
  {
   "cell_type": "code",
   "execution_count": 724,
   "metadata": {},
   "outputs": [],
   "source": [
    "l_deprel_selected = ['nsubj', 'aux', 'advcl', 'conj']"
   ]
  },
  {
   "cell_type": "code",
   "execution_count": 725,
   "metadata": {},
   "outputs": [
    {
     "name": "stderr",
     "output_type": "stream",
     "text": [
      "/tmp/ipykernel_48539/4032504944.py:11: ConstantInputWarning:\n",
      "\n",
      "An input array is constant; the correlation coefficient is not defined.\n",
      "\n"
     ]
    }
   ],
   "source": [
    "# combined\n",
    "df = pd.merge(df_sentence\n",
    "    ,df_ud.loc[(df_ud[\"sentence_id\"].isin(df_sentence[\"sentence_id\"]))&(df_ud[\"deprel_universal\"].isin(l_deprel_selected))].groupby(\"sentence_id\").agg({\"abs_length_relation\":\"mean\"}).reset_index().rename(columns={\"abs_length_relation\":\"score_linguistics\"})\n",
    "    ,how=\"inner\", on=\"sentence_id\")\n",
    "l_spearmanr = []\n",
    "for length_attentional in np.sort(df[\"length_attentional\"].unique()):\n",
    "    a = df.loc[df[\"length_attentional\"]==length_attentional, [\"score_attentional\", \"score_linguistics\"]].values\n",
    "    a_attentional = a[:, 0]\n",
    "    a_linguistics = a[:, 1]\n",
    "    spearmanr = scipy.stats.spearmanr(a_attentional, a_linguistics)\n",
    "    l_spearmanr.append((\"combined\", length_attentional, spearmanr.correlation, spearmanr.pvalue, len(a)))\n",
    "l_df_spearman.append(pd.DataFrame(l_spearmanr, columns=[\"deprel\", \"length_attentional\", \"correlation\", \"pvalue\", \"size\"]))"
   ]
  },
  {
   "cell_type": "code",
   "execution_count": 726,
   "metadata": {},
   "outputs": [
    {
     "data": {
      "application/vnd.plotly.v1+json": {
       "config": {
        "plotlyServerURL": "https://plot.ly"
       },
       "data": [
        {
         "customdata": [
          [
           null,
           11
          ],
          [
           0.6368907375092154,
           24
          ],
          [
           0.005517853206448124,
           50
          ],
          [
           0.0008016517764081171,
           76
          ],
          [
           1.2865462469901018e-7,
           87
          ],
          [
           0.012085333485136891,
           116
          ],
          [
           0.000004428014096408829,
           103
          ],
          [
           0.0010108040094113243,
           136
          ],
          [
           0.09581999217390809,
           133
          ],
          [
           0.0026780608664050648,
           137
          ],
          [
           0.01065572473946182,
           97
          ],
          [
           0.030299977070936172,
           108
          ],
          [
           0.0004503686641450521,
           104
          ],
          [
           0.018969675277263662,
           123
          ],
          [
           0.015046459458691557,
           119
          ],
          [
           0.001273218864941685,
           98
          ],
          [
           0.019882864123493733,
           100
          ],
          [
           0.018082803043579624,
           99
          ],
          [
           0.0013363671364546989,
           94
          ],
          [
           0.0035378861790406725,
           86
          ],
          [
           0.000059893237413080024,
           71
          ],
          [
           0.031185373338589003,
           84
          ],
          [
           0.20199616207835863,
           73
          ],
          [
           0.15151928796650402,
           73
          ],
          [
           0.00272827972353117,
           48
          ],
          [
           0.1491112598409644,
           40
          ],
          [
           0.6554692875304893,
           55
          ],
          [
           0.00007192229562664939,
           46
          ],
          [
           0.3317680057309734,
           38
          ],
          [
           0.00009625243128174915,
           35
          ],
          [
           0.0033919058055106254,
           32
          ],
          [
           0.0070295528318185235,
           32
          ],
          [
           0.00010939798785017718,
           22
          ],
          [
           0.04863252386674548,
           21
          ],
          [
           0.2550391281098715,
           21
          ],
          [
           0.0009865953230678852,
           24
          ],
          [
           0.4002950907115109,
           17
          ],
          [
           0.42340080990377715,
           24
          ],
          [
           0.8600427724461667,
           20
          ],
          [
           0.1554270402545691,
           17
          ],
          [
           0.05698280476112094,
           17
          ],
          [
           0.019942126131992522,
           9
          ],
          [
           0.07239650145772594,
           6
          ],
          [
           0.10249153979096383,
           11
          ],
          [
           0.7016579425162729,
           7
          ],
          [
           0.03858106757493063,
           15
          ],
          [
           0.39100221895577053,
           5
          ],
          [
           1,
           8
          ]
         ],
         "hovertemplate": "length_attentional=%{x}<br>correlation=%{y}<br>pvalue=%{customdata[0]}<br>size=%{customdata[1]}<extra></extra>",
         "legendgroup": "",
         "line": {
          "color": "#636efa",
          "dash": "solid"
         },
         "marker": {
          "symbol": "circle"
         },
         "mode": "lines",
         "name": "",
         "orientation": "v",
         "showlegend": false,
         "type": "scatter",
         "x": [
          3,
          4,
          5,
          6,
          7,
          8,
          9,
          10,
          11,
          12,
          13,
          14,
          15,
          16,
          17,
          18,
          19,
          20,
          21,
          22,
          23,
          24,
          25,
          26,
          27,
          28,
          29,
          30,
          31,
          32,
          33,
          34,
          35,
          36,
          37,
          38,
          39,
          40,
          41,
          42,
          43,
          44,
          45,
          46,
          47,
          48,
          49,
          50
         ],
         "xaxis": "x",
         "y": [
          null,
          0.10152716409786061,
          0.3868408526334971,
          0.3765120930944617,
          0.530136769325823,
          0.23233281826707033,
          0.43487553125133743,
          0.27886130975480417,
          0.14501856893472442,
          0.25460916030218356,
          0.25823200498628224,
          0.2085664884023596,
          0.33795601071528436,
          0.21130610761316454,
          0.222421566780902,
          0.32092918430086903,
          0.23257640917740083,
          0.23719403467705805,
          0.3261519114554143,
          0.3112164007730248,
          0.4577073427817675,
          0.23531093239290038,
          0.15107982031362785,
          0.16956715542402537,
          0.4231818743187269,
          0.23233988391736363,
          0.061518484050783424,
          0.5511943744553192,
          0.1618099334432319,
          0.6111580518686124,
          0.5023375384742841,
          0.46712526817782307,
          0.7315431598602767,
          0.43520625874417485,
          0.2599936237345659,
          0.6292672468826891,
          0.21813725490196081,
          0.17134160004960572,
          0.04212110113594513,
          0.3602941176470589,
          0.46993900405674355,
          0.75,
          0.7714285714285715,
          0.5181818181818182,
          -0.1785714285714286,
          0.5379805544098011,
          0.49999999999999994,
          0
         ],
         "yaxis": "y"
        },
        {
         "marker": {
          "color": [
           "Red",
           "Red",
           "Green",
           "Green",
           "Green",
           "Green",
           "Green",
           "Green",
           "Red",
           "Green",
           "Green",
           "Green",
           "Green",
           "Green",
           "Green",
           "Green",
           "Green",
           "Green",
           "Green",
           "Green",
           "Green",
           "Green",
           "Red",
           "Red",
           "Green",
           "Red",
           "Red",
           "Green",
           "Red",
           "Green",
           "Green",
           "Green",
           "Green",
           "Green",
           "Red",
           "Green",
           "Red",
           "Red",
           "Red",
           "Red",
           "Red",
           "Green",
           "Red",
           "Red",
           "Red",
           "Green",
           "Red",
           "Red"
          ],
          "size": [
           1.1,
           2.4000000000000004,
           5,
           7.6000000000000005,
           8.700000000000001,
           11.600000000000001,
           10.3,
           13.600000000000001,
           13.3,
           13.700000000000001,
           9.700000000000001,
           10.8,
           10.4,
           12.3,
           11.9,
           9.8,
           10,
           9.9,
           9.4,
           8.6,
           7.1000000000000005,
           8.4,
           7.300000000000001,
           7.300000000000001,
           4.800000000000001,
           4,
           5.5,
           4.6000000000000005,
           3.8000000000000003,
           3.5,
           3.2,
           3.2,
           2.2,
           2.1,
           2.1,
           2.4000000000000004,
           1.7000000000000002,
           2.4000000000000004,
           2,
           1.7000000000000002,
           1.7000000000000002,
           0.9,
           0.6000000000000001,
           1.1,
           0.7000000000000001,
           1.5,
           0.5,
           0.8
          ]
         },
         "mode": "markers",
         "type": "scatter",
         "x": [
          3,
          4,
          5,
          6,
          7,
          8,
          9,
          10,
          11,
          12,
          13,
          14,
          15,
          16,
          17,
          18,
          19,
          20,
          21,
          22,
          23,
          24,
          25,
          26,
          27,
          28,
          29,
          30,
          31,
          32,
          33,
          34,
          35,
          36,
          37,
          38,
          39,
          40,
          41,
          42,
          43,
          44,
          45,
          46,
          47,
          48,
          49,
          50
         ],
         "y": [
          null,
          0.10152716409786061,
          0.3868408526334971,
          0.3765120930944617,
          0.530136769325823,
          0.23233281826707033,
          0.43487553125133743,
          0.27886130975480417,
          0.14501856893472442,
          0.25460916030218356,
          0.25823200498628224,
          0.2085664884023596,
          0.33795601071528436,
          0.21130610761316454,
          0.222421566780902,
          0.32092918430086903,
          0.23257640917740083,
          0.23719403467705805,
          0.3261519114554143,
          0.3112164007730248,
          0.4577073427817675,
          0.23531093239290038,
          0.15107982031362785,
          0.16956715542402537,
          0.4231818743187269,
          0.23233988391736363,
          0.061518484050783424,
          0.5511943744553192,
          0.1618099334432319,
          0.6111580518686124,
          0.5023375384742841,
          0.46712526817782307,
          0.7315431598602767,
          0.43520625874417485,
          0.2599936237345659,
          0.6292672468826891,
          0.21813725490196081,
          0.17134160004960572,
          0.04212110113594513,
          0.3602941176470589,
          0.46993900405674355,
          0.75,
          0.7714285714285715,
          0.5181818181818182,
          -0.1785714285714286,
          0.5379805544098011,
          0.49999999999999994,
          0
         ]
        }
       ],
       "layout": {
        "legend": {
         "tracegroupgap": 0
        },
        "margin": {
         "t": 60
        },
        "template": {
         "data": {
          "bar": [
           {
            "error_x": {
             "color": "#2a3f5f"
            },
            "error_y": {
             "color": "#2a3f5f"
            },
            "marker": {
             "line": {
              "color": "#E5ECF6",
              "width": 0.5
             },
             "pattern": {
              "fillmode": "overlay",
              "size": 10,
              "solidity": 0.2
             }
            },
            "type": "bar"
           }
          ],
          "barpolar": [
           {
            "marker": {
             "line": {
              "color": "#E5ECF6",
              "width": 0.5
             },
             "pattern": {
              "fillmode": "overlay",
              "size": 10,
              "solidity": 0.2
             }
            },
            "type": "barpolar"
           }
          ],
          "carpet": [
           {
            "aaxis": {
             "endlinecolor": "#2a3f5f",
             "gridcolor": "white",
             "linecolor": "white",
             "minorgridcolor": "white",
             "startlinecolor": "#2a3f5f"
            },
            "baxis": {
             "endlinecolor": "#2a3f5f",
             "gridcolor": "white",
             "linecolor": "white",
             "minorgridcolor": "white",
             "startlinecolor": "#2a3f5f"
            },
            "type": "carpet"
           }
          ],
          "choropleth": [
           {
            "colorbar": {
             "outlinewidth": 0,
             "ticks": ""
            },
            "type": "choropleth"
           }
          ],
          "contour": [
           {
            "colorbar": {
             "outlinewidth": 0,
             "ticks": ""
            },
            "colorscale": [
             [
              0,
              "#0d0887"
             ],
             [
              0.1111111111111111,
              "#46039f"
             ],
             [
              0.2222222222222222,
              "#7201a8"
             ],
             [
              0.3333333333333333,
              "#9c179e"
             ],
             [
              0.4444444444444444,
              "#bd3786"
             ],
             [
              0.5555555555555556,
              "#d8576b"
             ],
             [
              0.6666666666666666,
              "#ed7953"
             ],
             [
              0.7777777777777778,
              "#fb9f3a"
             ],
             [
              0.8888888888888888,
              "#fdca26"
             ],
             [
              1,
              "#f0f921"
             ]
            ],
            "type": "contour"
           }
          ],
          "contourcarpet": [
           {
            "colorbar": {
             "outlinewidth": 0,
             "ticks": ""
            },
            "type": "contourcarpet"
           }
          ],
          "heatmap": [
           {
            "colorbar": {
             "outlinewidth": 0,
             "ticks": ""
            },
            "colorscale": [
             [
              0,
              "#0d0887"
             ],
             [
              0.1111111111111111,
              "#46039f"
             ],
             [
              0.2222222222222222,
              "#7201a8"
             ],
             [
              0.3333333333333333,
              "#9c179e"
             ],
             [
              0.4444444444444444,
              "#bd3786"
             ],
             [
              0.5555555555555556,
              "#d8576b"
             ],
             [
              0.6666666666666666,
              "#ed7953"
             ],
             [
              0.7777777777777778,
              "#fb9f3a"
             ],
             [
              0.8888888888888888,
              "#fdca26"
             ],
             [
              1,
              "#f0f921"
             ]
            ],
            "type": "heatmap"
           }
          ],
          "heatmapgl": [
           {
            "colorbar": {
             "outlinewidth": 0,
             "ticks": ""
            },
            "colorscale": [
             [
              0,
              "#0d0887"
             ],
             [
              0.1111111111111111,
              "#46039f"
             ],
             [
              0.2222222222222222,
              "#7201a8"
             ],
             [
              0.3333333333333333,
              "#9c179e"
             ],
             [
              0.4444444444444444,
              "#bd3786"
             ],
             [
              0.5555555555555556,
              "#d8576b"
             ],
             [
              0.6666666666666666,
              "#ed7953"
             ],
             [
              0.7777777777777778,
              "#fb9f3a"
             ],
             [
              0.8888888888888888,
              "#fdca26"
             ],
             [
              1,
              "#f0f921"
             ]
            ],
            "type": "heatmapgl"
           }
          ],
          "histogram": [
           {
            "marker": {
             "pattern": {
              "fillmode": "overlay",
              "size": 10,
              "solidity": 0.2
             }
            },
            "type": "histogram"
           }
          ],
          "histogram2d": [
           {
            "colorbar": {
             "outlinewidth": 0,
             "ticks": ""
            },
            "colorscale": [
             [
              0,
              "#0d0887"
             ],
             [
              0.1111111111111111,
              "#46039f"
             ],
             [
              0.2222222222222222,
              "#7201a8"
             ],
             [
              0.3333333333333333,
              "#9c179e"
             ],
             [
              0.4444444444444444,
              "#bd3786"
             ],
             [
              0.5555555555555556,
              "#d8576b"
             ],
             [
              0.6666666666666666,
              "#ed7953"
             ],
             [
              0.7777777777777778,
              "#fb9f3a"
             ],
             [
              0.8888888888888888,
              "#fdca26"
             ],
             [
              1,
              "#f0f921"
             ]
            ],
            "type": "histogram2d"
           }
          ],
          "histogram2dcontour": [
           {
            "colorbar": {
             "outlinewidth": 0,
             "ticks": ""
            },
            "colorscale": [
             [
              0,
              "#0d0887"
             ],
             [
              0.1111111111111111,
              "#46039f"
             ],
             [
              0.2222222222222222,
              "#7201a8"
             ],
             [
              0.3333333333333333,
              "#9c179e"
             ],
             [
              0.4444444444444444,
              "#bd3786"
             ],
             [
              0.5555555555555556,
              "#d8576b"
             ],
             [
              0.6666666666666666,
              "#ed7953"
             ],
             [
              0.7777777777777778,
              "#fb9f3a"
             ],
             [
              0.8888888888888888,
              "#fdca26"
             ],
             [
              1,
              "#f0f921"
             ]
            ],
            "type": "histogram2dcontour"
           }
          ],
          "mesh3d": [
           {
            "colorbar": {
             "outlinewidth": 0,
             "ticks": ""
            },
            "type": "mesh3d"
           }
          ],
          "parcoords": [
           {
            "line": {
             "colorbar": {
              "outlinewidth": 0,
              "ticks": ""
             }
            },
            "type": "parcoords"
           }
          ],
          "pie": [
           {
            "automargin": true,
            "type": "pie"
           }
          ],
          "scatter": [
           {
            "fillpattern": {
             "fillmode": "overlay",
             "size": 10,
             "solidity": 0.2
            },
            "type": "scatter"
           }
          ],
          "scatter3d": [
           {
            "line": {
             "colorbar": {
              "outlinewidth": 0,
              "ticks": ""
             }
            },
            "marker": {
             "colorbar": {
              "outlinewidth": 0,
              "ticks": ""
             }
            },
            "type": "scatter3d"
           }
          ],
          "scattercarpet": [
           {
            "marker": {
             "colorbar": {
              "outlinewidth": 0,
              "ticks": ""
             }
            },
            "type": "scattercarpet"
           }
          ],
          "scattergeo": [
           {
            "marker": {
             "colorbar": {
              "outlinewidth": 0,
              "ticks": ""
             }
            },
            "type": "scattergeo"
           }
          ],
          "scattergl": [
           {
            "marker": {
             "colorbar": {
              "outlinewidth": 0,
              "ticks": ""
             }
            },
            "type": "scattergl"
           }
          ],
          "scattermapbox": [
           {
            "marker": {
             "colorbar": {
              "outlinewidth": 0,
              "ticks": ""
             }
            },
            "type": "scattermapbox"
           }
          ],
          "scatterpolar": [
           {
            "marker": {
             "colorbar": {
              "outlinewidth": 0,
              "ticks": ""
             }
            },
            "type": "scatterpolar"
           }
          ],
          "scatterpolargl": [
           {
            "marker": {
             "colorbar": {
              "outlinewidth": 0,
              "ticks": ""
             }
            },
            "type": "scatterpolargl"
           }
          ],
          "scatterternary": [
           {
            "marker": {
             "colorbar": {
              "outlinewidth": 0,
              "ticks": ""
             }
            },
            "type": "scatterternary"
           }
          ],
          "surface": [
           {
            "colorbar": {
             "outlinewidth": 0,
             "ticks": ""
            },
            "colorscale": [
             [
              0,
              "#0d0887"
             ],
             [
              0.1111111111111111,
              "#46039f"
             ],
             [
              0.2222222222222222,
              "#7201a8"
             ],
             [
              0.3333333333333333,
              "#9c179e"
             ],
             [
              0.4444444444444444,
              "#bd3786"
             ],
             [
              0.5555555555555556,
              "#d8576b"
             ],
             [
              0.6666666666666666,
              "#ed7953"
             ],
             [
              0.7777777777777778,
              "#fb9f3a"
             ],
             [
              0.8888888888888888,
              "#fdca26"
             ],
             [
              1,
              "#f0f921"
             ]
            ],
            "type": "surface"
           }
          ],
          "table": [
           {
            "cells": {
             "fill": {
              "color": "#EBF0F8"
             },
             "line": {
              "color": "white"
             }
            },
            "header": {
             "fill": {
              "color": "#C8D4E3"
             },
             "line": {
              "color": "white"
             }
            },
            "type": "table"
           }
          ]
         },
         "layout": {
          "annotationdefaults": {
           "arrowcolor": "#2a3f5f",
           "arrowhead": 0,
           "arrowwidth": 1
          },
          "autotypenumbers": "strict",
          "coloraxis": {
           "colorbar": {
            "outlinewidth": 0,
            "ticks": ""
           }
          },
          "colorscale": {
           "diverging": [
            [
             0,
             "#8e0152"
            ],
            [
             0.1,
             "#c51b7d"
            ],
            [
             0.2,
             "#de77ae"
            ],
            [
             0.3,
             "#f1b6da"
            ],
            [
             0.4,
             "#fde0ef"
            ],
            [
             0.5,
             "#f7f7f7"
            ],
            [
             0.6,
             "#e6f5d0"
            ],
            [
             0.7,
             "#b8e186"
            ],
            [
             0.8,
             "#7fbc41"
            ],
            [
             0.9,
             "#4d9221"
            ],
            [
             1,
             "#276419"
            ]
           ],
           "sequential": [
            [
             0,
             "#0d0887"
            ],
            [
             0.1111111111111111,
             "#46039f"
            ],
            [
             0.2222222222222222,
             "#7201a8"
            ],
            [
             0.3333333333333333,
             "#9c179e"
            ],
            [
             0.4444444444444444,
             "#bd3786"
            ],
            [
             0.5555555555555556,
             "#d8576b"
            ],
            [
             0.6666666666666666,
             "#ed7953"
            ],
            [
             0.7777777777777778,
             "#fb9f3a"
            ],
            [
             0.8888888888888888,
             "#fdca26"
            ],
            [
             1,
             "#f0f921"
            ]
           ],
           "sequentialminus": [
            [
             0,
             "#0d0887"
            ],
            [
             0.1111111111111111,
             "#46039f"
            ],
            [
             0.2222222222222222,
             "#7201a8"
            ],
            [
             0.3333333333333333,
             "#9c179e"
            ],
            [
             0.4444444444444444,
             "#bd3786"
            ],
            [
             0.5555555555555556,
             "#d8576b"
            ],
            [
             0.6666666666666666,
             "#ed7953"
            ],
            [
             0.7777777777777778,
             "#fb9f3a"
            ],
            [
             0.8888888888888888,
             "#fdca26"
            ],
            [
             1,
             "#f0f921"
            ]
           ]
          },
          "colorway": [
           "#636efa",
           "#EF553B",
           "#00cc96",
           "#ab63fa",
           "#FFA15A",
           "#19d3f3",
           "#FF6692",
           "#B6E880",
           "#FF97FF",
           "#FECB52"
          ],
          "font": {
           "color": "#2a3f5f"
          },
          "geo": {
           "bgcolor": "white",
           "lakecolor": "white",
           "landcolor": "#E5ECF6",
           "showlakes": true,
           "showland": true,
           "subunitcolor": "white"
          },
          "hoverlabel": {
           "align": "left"
          },
          "hovermode": "closest",
          "mapbox": {
           "style": "light"
          },
          "paper_bgcolor": "white",
          "plot_bgcolor": "#E5ECF6",
          "polar": {
           "angularaxis": {
            "gridcolor": "white",
            "linecolor": "white",
            "ticks": ""
           },
           "bgcolor": "#E5ECF6",
           "radialaxis": {
            "gridcolor": "white",
            "linecolor": "white",
            "ticks": ""
           }
          },
          "scene": {
           "xaxis": {
            "backgroundcolor": "#E5ECF6",
            "gridcolor": "white",
            "gridwidth": 2,
            "linecolor": "white",
            "showbackground": true,
            "ticks": "",
            "zerolinecolor": "white"
           },
           "yaxis": {
            "backgroundcolor": "#E5ECF6",
            "gridcolor": "white",
            "gridwidth": 2,
            "linecolor": "white",
            "showbackground": true,
            "ticks": "",
            "zerolinecolor": "white"
           },
           "zaxis": {
            "backgroundcolor": "#E5ECF6",
            "gridcolor": "white",
            "gridwidth": 2,
            "linecolor": "white",
            "showbackground": true,
            "ticks": "",
            "zerolinecolor": "white"
           }
          },
          "shapedefaults": {
           "line": {
            "color": "#2a3f5f"
           }
          },
          "ternary": {
           "aaxis": {
            "gridcolor": "white",
            "linecolor": "white",
            "ticks": ""
           },
           "baxis": {
            "gridcolor": "white",
            "linecolor": "white",
            "ticks": ""
           },
           "bgcolor": "#E5ECF6",
           "caxis": {
            "gridcolor": "white",
            "linecolor": "white",
            "ticks": ""
           }
          },
          "title": {
           "x": 0.05
          },
          "xaxis": {
           "automargin": true,
           "gridcolor": "white",
           "linecolor": "white",
           "ticks": "",
           "title": {
            "standoff": 15
           },
           "zerolinecolor": "white",
           "zerolinewidth": 2
          },
          "yaxis": {
           "automargin": true,
           "gridcolor": "white",
           "linecolor": "white",
           "ticks": "",
           "title": {
            "standoff": 15
           },
           "zerolinecolor": "white",
           "zerolinewidth": 2
          }
         }
        },
        "title": {
         "text": "Relation used: nsubj, aux, advcl, conj (red: p-value > 0.05, green: p-value < 0.05, size: number of samples)"
        },
        "xaxis": {
         "anchor": "y",
         "domain": [
          0,
          1
         ],
         "title": {
          "text": "length_attentional"
         }
        },
        "yaxis": {
         "anchor": "x",
         "domain": [
          0,
          1
         ],
         "title": {
          "text": "correlation"
         }
        }
       }
      }
     },
     "metadata": {},
     "output_type": "display_data"
    }
   ],
   "source": [
    "import plotly.graph_objects as go\n",
    "df = pd.DataFrame(l_spearmanr, columns=[\"deprel\", \"length_attentional\", \"correlation\", \"pvalue\", \"size\"])\n",
    "df[\"significant_pvalue\"] = df[\"pvalue\"]<0.05\n",
    "fig = px.line(df, x=\"length_attentional\", y=\"correlation\", markers=False\n",
    "        ,hover_data=[\"pvalue\", \"size\"])\n",
    "fig.add_trace(go.Scatter(x=df[\"length_attentional\"], y=df[\"correlation\"], mode='markers', marker=dict(color=df[\"significant_pvalue\"].map({True:\"Green\", False:\"Red\"})\n",
    "                                                                                                      , size=df[\"size\"]*0.1)))\n",
    "fig.update_layout(title=f\"Relation used: \"+\", \".join(l_deprel_selected) + \" (red: p-value > 0.05, green: p-value < 0.05, size: number of samples)\")\n",
    "# fig.write_html(\"../images/universal-dependencies/UD_EWT_spearman_correlation_linguistics_vs_attentional_by_length_combined.html\")\n",
    "fig.show()"
   ]
  },
  {
   "cell_type": "markdown",
   "metadata": {},
   "source": [
    "# <>"
   ]
  },
  {
   "cell_type": "code",
   "execution_count": 739,
   "metadata": {},
   "outputs": [
    {
     "data": {
      "text/html": [
       "<div>\n",
       "<style scoped>\n",
       "    .dataframe tbody tr th:only-of-type {\n",
       "        vertical-align: middle;\n",
       "    }\n",
       "\n",
       "    .dataframe tbody tr th {\n",
       "        vertical-align: top;\n",
       "    }\n",
       "\n",
       "    .dataframe thead th {\n",
       "        text-align: right;\n",
       "    }\n",
       "</style>\n",
       "<table border=\"1\" class=\"dataframe\">\n",
       "  <thead>\n",
       "    <tr style=\"text-align: right;\">\n",
       "      <th></th>\n",
       "      <th>sentence_id</th>\n",
       "      <th>token_id</th>\n",
       "      <th>id</th>\n",
       "      <th>form</th>\n",
       "      <th>deprel</th>\n",
       "      <th>head</th>\n",
       "      <th>token_head</th>\n",
       "      <th>length_relation</th>\n",
       "      <th>abs_length_relation</th>\n",
       "      <th>deprel_universal</th>\n",
       "      <th>deprel_order</th>\n",
       "    </tr>\n",
       "  </thead>\n",
       "  <tbody>\n",
       "    <tr>\n",
       "      <th>0</th>\n",
       "      <td>0</td>\n",
       "      <td>1</td>\n",
       "      <td>1</td>\n",
       "      <td>what</td>\n",
       "      <td>root</td>\n",
       "      <td>0</td>\n",
       "      <td>0</td>\n",
       "      <td>-1</td>\n",
       "      <td>1</td>\n",
       "      <td>root</td>\n",
       "      <td>1</td>\n",
       "    </tr>\n",
       "    <tr>\n",
       "      <th>1</th>\n",
       "      <td>0</td>\n",
       "      <td>2</td>\n",
       "      <td>2</td>\n",
       "      <td>is</td>\n",
       "      <td>cop</td>\n",
       "      <td>1</td>\n",
       "      <td>1</td>\n",
       "      <td>-1</td>\n",
       "      <td>1</td>\n",
       "      <td>cop</td>\n",
       "      <td>15</td>\n",
       "    </tr>\n",
       "    <tr>\n",
       "      <th>2</th>\n",
       "      <td>0</td>\n",
       "      <td>3</td>\n",
       "      <td>3</td>\n",
       "      <td>the</td>\n",
       "      <td>det</td>\n",
       "      <td>4</td>\n",
       "      <td>4</td>\n",
       "      <td>1</td>\n",
       "      <td>1</td>\n",
       "      <td>det</td>\n",
       "      <td>4</td>\n",
       "    </tr>\n",
       "    <tr>\n",
       "      <th>3</th>\n",
       "      <td>0</td>\n",
       "      <td>4</td>\n",
       "      <td>4</td>\n",
       "      <td>cost</td>\n",
       "      <td>nsubj</td>\n",
       "      <td>1</td>\n",
       "      <td>1</td>\n",
       "      <td>-3</td>\n",
       "      <td>3</td>\n",
       "      <td>nsubj</td>\n",
       "      <td>2</td>\n",
       "    </tr>\n",
       "    <tr>\n",
       "      <th>4</th>\n",
       "      <td>0</td>\n",
       "      <td>5</td>\n",
       "      <td>5</td>\n",
       "      <td>of</td>\n",
       "      <td>case</td>\n",
       "      <td>7</td>\n",
       "      <td>7</td>\n",
       "      <td>2</td>\n",
       "      <td>2</td>\n",
       "      <td>case</td>\n",
       "      <td>3</td>\n",
       "    </tr>\n",
       "    <tr>\n",
       "      <th>...</th>\n",
       "      <td>...</td>\n",
       "      <td>...</td>\n",
       "      <td>...</td>\n",
       "      <td>...</td>\n",
       "      <td>...</td>\n",
       "      <td>...</td>\n",
       "      <td>...</td>\n",
       "      <td>...</td>\n",
       "      <td>...</td>\n",
       "      <td>...</td>\n",
       "      <td>...</td>\n",
       "    </tr>\n",
       "    <tr>\n",
       "      <th>48650</th>\n",
       "      <td>4273</td>\n",
       "      <td>4</td>\n",
       "      <td>4</td>\n",
       "      <td>flights</td>\n",
       "      <td>obj</td>\n",
       "      <td>1</td>\n",
       "      <td>1</td>\n",
       "      <td>-3</td>\n",
       "      <td>3</td>\n",
       "      <td>obj</td>\n",
       "      <td>8</td>\n",
       "    </tr>\n",
       "    <tr>\n",
       "      <th>48651</th>\n",
       "      <td>4273</td>\n",
       "      <td>5</td>\n",
       "      <td>5</td>\n",
       "      <td>from</td>\n",
       "      <td>case</td>\n",
       "      <td>6</td>\n",
       "      <td>6</td>\n",
       "      <td>1</td>\n",
       "      <td>1</td>\n",
       "      <td>case</td>\n",
       "      <td>3</td>\n",
       "    </tr>\n",
       "    <tr>\n",
       "      <th>48652</th>\n",
       "      <td>4273</td>\n",
       "      <td>6</td>\n",
       "      <td>6</td>\n",
       "      <td>cleveland</td>\n",
       "      <td>nmod</td>\n",
       "      <td>4</td>\n",
       "      <td>4</td>\n",
       "      <td>-2</td>\n",
       "      <td>2</td>\n",
       "      <td>nmod</td>\n",
       "      <td>6</td>\n",
       "    </tr>\n",
       "    <tr>\n",
       "      <th>48653</th>\n",
       "      <td>4273</td>\n",
       "      <td>7</td>\n",
       "      <td>7</td>\n",
       "      <td>to</td>\n",
       "      <td>case</td>\n",
       "      <td>8</td>\n",
       "      <td>8</td>\n",
       "      <td>1</td>\n",
       "      <td>1</td>\n",
       "      <td>case</td>\n",
       "      <td>3</td>\n",
       "    </tr>\n",
       "    <tr>\n",
       "      <th>48654</th>\n",
       "      <td>4273</td>\n",
       "      <td>8</td>\n",
       "      <td>8</td>\n",
       "      <td>memphis</td>\n",
       "      <td>nmod</td>\n",
       "      <td>4</td>\n",
       "      <td>4</td>\n",
       "      <td>-4</td>\n",
       "      <td>4</td>\n",
       "      <td>nmod</td>\n",
       "      <td>6</td>\n",
       "    </tr>\n",
       "  </tbody>\n",
       "</table>\n",
       "<p>48655 rows × 11 columns</p>\n",
       "</div>"
      ],
      "text/plain": [
       "       sentence_id  token_id  id       form deprel  head  token_head  \\\n",
       "0                0         1   1       what   root     0           0   \n",
       "1                0         2   2         is    cop     1           1   \n",
       "2                0         3   3        the    det     4           4   \n",
       "3                0         4   4       cost  nsubj     1           1   \n",
       "4                0         5   5         of   case     7           7   \n",
       "...            ...       ...  ..        ...    ...   ...         ...   \n",
       "48650         4273         4   4    flights    obj     1           1   \n",
       "48651         4273         5   5       from   case     6           6   \n",
       "48652         4273         6   6  cleveland   nmod     4           4   \n",
       "48653         4273         7   7         to   case     8           8   \n",
       "48654         4273         8   8    memphis   nmod     4           4   \n",
       "\n",
       "       length_relation  abs_length_relation deprel_universal  deprel_order  \n",
       "0                   -1                    1             root             1  \n",
       "1                   -1                    1              cop            15  \n",
       "2                    1                    1              det             4  \n",
       "3                   -3                    3            nsubj             2  \n",
       "4                    2                    2             case             3  \n",
       "...                ...                  ...              ...           ...  \n",
       "48650               -3                    3              obj             8  \n",
       "48651                1                    1             case             3  \n",
       "48652               -2                    2             nmod             6  \n",
       "48653                1                    1             case             3  \n",
       "48654               -4                    4             nmod             6  \n",
       "\n",
       "[48655 rows x 11 columns]"
      ]
     },
     "execution_count": 739,
     "metadata": {},
     "output_type": "execute_result"
    }
   ],
   "source": [
    "def parse_sentence_dependencies(data):\n",
    "    l_head, l_deprel = [], []\n",
    "    for sentence_id, sentence in enumerate(data):\n",
    "        for token_id, token in enumerate(sentence):\n",
    "            l_head.append((sentence_id, token_id+1, token[\"id\"], token[\"form\"], token[\"deprel\"], token[\"head\"]))\n",
    "            deps = token[\"deps\"]\n",
    "            if isinstance(deps, list):\n",
    "                for dep in deps:\n",
    "                    l_deprel.append((sentence_id, token_id+1, token[\"id\"], token[\"form\"],)+dep)\n",
    "    return l_head, l_deprel\n",
    "\n",
    "def build_dfDeprel(l_deprel):\n",
    "    df_deprel = pd.DataFrame(l_deprel, columns=[\"sentence_id\", \"token_id\", \"id\", \"form\", \"deprel\", \"head\"])\n",
    "    df_deprel = pd.merge(df_deprel, df_deprel[[\"sentence_id\", \"token_id\", \"id\"]].rename(columns={\"token_id\":\"token_head\"}).drop_duplicates(),\n",
    "    how=\"left\", left_on=[\"sentence_id\", \"head\"], right_on=[\"sentence_id\", \"id\"], suffixes=(\"\", \"_head\")).drop(columns=[\"id_head\"])\n",
    "    df_deprel[\"token_head\"] = df_deprel.apply(lambda u: u[\"token_head\"] if not(pd.isna(u[\"token_head\"])) else u[\"head\"], axis=1).astype(int)\n",
    "    df_deprel[\"length_relation\"] = df_deprel[\"token_head\"] - df_deprel[\"token_id\"]\n",
    "    df_deprel[\"abs_length_relation\"] = df_deprel[\"length_relation\"].abs()\n",
    "    df_deprel[\"deprel_universal\"] = df_deprel[\"deprel\"].apply(lambda u: u.split(\":\")[0])\n",
    "    return df_deprel\n",
    "\n",
    "def build_dfHead(l_head):\n",
    "    df_head = pd.DataFrame(l_head, columns=[\"sentence_id\", \"token_id\", \"id\", \"form\", \"deprel\", \"head\"]).dropna(subset=[\"head\"])\n",
    "    df_head[\"head\"] = df_head[\"head\"].astype(int)\n",
    "    df_head[\"id\"] = df_head[\"id\"].astype(int)\n",
    "    df_head = pd.merge(df_head, df_head[[\"sentence_id\", \"token_id\", \"id\"]].rename(columns={\"token_id\":\"token_head\"}).drop_duplicates(),\n",
    "    how=\"left\", left_on=[\"sentence_id\", \"head\"], right_on=[\"sentence_id\", \"id\"], suffixes=(\"\", \"_head\")).drop(columns=[\"id_head\"])\n",
    "    df_head[\"token_head\"] = df_head.apply(lambda u: u[\"token_head\"] if not(pd.isna(u[\"token_head\"])) else u[\"head\"], axis=1).astype(int)\n",
    "    df_head[\"length_relation\"] = df_head[\"head\"] - df_head[\"id\"]\n",
    "    df_head[\"abs_length_relation\"] = df_head[\"length_relation\"].abs()\n",
    "    df_head[\"deprel_universal\"] = df_head[\"deprel\"].apply(lambda u: u.split(\":\")[0])\n",
    "    return df_head\n",
    "\n",
    "def process_data(data):\n",
    "    l_head, l_deprel = parse_sentence_dependencies(data)\n",
    "    df_deprel = build_dfDeprel(l_deprel)\n",
    "    df_head = build_dfHead(l_head)\n",
    "    df_ud = df_deprel if len(df_deprel) > 0 else df_head\n",
    "    df_ud[\"deprel_order\"] = df_ud[\"deprel_universal\"].map({k: i for i, k in enumerate(list(D_RELATIONS.keys()))})\n",
    "    return df_ud"
   ]
  },
  {
   "cell_type": "code",
   "execution_count": 745,
   "metadata": {},
   "outputs": [
    {
     "name": "stdout",
     "output_type": "stream",
     "text": [
      "Processing GUM...\n",
      "Processing EWT...\n",
      "Processing LinES...\n",
      "Processing ParTUT...\n",
      "Processing Atis...\n"
     ]
    },
    {
     "data": {
      "text/html": [
       "<div>\n",
       "<style scoped>\n",
       "    .dataframe tbody tr th:only-of-type {\n",
       "        vertical-align: middle;\n",
       "    }\n",
       "\n",
       "    .dataframe tbody tr th {\n",
       "        vertical-align: top;\n",
       "    }\n",
       "\n",
       "    .dataframe thead th {\n",
       "        text-align: right;\n",
       "    }\n",
       "</style>\n",
       "<table border=\"1\" class=\"dataframe\">\n",
       "  <thead>\n",
       "    <tr style=\"text-align: right;\">\n",
       "      <th></th>\n",
       "      <th>sentence_id</th>\n",
       "      <th>token_id</th>\n",
       "      <th>id</th>\n",
       "      <th>form</th>\n",
       "      <th>deprel</th>\n",
       "      <th>head</th>\n",
       "      <th>token_head</th>\n",
       "      <th>length_relation</th>\n",
       "      <th>abs_length_relation</th>\n",
       "      <th>deprel_universal</th>\n",
       "      <th>deprel_order</th>\n",
       "      <th>set</th>\n",
       "      <th>dataset</th>\n",
       "    </tr>\n",
       "  </thead>\n",
       "  <tbody>\n",
       "    <tr>\n",
       "      <th>0</th>\n",
       "      <td>0</td>\n",
       "      <td>1</td>\n",
       "      <td>1</td>\n",
       "      <td>Aesthetic</td>\n",
       "      <td>amod</td>\n",
       "      <td>2</td>\n",
       "      <td>2</td>\n",
       "      <td>1</td>\n",
       "      <td>1</td>\n",
       "      <td>amod</td>\n",
       "      <td>9.0</td>\n",
       "      <td>train</td>\n",
       "      <td>GUM</td>\n",
       "    </tr>\n",
       "    <tr>\n",
       "      <th>1</th>\n",
       "      <td>0</td>\n",
       "      <td>2</td>\n",
       "      <td>2</td>\n",
       "      <td>Appreciation</td>\n",
       "      <td>root</td>\n",
       "      <td>0</td>\n",
       "      <td>0</td>\n",
       "      <td>-2</td>\n",
       "      <td>2</td>\n",
       "      <td>root</td>\n",
       "      <td>1.0</td>\n",
       "      <td>train</td>\n",
       "      <td>GUM</td>\n",
       "    </tr>\n",
       "    <tr>\n",
       "      <th>2</th>\n",
       "      <td>0</td>\n",
       "      <td>3</td>\n",
       "      <td>3</td>\n",
       "      <td>and</td>\n",
       "      <td>cc</td>\n",
       "      <td>5</td>\n",
       "      <td>5</td>\n",
       "      <td>2</td>\n",
       "      <td>2</td>\n",
       "      <td>cc</td>\n",
       "      <td>14.0</td>\n",
       "      <td>train</td>\n",
       "      <td>GUM</td>\n",
       "    </tr>\n",
       "    <tr>\n",
       "      <th>3</th>\n",
       "      <td>0</td>\n",
       "      <td>4</td>\n",
       "      <td>4</td>\n",
       "      <td>Spanish</td>\n",
       "      <td>amod</td>\n",
       "      <td>5</td>\n",
       "      <td>5</td>\n",
       "      <td>1</td>\n",
       "      <td>1</td>\n",
       "      <td>amod</td>\n",
       "      <td>9.0</td>\n",
       "      <td>train</td>\n",
       "      <td>GUM</td>\n",
       "    </tr>\n",
       "    <tr>\n",
       "      <th>4</th>\n",
       "      <td>0</td>\n",
       "      <td>5</td>\n",
       "      <td>5</td>\n",
       "      <td>Art</td>\n",
       "      <td>conj:and</td>\n",
       "      <td>2</td>\n",
       "      <td>2</td>\n",
       "      <td>-3</td>\n",
       "      <td>3</td>\n",
       "      <td>conj</td>\n",
       "      <td>12.0</td>\n",
       "      <td>train</td>\n",
       "      <td>GUM</td>\n",
       "    </tr>\n",
       "    <tr>\n",
       "      <th>...</th>\n",
       "      <td>...</td>\n",
       "      <td>...</td>\n",
       "      <td>...</td>\n",
       "      <td>...</td>\n",
       "      <td>...</td>\n",
       "      <td>...</td>\n",
       "      <td>...</td>\n",
       "      <td>...</td>\n",
       "      <td>...</td>\n",
       "      <td>...</td>\n",
       "      <td>...</td>\n",
       "      <td>...</td>\n",
       "      <td>...</td>\n",
       "    </tr>\n",
       "    <tr>\n",
       "      <th>6639</th>\n",
       "      <td>571</td>\n",
       "      <td>7</td>\n",
       "      <td>7</td>\n",
       "      <td>land</td>\n",
       "      <td>root</td>\n",
       "      <td>0</td>\n",
       "      <td>0</td>\n",
       "      <td>-7</td>\n",
       "      <td>7</td>\n",
       "      <td>root</td>\n",
       "      <td>1.0</td>\n",
       "      <td>dev</td>\n",
       "      <td>Atis</td>\n",
       "    </tr>\n",
       "    <tr>\n",
       "      <th>6640</th>\n",
       "      <td>571</td>\n",
       "      <td>8</td>\n",
       "      <td>8</td>\n",
       "      <td>at</td>\n",
       "      <td>case</td>\n",
       "      <td>11</td>\n",
       "      <td>11</td>\n",
       "      <td>3</td>\n",
       "      <td>3</td>\n",
       "      <td>case</td>\n",
       "      <td>3.0</td>\n",
       "      <td>dev</td>\n",
       "      <td>Atis</td>\n",
       "    </tr>\n",
       "    <tr>\n",
       "      <th>6641</th>\n",
       "      <td>571</td>\n",
       "      <td>9</td>\n",
       "      <td>9</td>\n",
       "      <td>the</td>\n",
       "      <td>det</td>\n",
       "      <td>11</td>\n",
       "      <td>11</td>\n",
       "      <td>2</td>\n",
       "      <td>2</td>\n",
       "      <td>det</td>\n",
       "      <td>4.0</td>\n",
       "      <td>dev</td>\n",
       "      <td>Atis</td>\n",
       "    </tr>\n",
       "    <tr>\n",
       "      <th>6642</th>\n",
       "      <td>571</td>\n",
       "      <td>10</td>\n",
       "      <td>10</td>\n",
       "      <td>same</td>\n",
       "      <td>amod</td>\n",
       "      <td>11</td>\n",
       "      <td>11</td>\n",
       "      <td>1</td>\n",
       "      <td>1</td>\n",
       "      <td>amod</td>\n",
       "      <td>9.0</td>\n",
       "      <td>dev</td>\n",
       "      <td>Atis</td>\n",
       "    </tr>\n",
       "    <tr>\n",
       "      <th>6643</th>\n",
       "      <td>571</td>\n",
       "      <td>11</td>\n",
       "      <td>11</td>\n",
       "      <td>place</td>\n",
       "      <td>obl</td>\n",
       "      <td>7</td>\n",
       "      <td>7</td>\n",
       "      <td>-4</td>\n",
       "      <td>4</td>\n",
       "      <td>obl</td>\n",
       "      <td>7.0</td>\n",
       "      <td>dev</td>\n",
       "      <td>Atis</td>\n",
       "    </tr>\n",
       "  </tbody>\n",
       "</table>\n",
       "<p>697628 rows × 13 columns</p>\n",
       "</div>"
      ],
      "text/plain": [
       "      sentence_id  token_id  id          form    deprel head  token_head  \\\n",
       "0               0         1   1     Aesthetic      amod    2           2   \n",
       "1               0         2   2  Appreciation      root    0           0   \n",
       "2               0         3   3           and        cc    5           5   \n",
       "3               0         4   4       Spanish      amod    5           5   \n",
       "4               0         5   5           Art  conj:and    2           2   \n",
       "...           ...       ...  ..           ...       ...  ...         ...   \n",
       "6639          571         7   7          land      root    0           0   \n",
       "6640          571         8   8            at      case   11          11   \n",
       "6641          571         9   9           the       det   11          11   \n",
       "6642          571        10  10          same      amod   11          11   \n",
       "6643          571        11  11         place       obl    7           7   \n",
       "\n",
       "      length_relation  abs_length_relation deprel_universal  deprel_order  \\\n",
       "0                   1                    1             amod           9.0   \n",
       "1                  -2                    2             root           1.0   \n",
       "2                   2                    2               cc          14.0   \n",
       "3                   1                    1             amod           9.0   \n",
       "4                  -3                    3             conj          12.0   \n",
       "...               ...                  ...              ...           ...   \n",
       "6639               -7                    7             root           1.0   \n",
       "6640                3                    3             case           3.0   \n",
       "6641                2                    2              det           4.0   \n",
       "6642                1                    1             amod           9.0   \n",
       "6643               -4                    4              obl           7.0   \n",
       "\n",
       "        set dataset  \n",
       "0     train     GUM  \n",
       "1     train     GUM  \n",
       "2     train     GUM  \n",
       "3     train     GUM  \n",
       "4     train     GUM  \n",
       "...     ...     ...  \n",
       "6639    dev    Atis  \n",
       "6640    dev    Atis  \n",
       "6641    dev    Atis  \n",
       "6642    dev    Atis  \n",
       "6643    dev    Atis  \n",
       "\n",
       "[697628 rows x 13 columns]"
      ]
     },
     "execution_count": 745,
     "metadata": {},
     "output_type": "execute_result"
    }
   ],
   "source": [
    "datasets_ud_english = [\"GUM\", \"EWT\", \"LinES\", \"ParTUT\", \"Atis\"]\n",
    "\n",
    "l_df = []\n",
    "for dataset in datasets_ud_english:\n",
    "    print(f\"Processing {dataset}...\")\n",
    "    data_train = parse(open(f\"/home/pierrick/datasets/Universal Dependencies 2.14/ud-treebanks-v2.14/UD_English-{dataset}/en_{dataset.lower()}-ud-train.conllu\", \"r\").read())\n",
    "    data_test = parse(open(f\"/home/pierrick/datasets/Universal Dependencies 2.14/ud-treebanks-v2.14/UD_English-{dataset}/en_{dataset.lower()}-ud-test.conllu\", \"r\").read())\n",
    "    data_dev = parse(open(f\"/home/pierrick/datasets/Universal Dependencies 2.14/ud-treebanks-v2.14/UD_English-{dataset}/en_{dataset.lower()}-ud-dev.conllu\", \"r\").read())\n",
    "    df_train = process_data(data_train)\n",
    "    df_train[\"set\"] = \"train\"\n",
    "    df_test = process_data(data_test)\n",
    "    df_test[\"set\"] = \"test\"\n",
    "    df_dev = process_data(data_dev)\n",
    "    df_dev[\"set\"] = \"dev\"\n",
    "    df = pd.concat([df_train, df_test, df_dev])\n",
    "    df[\"dataset\"] = dataset\n",
    "    l_df.append(df)\n",
    "\n",
    "df_ud_english = pd.concat(l_df)\n",
    "df_ud_english"
   ]
  },
  {
   "cell_type": "code",
   "execution_count": null,
   "metadata": {},
   "outputs": [],
   "source": []
  }
 ],
 "metadata": {
  "kernelspec": {
   "display_name": "bertaphore",
   "language": "python",
   "name": "python3"
  },
  "language_info": {
   "codemirror_mode": {
    "name": "ipython",
    "version": 3
   },
   "file_extension": ".py",
   "mimetype": "text/x-python",
   "name": "python",
   "nbconvert_exporter": "python",
   "pygments_lexer": "ipython3",
   "version": "3.11.9"
  }
 },
 "nbformat": 4,
 "nbformat_minor": 2
}
