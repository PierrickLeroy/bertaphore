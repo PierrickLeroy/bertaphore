{
 "cells": [
  {
   "cell_type": "markdown",
   "metadata": {},
   "source": [
    "# Setup"
   ]
  },
  {
   "cell_type": "code",
   "execution_count": 1,
   "metadata": {},
   "outputs": [],
   "source": [
    "%load_ext autoreload\n",
    "%autoreload 2"
   ]
  },
  {
   "cell_type": "code",
   "execution_count": 2,
   "metadata": {},
   "outputs": [
    {
     "name": "stderr",
     "output_type": "stream",
     "text": [
      "/home/pierrick/miniconda3/envs/bertaphore/lib/python3.11/site-packages/tqdm/auto.py:21: TqdmWarning: IProgress not found. Please update jupyter and ipywidgets. See https://ipywidgets.readthedocs.io/en/stable/user_install.html\n",
      "  from .autonotebook import tqdm as notebook_tqdm\n"
     ]
    }
   ],
   "source": [
    "import os, sys\n",
    "root_folder_name = \"bertaphore\"\n",
    "p = os.getcwd()\n",
    "while os.path.basename(p) != root_folder_name:\n",
    "    p = os.path.dirname(p)\n",
    "sys.path.insert(0, p)\n",
    "\n",
    "import torch\n",
    "from conllu import parse\n",
    "import pandas as pd\n",
    "import numpy as np\n",
    "import plotly.express as px\n",
    "from modules import metric\n",
    "from transformers import AutoTokenizer, AutoModel, utils\n",
    "utils.logging.set_verbosity_error()  # Suppress standard warnings\n",
    "from bertviz import model_view, head_view\n",
    "from scipy.linalg import toeplitz\n",
    "\n",
    "\n",
    "model_name = \"microsoft/xtremedistil-l12-h384-uncased\"  # Find popular HuggingFace models here: https://huggingface.co/models\n",
    "model = AutoModel.from_pretrained(model_name, output_attentions=True)  # Configure model to return attention values\n",
    "tokenizer = AutoTokenizer.from_pretrained(model_name)"
   ]
  },
  {
   "cell_type": "markdown",
   "metadata": {},
   "source": [
    "# Experiment"
   ]
  },
  {
   "cell_type": "code",
   "execution_count": 3,
   "metadata": {},
   "outputs": [
    {
     "data": {
      "text/plain": [
       "2.373994827270508"
      ]
     },
     "execution_count": 3,
     "metadata": {},
     "output_type": "execute_result"
    }
   ],
   "source": [
    "burdenizer = metric.AttentionalBurden(model, tokenizer\n",
    "                                      , prune_cls_sep=True\n",
    "                                      , normalize_attention=True\n",
    "                                      )\n",
    "burdenizer.compute_burden(\"Alice is eating pizza. I like Bob.\")"
   ]
  },
  {
   "cell_type": "code",
   "execution_count": 4,
   "metadata": {},
   "outputs": [],
   "source": [
    "data = open(\"/home/pierrick/datasets/Universal Dependencies 2.14/ud-treebanks-v2.14/UD_English-EWT/en_ewt-ud-train.conllu\", \"r\").read()\n",
    "data = parse(data)\n",
    "# data[4].metadata[\"text\"]"
   ]
  },
  {
   "cell_type": "code",
   "execution_count": 5,
   "metadata": {},
   "outputs": [],
   "source": [
    "D_RELATIONS = {\"punct\":False\n",
    "               ,\"root\":False\n",
    "               ,\"nsubj\":True\n",
    "               ,\"case\":True\n",
    "               ,\"det\":True\n",
    "               ,\"advmod\":True\n",
    "               ,\"nmod\":True\n",
    "               ,\"obl\":True\n",
    "               ,\"obj\":True\n",
    "               ,\"amod\":True\n",
    "               ,\"compound\":False\n",
    "               ,\"aux\":True\n",
    "               ,\"conj\":False\n",
    "               ,\"mark\":False\n",
    "               ,\"cc\":False\n",
    "               ,\"cop\":True\n",
    "               ,'advcl': False,\n",
    "               'acl': True,\n",
    "               'xcomp': True,\n",
    "               'nummod': True,\n",
    "               'ccomp': False,\n",
    "               'flat': True,\n",
    "               'parataxis': False,\n",
    "               'appos': False,\n",
    "               'discourse': False,\n",
    "               'iobj': False,\n",
    "               'expl': False,\n",
    "               'fixed': False,\n",
    "               'list': False,\n",
    "               'csubj': False,\n",
    "               'vocative': False,\n",
    "               'goeswith': False,\n",
    "               'reparandum': False,\n",
    "               'orphan': False,\n",
    "               'dislocated': False,\n",
    "               'dep': False,\n",
    "               '_': False\n",
    "              }"
   ]
  },
  {
   "cell_type": "code",
   "execution_count": 6,
   "metadata": {},
   "outputs": [],
   "source": [
    "l_head, l_deprel = [], []\n",
    "for sentence in data:\n",
    "    l_head_1 = []\n",
    "    l_deprel_1 = []\n",
    "    for token in sentence:\n",
    "        l_head_1.append((token[\"id\"], token[\"deprel\"], token[\"head\"]))\n",
    "        deps = token[\"deps\"]\n",
    "        if isinstance(deps, list):\n",
    "            for dep in deps:\n",
    "                l_deprel_1.append((token[\"id\"],)+dep)\n",
    "    l_head.append(l_head_1)\n",
    "    l_deprel.append(l_deprel_1)"
   ]
  },
  {
   "cell_type": "markdown",
   "metadata": {},
   "source": [
    "## EDA"
   ]
  },
  {
   "cell_type": "code",
   "execution_count": 7,
   "metadata": {},
   "outputs": [
    {
     "data": {
      "text/html": [
       "<div>\n",
       "<style scoped>\n",
       "    .dataframe tbody tr th:only-of-type {\n",
       "        vertical-align: middle;\n",
       "    }\n",
       "\n",
       "    .dataframe tbody tr th {\n",
       "        vertical-align: top;\n",
       "    }\n",
       "\n",
       "    .dataframe thead th {\n",
       "        text-align: right;\n",
       "    }\n",
       "</style>\n",
       "<table border=\"1\" class=\"dataframe\">\n",
       "  <thead>\n",
       "    <tr style=\"text-align: right;\">\n",
       "      <th></th>\n",
       "      <th>abs_length_relation</th>\n",
       "      <th>count</th>\n",
       "      <th>keep_attentional_burden</th>\n",
       "      <th>manual</th>\n",
       "    </tr>\n",
       "    <tr>\n",
       "      <th>deprel_universal</th>\n",
       "      <th></th>\n",
       "      <th></th>\n",
       "      <th></th>\n",
       "      <th></th>\n",
       "    </tr>\n",
       "  </thead>\n",
       "  <tbody>\n",
       "    <tr>\n",
       "      <th>fixed</th>\n",
       "      <td>1.085455</td>\n",
       "      <td>550</td>\n",
       "      <td>False</td>\n",
       "      <td>False</td>\n",
       "    </tr>\n",
       "    <tr>\n",
       "      <th>iobj</th>\n",
       "      <td>1.248074</td>\n",
       "      <td>649</td>\n",
       "      <td>False</td>\n",
       "      <td>False</td>\n",
       "    </tr>\n",
       "    <tr>\n",
       "      <th>compound</th>\n",
       "      <td>1.299519</td>\n",
       "      <td>8320</td>\n",
       "      <td>False</td>\n",
       "      <td>False</td>\n",
       "    </tr>\n",
       "    <tr>\n",
       "      <th>nummod</th>\n",
       "      <td>1.335391</td>\n",
       "      <td>2430</td>\n",
       "      <td>True</td>\n",
       "      <td>True</td>\n",
       "    </tr>\n",
       "    <tr>\n",
       "      <th>goeswith</th>\n",
       "      <td>1.360902</td>\n",
       "      <td>133</td>\n",
       "      <td>False</td>\n",
       "      <td>False</td>\n",
       "    </tr>\n",
       "    <tr>\n",
       "      <th>amod</th>\n",
       "      <td>1.371606</td>\n",
       "      <td>9650</td>\n",
       "      <td>True</td>\n",
       "      <td>True</td>\n",
       "    </tr>\n",
       "    <tr>\n",
       "      <th>flat</th>\n",
       "      <td>1.478426</td>\n",
       "      <td>1576</td>\n",
       "      <td>True</td>\n",
       "      <td>True</td>\n",
       "    </tr>\n",
       "    <tr>\n",
       "      <th>expl</th>\n",
       "      <td>1.561667</td>\n",
       "      <td>600</td>\n",
       "      <td>False</td>\n",
       "      <td>False</td>\n",
       "    </tr>\n",
       "    <tr>\n",
       "      <th>aux</th>\n",
       "      <td>1.635496</td>\n",
       "      <td>7860</td>\n",
       "      <td>True</td>\n",
       "      <td>True</td>\n",
       "    </tr>\n",
       "    <tr>\n",
       "      <th>det</th>\n",
       "      <td>1.648677</td>\n",
       "      <td>15954</td>\n",
       "      <td>True</td>\n",
       "      <td>True</td>\n",
       "    </tr>\n",
       "    <tr>\n",
       "      <th>case</th>\n",
       "      <td>2.031345</td>\n",
       "      <td>17419</td>\n",
       "      <td>True</td>\n",
       "      <td>True</td>\n",
       "    </tr>\n",
       "    <tr>\n",
       "      <th>advmod</th>\n",
       "      <td>2.116721</td>\n",
       "      <td>11249</td>\n",
       "      <td>True</td>\n",
       "      <td>True</td>\n",
       "    </tr>\n",
       "    <tr>\n",
       "      <th>obj</th>\n",
       "      <td>2.203836</td>\n",
       "      <td>9905</td>\n",
       "      <td>True</td>\n",
       "      <td>True</td>\n",
       "    </tr>\n",
       "    <tr>\n",
       "      <th>cop</th>\n",
       "      <td>2.267698</td>\n",
       "      <td>4718</td>\n",
       "      <td>True</td>\n",
       "      <td>True</td>\n",
       "    </tr>\n",
       "    <tr>\n",
       "      <th>xcomp</th>\n",
       "      <td>2.386437</td>\n",
       "      <td>3082</td>\n",
       "      <td>True</td>\n",
       "      <td>True</td>\n",
       "    </tr>\n",
       "    <tr>\n",
       "      <th>reparandum</th>\n",
       "      <td>2.393939</td>\n",
       "      <td>33</td>\n",
       "      <td>False</td>\n",
       "      <td>False</td>\n",
       "    </tr>\n",
       "    <tr>\n",
       "      <th>mark</th>\n",
       "      <td>2.487511</td>\n",
       "      <td>7126</td>\n",
       "      <td>False</td>\n",
       "      <td>False</td>\n",
       "    </tr>\n",
       "    <tr>\n",
       "      <th>cc</th>\n",
       "      <td>2.589646</td>\n",
       "      <td>6838</td>\n",
       "      <td>False</td>\n",
       "      <td>False</td>\n",
       "    </tr>\n",
       "    <tr>\n",
       "      <th>nsubj</th>\n",
       "      <td>2.701007</td>\n",
       "      <td>17375</td>\n",
       "      <td>True</td>\n",
       "      <td>True</td>\n",
       "    </tr>\n",
       "    <tr>\n",
       "      <th>nmod</th>\n",
       "      <td>2.837338</td>\n",
       "      <td>11029</td>\n",
       "      <td>True</td>\n",
       "      <td>True</td>\n",
       "    </tr>\n",
       "    <tr>\n",
       "      <th>orphan</th>\n",
       "      <td>2.961538</td>\n",
       "      <td>26</td>\n",
       "      <td>False</td>\n",
       "      <td>False</td>\n",
       "    </tr>\n",
       "    <tr>\n",
       "      <th>dep</th>\n",
       "      <td>3.333333</td>\n",
       "      <td>3</td>\n",
       "      <td>False</td>\n",
       "      <td>False</td>\n",
       "    </tr>\n",
       "    <tr>\n",
       "      <th>vocative</th>\n",
       "      <td>3.553957</td>\n",
       "      <td>139</td>\n",
       "      <td>False</td>\n",
       "      <td>False</td>\n",
       "    </tr>\n",
       "    <tr>\n",
       "      <th>acl</th>\n",
       "      <td>3.639320</td>\n",
       "      <td>3413</td>\n",
       "      <td>True</td>\n",
       "      <td>True</td>\n",
       "    </tr>\n",
       "    <tr>\n",
       "      <th>appos</th>\n",
       "      <td>3.653074</td>\n",
       "      <td>1545</td>\n",
       "      <td>False</td>\n",
       "      <td>False</td>\n",
       "    </tr>\n",
       "    <tr>\n",
       "      <th>discourse</th>\n",
       "      <td>4.325553</td>\n",
       "      <td>814</td>\n",
       "      <td>False</td>\n",
       "      <td>False</td>\n",
       "    </tr>\n",
       "    <tr>\n",
       "      <th>obl</th>\n",
       "      <td>4.554798</td>\n",
       "      <td>10119</td>\n",
       "      <td>True</td>\n",
       "      <td>True</td>\n",
       "    </tr>\n",
       "    <tr>\n",
       "      <th>root</th>\n",
       "      <td>4.720504</td>\n",
       "      <td>12544</td>\n",
       "      <td>False</td>\n",
       "      <td>False</td>\n",
       "    </tr>\n",
       "    <tr>\n",
       "      <th>csubj</th>\n",
       "      <td>5.337838</td>\n",
       "      <td>296</td>\n",
       "      <td>False</td>\n",
       "      <td>False</td>\n",
       "    </tr>\n",
       "    <tr>\n",
       "      <th>ccomp</th>\n",
       "      <td>5.648623</td>\n",
       "      <td>2106</td>\n",
       "      <td>False</td>\n",
       "      <td>False</td>\n",
       "    </tr>\n",
       "    <tr>\n",
       "      <th>advcl</th>\n",
       "      <td>7.012468</td>\n",
       "      <td>3930</td>\n",
       "      <td>False</td>\n",
       "      <td>False</td>\n",
       "    </tr>\n",
       "    <tr>\n",
       "      <th>conj</th>\n",
       "      <td>7.035662</td>\n",
       "      <td>7571</td>\n",
       "      <td>False</td>\n",
       "      <td>False</td>\n",
       "    </tr>\n",
       "    <tr>\n",
       "      <th>punct</th>\n",
       "      <td>7.617226</td>\n",
       "      <td>23557</td>\n",
       "      <td>False</td>\n",
       "      <td>False</td>\n",
       "    </tr>\n",
       "    <tr>\n",
       "      <th>list</th>\n",
       "      <td>8.022523</td>\n",
       "      <td>444</td>\n",
       "      <td>False</td>\n",
       "      <td>False</td>\n",
       "    </tr>\n",
       "    <tr>\n",
       "      <th>parataxis</th>\n",
       "      <td>11.363694</td>\n",
       "      <td>1570</td>\n",
       "      <td>False</td>\n",
       "      <td>False</td>\n",
       "    </tr>\n",
       "    <tr>\n",
       "      <th>dislocated</th>\n",
       "      <td>11.400000</td>\n",
       "      <td>5</td>\n",
       "      <td>False</td>\n",
       "      <td>False</td>\n",
       "    </tr>\n",
       "    <tr>\n",
       "      <th>_</th>\n",
       "      <td>0.000000</td>\n",
       "      <td>0</td>\n",
       "      <td>False</td>\n",
       "      <td>False</td>\n",
       "    </tr>\n",
       "  </tbody>\n",
       "</table>\n",
       "</div>"
      ],
      "text/plain": [
       "                  abs_length_relation  count  keep_attentional_burden  manual\n",
       "deprel_universal                                                             \n",
       "fixed                        1.085455    550                    False   False\n",
       "iobj                         1.248074    649                    False   False\n",
       "compound                     1.299519   8320                    False   False\n",
       "nummod                       1.335391   2430                     True    True\n",
       "goeswith                     1.360902    133                    False   False\n",
       "amod                         1.371606   9650                     True    True\n",
       "flat                         1.478426   1576                     True    True\n",
       "expl                         1.561667    600                    False   False\n",
       "aux                          1.635496   7860                     True    True\n",
       "det                          1.648677  15954                     True    True\n",
       "case                         2.031345  17419                     True    True\n",
       "advmod                       2.116721  11249                     True    True\n",
       "obj                          2.203836   9905                     True    True\n",
       "cop                          2.267698   4718                     True    True\n",
       "xcomp                        2.386437   3082                     True    True\n",
       "reparandum                   2.393939     33                    False   False\n",
       "mark                         2.487511   7126                    False   False\n",
       "cc                           2.589646   6838                    False   False\n",
       "nsubj                        2.701007  17375                     True    True\n",
       "nmod                         2.837338  11029                     True    True\n",
       "orphan                       2.961538     26                    False   False\n",
       "dep                          3.333333      3                    False   False\n",
       "vocative                     3.553957    139                    False   False\n",
       "acl                          3.639320   3413                     True    True\n",
       "appos                        3.653074   1545                    False   False\n",
       "discourse                    4.325553    814                    False   False\n",
       "obl                          4.554798  10119                     True    True\n",
       "root                         4.720504  12544                    False   False\n",
       "csubj                        5.337838    296                    False   False\n",
       "ccomp                        5.648623   2106                    False   False\n",
       "advcl                        7.012468   3930                    False   False\n",
       "conj                         7.035662   7571                    False   False\n",
       "punct                        7.617226  23557                    False   False\n",
       "list                         8.022523    444                    False   False\n",
       "parataxis                   11.363694   1570                    False   False\n",
       "dislocated                  11.400000      5                    False   False\n",
       "_                            0.000000      0                    False   False"
      ]
     },
     "execution_count": 7,
     "metadata": {},
     "output_type": "execute_result"
    }
   ],
   "source": [
    "def process_parsedData(l_parsed_data):\n",
    "    \"\"\"Process parsed data and perform various transformations and aggregations.\n",
    "\n",
    "        l_parsed_data (list): A list of parsed data. Each element represents a text.\n",
    "            Each text is composed of a list of tuples. Each tuple has the format (id, deprel, head).\n",
    "            i.e. (position, relation, position of related)\n",
    "\n",
    "    Returns:\n",
    "        pandas.DataFrame: Processed dataframe with calculated columns.\n",
    "    \"\"\"\n",
    "    df = pd.DataFrame([x for sublist in l_parsed_data for x in sublist], columns=[\"id\", \"deprel\", \"head\"])\n",
    "    df[\"id_raw\"] = df[\"id\"]\n",
    "    df[\"id\"] = df[\"id_raw\"].apply(lambda u: float(u) if isinstance(u, (int, float)) else np.nan)\n",
    "    df[\"head_raw\"] = df[\"head\"]\n",
    "    df[\"head\"] = df[\"head_raw\"].apply(lambda u: float(u) if isinstance(u, (int, float)) else np.nan)\n",
    "    df[\"length_relation\"] = df[\"head\"] - df[\"id\"]\n",
    "    df[\"abs_length_relation\"] = np.abs(df[\"length_relation\"]).astype(float)\n",
    "    df[\"deprel_universal\"] = df[\"deprel\"].apply(lambda u: u.split(\":\")[0])\n",
    "    # groupby\n",
    "    df = df.groupby(\"deprel_universal\").agg({\"abs_length_relation\": \"mean\",\n",
    "                                    \"id\": \"count\"}).sort_values(\"abs_length_relation\"\n",
    "                                                                ).rename(columns={\"id\": \"count\"})\n",
    "    df[\"abs_length_relation\"] = df[\"abs_length_relation\"].fillna(0.)\n",
    "    df[\"keep_attentional_burden\"] = np.NaN\n",
    "    df[\"keep_attentional_burden\"] = df[\"keep_attentional_burden\"].astype(bool)\n",
    "    df = df.merge(pd.Series(D_RELATIONS, name=\"manual\"), how=\"left\", left_index=True, right_index=True)\n",
    "    df[\"keep_attentional_burden\"] = df[\"keep_attentional_burden\"] & df[\"manual\"]\n",
    "    return df\n",
    "\n",
    "\n",
    "df = process_parsedData(l_head)\n",
    "df"
   ]
  },
  {
   "cell_type": "code",
   "execution_count": 8,
   "metadata": {},
   "outputs": [
    {
     "data": {
      "application/vnd.plotly.v1+json": {
       "config": {
        "plotlyServerURL": "https://plot.ly"
       },
       "data": [
        {
         "customdata": [
          [
           "fixed"
          ],
          [
           "iobj"
          ],
          [
           "compound"
          ],
          [
           "goeswith"
          ],
          [
           "expl"
          ],
          [
           "reparandum"
          ],
          [
           "mark"
          ],
          [
           "cc"
          ],
          [
           "orphan"
          ],
          [
           "dep"
          ],
          [
           "vocative"
          ],
          [
           "appos"
          ],
          [
           "discourse"
          ],
          [
           "root"
          ],
          [
           "csubj"
          ],
          [
           "ccomp"
          ],
          [
           "advcl"
          ],
          [
           "conj"
          ],
          [
           "punct"
          ],
          [
           "list"
          ],
          [
           "parataxis"
          ],
          [
           "dislocated"
          ],
          [
           "_"
          ]
         ],
         "hovertemplate": "keep_attentional_burden=False<br>count=%{x}<br>abs_length_relation=%{y}<br>deprel_universal=%{customdata[0]}<extra></extra>",
         "legendgroup": "False",
         "marker": {
          "color": "#636efa",
          "symbol": "circle"
         },
         "mode": "markers",
         "name": "False",
         "orientation": "v",
         "showlegend": true,
         "type": "scatter",
         "x": [
          550,
          649,
          8320,
          133,
          600,
          33,
          7126,
          6838,
          26,
          3,
          139,
          1545,
          814,
          12544,
          296,
          2106,
          3930,
          7571,
          23557,
          444,
          1570,
          5,
          0
         ],
         "xaxis": "x",
         "y": [
          1.0854545454545454,
          1.2480739599383668,
          1.2995192307692307,
          1.3609022556390977,
          1.5616666666666668,
          2.393939393939394,
          2.487510524838619,
          2.5896460953495173,
          2.9615384615384617,
          3.3333333333333335,
          3.553956834532374,
          3.653074433656958,
          4.325552825552825,
          4.720503826530612,
          5.337837837837838,
          5.648622981956315,
          7.012468193384224,
          7.035662395984678,
          7.6172263021607165,
          8.022522522522523,
          11.363694267515923,
          11.4,
          0
         ],
         "yaxis": "y"
        },
        {
         "customdata": [
          [
           "nummod"
          ],
          [
           "amod"
          ],
          [
           "flat"
          ],
          [
           "aux"
          ],
          [
           "det"
          ],
          [
           "case"
          ],
          [
           "advmod"
          ],
          [
           "obj"
          ],
          [
           "cop"
          ],
          [
           "xcomp"
          ],
          [
           "nsubj"
          ],
          [
           "nmod"
          ],
          [
           "acl"
          ],
          [
           "obl"
          ]
         ],
         "hovertemplate": "keep_attentional_burden=True<br>count=%{x}<br>abs_length_relation=%{y}<br>deprel_universal=%{customdata[0]}<extra></extra>",
         "legendgroup": "True",
         "marker": {
          "color": "#EF553B",
          "symbol": "circle"
         },
         "mode": "markers",
         "name": "True",
         "orientation": "v",
         "showlegend": true,
         "type": "scatter",
         "x": [
          2430,
          9650,
          1576,
          7860,
          15954,
          17419,
          11249,
          9905,
          4718,
          3082,
          17375,
          11029,
          3413,
          10119
         ],
         "xaxis": "x",
         "y": [
          1.3353909465020577,
          1.3716062176165804,
          1.4784263959390862,
          1.6354961832061068,
          1.6486774476620283,
          2.0313450829553936,
          2.1167214863543427,
          2.203836446239273,
          2.267698177193726,
          2.3864373783257626,
          2.701007194244604,
          2.8373379272826185,
          3.639320246117785,
          4.554797904931317
         ],
         "yaxis": "y"
        }
       ],
       "layout": {
        "legend": {
         "title": {
          "text": "keep_attentional_burden"
         },
         "tracegroupgap": 0
        },
        "margin": {
         "t": 60
        },
        "template": {
         "data": {
          "bar": [
           {
            "error_x": {
             "color": "#2a3f5f"
            },
            "error_y": {
             "color": "#2a3f5f"
            },
            "marker": {
             "line": {
              "color": "#E5ECF6",
              "width": 0.5
             },
             "pattern": {
              "fillmode": "overlay",
              "size": 10,
              "solidity": 0.2
             }
            },
            "type": "bar"
           }
          ],
          "barpolar": [
           {
            "marker": {
             "line": {
              "color": "#E5ECF6",
              "width": 0.5
             },
             "pattern": {
              "fillmode": "overlay",
              "size": 10,
              "solidity": 0.2
             }
            },
            "type": "barpolar"
           }
          ],
          "carpet": [
           {
            "aaxis": {
             "endlinecolor": "#2a3f5f",
             "gridcolor": "white",
             "linecolor": "white",
             "minorgridcolor": "white",
             "startlinecolor": "#2a3f5f"
            },
            "baxis": {
             "endlinecolor": "#2a3f5f",
             "gridcolor": "white",
             "linecolor": "white",
             "minorgridcolor": "white",
             "startlinecolor": "#2a3f5f"
            },
            "type": "carpet"
           }
          ],
          "choropleth": [
           {
            "colorbar": {
             "outlinewidth": 0,
             "ticks": ""
            },
            "type": "choropleth"
           }
          ],
          "contour": [
           {
            "colorbar": {
             "outlinewidth": 0,
             "ticks": ""
            },
            "colorscale": [
             [
              0,
              "#0d0887"
             ],
             [
              0.1111111111111111,
              "#46039f"
             ],
             [
              0.2222222222222222,
              "#7201a8"
             ],
             [
              0.3333333333333333,
              "#9c179e"
             ],
             [
              0.4444444444444444,
              "#bd3786"
             ],
             [
              0.5555555555555556,
              "#d8576b"
             ],
             [
              0.6666666666666666,
              "#ed7953"
             ],
             [
              0.7777777777777778,
              "#fb9f3a"
             ],
             [
              0.8888888888888888,
              "#fdca26"
             ],
             [
              1,
              "#f0f921"
             ]
            ],
            "type": "contour"
           }
          ],
          "contourcarpet": [
           {
            "colorbar": {
             "outlinewidth": 0,
             "ticks": ""
            },
            "type": "contourcarpet"
           }
          ],
          "heatmap": [
           {
            "colorbar": {
             "outlinewidth": 0,
             "ticks": ""
            },
            "colorscale": [
             [
              0,
              "#0d0887"
             ],
             [
              0.1111111111111111,
              "#46039f"
             ],
             [
              0.2222222222222222,
              "#7201a8"
             ],
             [
              0.3333333333333333,
              "#9c179e"
             ],
             [
              0.4444444444444444,
              "#bd3786"
             ],
             [
              0.5555555555555556,
              "#d8576b"
             ],
             [
              0.6666666666666666,
              "#ed7953"
             ],
             [
              0.7777777777777778,
              "#fb9f3a"
             ],
             [
              0.8888888888888888,
              "#fdca26"
             ],
             [
              1,
              "#f0f921"
             ]
            ],
            "type": "heatmap"
           }
          ],
          "heatmapgl": [
           {
            "colorbar": {
             "outlinewidth": 0,
             "ticks": ""
            },
            "colorscale": [
             [
              0,
              "#0d0887"
             ],
             [
              0.1111111111111111,
              "#46039f"
             ],
             [
              0.2222222222222222,
              "#7201a8"
             ],
             [
              0.3333333333333333,
              "#9c179e"
             ],
             [
              0.4444444444444444,
              "#bd3786"
             ],
             [
              0.5555555555555556,
              "#d8576b"
             ],
             [
              0.6666666666666666,
              "#ed7953"
             ],
             [
              0.7777777777777778,
              "#fb9f3a"
             ],
             [
              0.8888888888888888,
              "#fdca26"
             ],
             [
              1,
              "#f0f921"
             ]
            ],
            "type": "heatmapgl"
           }
          ],
          "histogram": [
           {
            "marker": {
             "pattern": {
              "fillmode": "overlay",
              "size": 10,
              "solidity": 0.2
             }
            },
            "type": "histogram"
           }
          ],
          "histogram2d": [
           {
            "colorbar": {
             "outlinewidth": 0,
             "ticks": ""
            },
            "colorscale": [
             [
              0,
              "#0d0887"
             ],
             [
              0.1111111111111111,
              "#46039f"
             ],
             [
              0.2222222222222222,
              "#7201a8"
             ],
             [
              0.3333333333333333,
              "#9c179e"
             ],
             [
              0.4444444444444444,
              "#bd3786"
             ],
             [
              0.5555555555555556,
              "#d8576b"
             ],
             [
              0.6666666666666666,
              "#ed7953"
             ],
             [
              0.7777777777777778,
              "#fb9f3a"
             ],
             [
              0.8888888888888888,
              "#fdca26"
             ],
             [
              1,
              "#f0f921"
             ]
            ],
            "type": "histogram2d"
           }
          ],
          "histogram2dcontour": [
           {
            "colorbar": {
             "outlinewidth": 0,
             "ticks": ""
            },
            "colorscale": [
             [
              0,
              "#0d0887"
             ],
             [
              0.1111111111111111,
              "#46039f"
             ],
             [
              0.2222222222222222,
              "#7201a8"
             ],
             [
              0.3333333333333333,
              "#9c179e"
             ],
             [
              0.4444444444444444,
              "#bd3786"
             ],
             [
              0.5555555555555556,
              "#d8576b"
             ],
             [
              0.6666666666666666,
              "#ed7953"
             ],
             [
              0.7777777777777778,
              "#fb9f3a"
             ],
             [
              0.8888888888888888,
              "#fdca26"
             ],
             [
              1,
              "#f0f921"
             ]
            ],
            "type": "histogram2dcontour"
           }
          ],
          "mesh3d": [
           {
            "colorbar": {
             "outlinewidth": 0,
             "ticks": ""
            },
            "type": "mesh3d"
           }
          ],
          "parcoords": [
           {
            "line": {
             "colorbar": {
              "outlinewidth": 0,
              "ticks": ""
             }
            },
            "type": "parcoords"
           }
          ],
          "pie": [
           {
            "automargin": true,
            "type": "pie"
           }
          ],
          "scatter": [
           {
            "fillpattern": {
             "fillmode": "overlay",
             "size": 10,
             "solidity": 0.2
            },
            "type": "scatter"
           }
          ],
          "scatter3d": [
           {
            "line": {
             "colorbar": {
              "outlinewidth": 0,
              "ticks": ""
             }
            },
            "marker": {
             "colorbar": {
              "outlinewidth": 0,
              "ticks": ""
             }
            },
            "type": "scatter3d"
           }
          ],
          "scattercarpet": [
           {
            "marker": {
             "colorbar": {
              "outlinewidth": 0,
              "ticks": ""
             }
            },
            "type": "scattercarpet"
           }
          ],
          "scattergeo": [
           {
            "marker": {
             "colorbar": {
              "outlinewidth": 0,
              "ticks": ""
             }
            },
            "type": "scattergeo"
           }
          ],
          "scattergl": [
           {
            "marker": {
             "colorbar": {
              "outlinewidth": 0,
              "ticks": ""
             }
            },
            "type": "scattergl"
           }
          ],
          "scattermapbox": [
           {
            "marker": {
             "colorbar": {
              "outlinewidth": 0,
              "ticks": ""
             }
            },
            "type": "scattermapbox"
           }
          ],
          "scatterpolar": [
           {
            "marker": {
             "colorbar": {
              "outlinewidth": 0,
              "ticks": ""
             }
            },
            "type": "scatterpolar"
           }
          ],
          "scatterpolargl": [
           {
            "marker": {
             "colorbar": {
              "outlinewidth": 0,
              "ticks": ""
             }
            },
            "type": "scatterpolargl"
           }
          ],
          "scatterternary": [
           {
            "marker": {
             "colorbar": {
              "outlinewidth": 0,
              "ticks": ""
             }
            },
            "type": "scatterternary"
           }
          ],
          "surface": [
           {
            "colorbar": {
             "outlinewidth": 0,
             "ticks": ""
            },
            "colorscale": [
             [
              0,
              "#0d0887"
             ],
             [
              0.1111111111111111,
              "#46039f"
             ],
             [
              0.2222222222222222,
              "#7201a8"
             ],
             [
              0.3333333333333333,
              "#9c179e"
             ],
             [
              0.4444444444444444,
              "#bd3786"
             ],
             [
              0.5555555555555556,
              "#d8576b"
             ],
             [
              0.6666666666666666,
              "#ed7953"
             ],
             [
              0.7777777777777778,
              "#fb9f3a"
             ],
             [
              0.8888888888888888,
              "#fdca26"
             ],
             [
              1,
              "#f0f921"
             ]
            ],
            "type": "surface"
           }
          ],
          "table": [
           {
            "cells": {
             "fill": {
              "color": "#EBF0F8"
             },
             "line": {
              "color": "white"
             }
            },
            "header": {
             "fill": {
              "color": "#C8D4E3"
             },
             "line": {
              "color": "white"
             }
            },
            "type": "table"
           }
          ]
         },
         "layout": {
          "annotationdefaults": {
           "arrowcolor": "#2a3f5f",
           "arrowhead": 0,
           "arrowwidth": 1
          },
          "autotypenumbers": "strict",
          "coloraxis": {
           "colorbar": {
            "outlinewidth": 0,
            "ticks": ""
           }
          },
          "colorscale": {
           "diverging": [
            [
             0,
             "#8e0152"
            ],
            [
             0.1,
             "#c51b7d"
            ],
            [
             0.2,
             "#de77ae"
            ],
            [
             0.3,
             "#f1b6da"
            ],
            [
             0.4,
             "#fde0ef"
            ],
            [
             0.5,
             "#f7f7f7"
            ],
            [
             0.6,
             "#e6f5d0"
            ],
            [
             0.7,
             "#b8e186"
            ],
            [
             0.8,
             "#7fbc41"
            ],
            [
             0.9,
             "#4d9221"
            ],
            [
             1,
             "#276419"
            ]
           ],
           "sequential": [
            [
             0,
             "#0d0887"
            ],
            [
             0.1111111111111111,
             "#46039f"
            ],
            [
             0.2222222222222222,
             "#7201a8"
            ],
            [
             0.3333333333333333,
             "#9c179e"
            ],
            [
             0.4444444444444444,
             "#bd3786"
            ],
            [
             0.5555555555555556,
             "#d8576b"
            ],
            [
             0.6666666666666666,
             "#ed7953"
            ],
            [
             0.7777777777777778,
             "#fb9f3a"
            ],
            [
             0.8888888888888888,
             "#fdca26"
            ],
            [
             1,
             "#f0f921"
            ]
           ],
           "sequentialminus": [
            [
             0,
             "#0d0887"
            ],
            [
             0.1111111111111111,
             "#46039f"
            ],
            [
             0.2222222222222222,
             "#7201a8"
            ],
            [
             0.3333333333333333,
             "#9c179e"
            ],
            [
             0.4444444444444444,
             "#bd3786"
            ],
            [
             0.5555555555555556,
             "#d8576b"
            ],
            [
             0.6666666666666666,
             "#ed7953"
            ],
            [
             0.7777777777777778,
             "#fb9f3a"
            ],
            [
             0.8888888888888888,
             "#fdca26"
            ],
            [
             1,
             "#f0f921"
            ]
           ]
          },
          "colorway": [
           "#636efa",
           "#EF553B",
           "#00cc96",
           "#ab63fa",
           "#FFA15A",
           "#19d3f3",
           "#FF6692",
           "#B6E880",
           "#FF97FF",
           "#FECB52"
          ],
          "font": {
           "color": "#2a3f5f"
          },
          "geo": {
           "bgcolor": "white",
           "lakecolor": "white",
           "landcolor": "#E5ECF6",
           "showlakes": true,
           "showland": true,
           "subunitcolor": "white"
          },
          "hoverlabel": {
           "align": "left"
          },
          "hovermode": "closest",
          "mapbox": {
           "style": "light"
          },
          "paper_bgcolor": "white",
          "plot_bgcolor": "#E5ECF6",
          "polar": {
           "angularaxis": {
            "gridcolor": "white",
            "linecolor": "white",
            "ticks": ""
           },
           "bgcolor": "#E5ECF6",
           "radialaxis": {
            "gridcolor": "white",
            "linecolor": "white",
            "ticks": ""
           }
          },
          "scene": {
           "xaxis": {
            "backgroundcolor": "#E5ECF6",
            "gridcolor": "white",
            "gridwidth": 2,
            "linecolor": "white",
            "showbackground": true,
            "ticks": "",
            "zerolinecolor": "white"
           },
           "yaxis": {
            "backgroundcolor": "#E5ECF6",
            "gridcolor": "white",
            "gridwidth": 2,
            "linecolor": "white",
            "showbackground": true,
            "ticks": "",
            "zerolinecolor": "white"
           },
           "zaxis": {
            "backgroundcolor": "#E5ECF6",
            "gridcolor": "white",
            "gridwidth": 2,
            "linecolor": "white",
            "showbackground": true,
            "ticks": "",
            "zerolinecolor": "white"
           }
          },
          "shapedefaults": {
           "line": {
            "color": "#2a3f5f"
           }
          },
          "ternary": {
           "aaxis": {
            "gridcolor": "white",
            "linecolor": "white",
            "ticks": ""
           },
           "baxis": {
            "gridcolor": "white",
            "linecolor": "white",
            "ticks": ""
           },
           "bgcolor": "#E5ECF6",
           "caxis": {
            "gridcolor": "white",
            "linecolor": "white",
            "ticks": ""
           }
          },
          "title": {
           "x": 0.05
          },
          "xaxis": {
           "automargin": true,
           "gridcolor": "white",
           "linecolor": "white",
           "ticks": "",
           "title": {
            "standoff": 15
           },
           "zerolinecolor": "white",
           "zerolinewidth": 2
          },
          "yaxis": {
           "automargin": true,
           "gridcolor": "white",
           "linecolor": "white",
           "ticks": "",
           "title": {
            "standoff": 15
           },
           "zerolinecolor": "white",
           "zerolinewidth": 2
          }
         }
        },
        "xaxis": {
         "anchor": "y",
         "domain": [
          0,
          1
         ],
         "title": {
          "text": "count"
         }
        },
        "yaxis": {
         "anchor": "x",
         "domain": [
          0,
          1
         ],
         "title": {
          "text": "abs_length_relation"
         }
        }
       }
      }
     },
     "metadata": {},
     "output_type": "display_data"
    }
   ],
   "source": [
    "px.scatter(df, x=\"count\", y=\"abs_length_relation\", hover_data=[df.index],\n",
    "           color=\"keep_attentional_burden\"\n",
    "           )"
   ]
  },
  {
   "cell_type": "markdown",
   "metadata": {},
   "source": [
    "## Correlation between linguistic and attentional metrics"
   ]
  },
  {
   "cell_type": "code",
   "execution_count": 9,
   "metadata": {},
   "outputs": [],
   "source": [
    "def calculate_linguisticsScores(l_parsed_data):\n",
    "    d = {\"score_linguistics\":[], \"length_linguistics\":[]}\n",
    "    for sentence in l_parsed_data:\n",
    "        score = 0\n",
    "        for (u, rel, v) in sentence:\n",
    "            if D_RELATIONS[rel.split(\":\")[0]]:\n",
    "                score += abs(u-v)\n",
    "        d[\"score_linguistics\"].append(score)\n",
    "        d[\"length_linguistics\"].append(len(sentence))\n",
    "    return d\n",
    "\n",
    "def calculate_attentionalScores(data, verbose=False):\n",
    "    d = {\"score_attentional\":[], \"length_attentional\":[]}\n",
    "    for i, sentence in enumerate(data):\n",
    "        if i % 100 == 0 and verbose:\n",
    "            print(f\"Processing sentence {i}...\")\n",
    "        text = sentence.metadata[\"text\"]\n",
    "        burden = burdenizer.compute_burden(text)\n",
    "        d[\"score_attentional\"].append(burden)\n",
    "        d[\"length_attentional\"].append(len(burdenizer.tokens))\n",
    "    return d"
   ]
  },
  {
   "cell_type": "code",
   "execution_count": 10,
   "metadata": {},
   "outputs": [
    {
     "name": "stdout",
     "output_type": "stream",
     "text": [
      "Processing sentence 0...\n",
      "Processing sentence 100...\n",
      "Processing sentence 200...\n",
      "Processing sentence 300...\n",
      "Processing sentence 400...\n",
      "Processing sentence 500...\n",
      "Processing sentence 600...\n",
      "Processing sentence 700...\n",
      "Processing sentence 800...\n",
      "Processing sentence 900...\n",
      "Processing sentence 1000...\n",
      "Processing sentence 1100...\n",
      "Processing sentence 1200...\n",
      "Processing sentence 1300...\n",
      "Processing sentence 1400...\n",
      "Processing sentence 1500...\n",
      "Processing sentence 1600...\n",
      "Processing sentence 1700...\n",
      "Processing sentence 1800...\n",
      "Processing sentence 1900...\n",
      "Processing sentence 2000...\n",
      "Processing sentence 2100...\n",
      "Processing sentence 2200...\n",
      "Processing sentence 2300...\n",
      "Processing sentence 2400...\n",
      "Processing sentence 2500...\n",
      "Processing sentence 2600...\n",
      "Processing sentence 2700...\n",
      "Processing sentence 2800...\n",
      "Processing sentence 2900...\n",
      "Processing sentence 3000...\n",
      "Processing sentence 3100...\n",
      "Processing sentence 3200...\n",
      "Processing sentence 3300...\n",
      "Processing sentence 3400...\n",
      "Processing sentence 3500...\n",
      "Processing sentence 3600...\n",
      "Processing sentence 3700...\n",
      "Processing sentence 3800...\n",
      "Processing sentence 3900...\n",
      "Processing sentence 4000...\n",
      "Processing sentence 4100...\n",
      "Processing sentence 4200...\n",
      "Processing sentence 4300...\n",
      "Processing sentence 4400...\n",
      "Processing sentence 4500...\n",
      "Processing sentence 4600...\n",
      "Processing sentence 4700...\n",
      "Processing sentence 4800...\n",
      "Processing sentence 4900...\n",
      "Processing sentence 5000...\n",
      "Processing sentence 5100...\n",
      "Processing sentence 5200...\n",
      "Processing sentence 5300...\n",
      "Processing sentence 5400...\n",
      "Processing sentence 5500...\n",
      "Processing sentence 5600...\n",
      "Processing sentence 5700...\n",
      "Processing sentence 5800...\n",
      "Processing sentence 5900...\n",
      "Processing sentence 6000...\n",
      "Processing sentence 6100...\n",
      "Processing sentence 6200...\n",
      "Processing sentence 6300...\n",
      "Processing sentence 6400...\n",
      "Processing sentence 6500...\n",
      "Processing sentence 6600...\n",
      "Processing sentence 6700...\n",
      "Processing sentence 6800...\n",
      "Processing sentence 6900...\n",
      "Processing sentence 7000...\n",
      "Processing sentence 7100...\n",
      "Processing sentence 7200...\n",
      "Processing sentence 7300...\n",
      "Processing sentence 7400...\n",
      "Processing sentence 7500...\n",
      "Processing sentence 7600...\n",
      "Processing sentence 7700...\n",
      "Processing sentence 7800...\n",
      "Processing sentence 7900...\n",
      "Processing sentence 8000...\n",
      "Processing sentence 8100...\n",
      "Processing sentence 8200...\n",
      "Processing sentence 8300...\n",
      "Processing sentence 8400...\n",
      "Processing sentence 8500...\n",
      "Processing sentence 8600...\n",
      "Processing sentence 8700...\n",
      "Processing sentence 8800...\n",
      "Processing sentence 8900...\n",
      "Processing sentence 9000...\n",
      "Processing sentence 9100...\n",
      "Processing sentence 9200...\n",
      "Processing sentence 9300...\n",
      "Processing sentence 9400...\n",
      "Processing sentence 9500...\n",
      "Processing sentence 9600...\n",
      "Processing sentence 9700...\n",
      "Processing sentence 9800...\n",
      "Processing sentence 9900...\n",
      "Processing sentence 10000...\n",
      "Processing sentence 10100...\n",
      "Processing sentence 10200...\n",
      "Processing sentence 10300...\n",
      "Processing sentence 10400...\n",
      "Processing sentence 10500...\n",
      "Processing sentence 10600...\n",
      "Processing sentence 10700...\n",
      "Processing sentence 10800...\n",
      "Processing sentence 10900...\n",
      "Processing sentence 11000...\n",
      "Processing sentence 11100...\n",
      "Processing sentence 11200...\n",
      "Processing sentence 11300...\n",
      "Processing sentence 11400...\n",
      "Processing sentence 11500...\n",
      "Processing sentence 11600...\n",
      "Processing sentence 11700...\n",
      "Processing sentence 11800...\n",
      "Processing sentence 11900...\n",
      "Processing sentence 12000...\n",
      "Processing sentence 12100...\n",
      "Processing sentence 12200...\n",
      "Processing sentence 12300...\n",
      "Processing sentence 12400...\n",
      "Processing sentence 12500...\n"
     ]
    }
   ],
   "source": [
    "d_linguistics = calculate_linguisticsScores(l_head)\n",
    "d_attentional = calculate_attentionalScores(data, verbose=True)"
   ]
  },
  {
   "cell_type": "code",
   "execution_count": 328,
   "metadata": {},
   "outputs": [
    {
     "data": {
      "text/html": [
       "<div>\n",
       "<style scoped>\n",
       "    .dataframe tbody tr th:only-of-type {\n",
       "        vertical-align: middle;\n",
       "    }\n",
       "\n",
       "    .dataframe tbody tr th {\n",
       "        vertical-align: top;\n",
       "    }\n",
       "\n",
       "    .dataframe thead th {\n",
       "        text-align: right;\n",
       "    }\n",
       "</style>\n",
       "<table border=\"1\" class=\"dataframe\">\n",
       "  <thead>\n",
       "    <tr style=\"text-align: right;\">\n",
       "      <th></th>\n",
       "      <th>score_linguistics</th>\n",
       "      <th>length_linguistics</th>\n",
       "      <th>score_attentional</th>\n",
       "      <th>length_attentional</th>\n",
       "    </tr>\n",
       "  </thead>\n",
       "  <tbody>\n",
       "    <tr>\n",
       "      <th>0</th>\n",
       "      <td>41</td>\n",
       "      <td>29</td>\n",
       "      <td>7.798654</td>\n",
       "      <td>34</td>\n",
       "    </tr>\n",
       "    <tr>\n",
       "      <th>1</th>\n",
       "      <td>30</td>\n",
       "      <td>18</td>\n",
       "      <td>4.516824</td>\n",
       "      <td>18</td>\n",
       "    </tr>\n",
       "    <tr>\n",
       "      <th>2</th>\n",
       "      <td>16</td>\n",
       "      <td>17</td>\n",
       "      <td>4.095079</td>\n",
       "      <td>18</td>\n",
       "    </tr>\n",
       "    <tr>\n",
       "      <th>3</th>\n",
       "      <td>29</td>\n",
       "      <td>16</td>\n",
       "      <td>3.979782</td>\n",
       "      <td>16</td>\n",
       "    </tr>\n",
       "    <tr>\n",
       "      <th>4</th>\n",
       "      <td>85</td>\n",
       "      <td>36</td>\n",
       "      <td>9.871046</td>\n",
       "      <td>41</td>\n",
       "    </tr>\n",
       "    <tr>\n",
       "      <th>...</th>\n",
       "      <td>...</td>\n",
       "      <td>...</td>\n",
       "      <td>...</td>\n",
       "      <td>...</td>\n",
       "    </tr>\n",
       "    <tr>\n",
       "      <th>12539</th>\n",
       "      <td>78</td>\n",
       "      <td>56</td>\n",
       "      <td>12.820340</td>\n",
       "      <td>57</td>\n",
       "    </tr>\n",
       "    <tr>\n",
       "      <th>12540</th>\n",
       "      <td>31</td>\n",
       "      <td>22</td>\n",
       "      <td>5.315275</td>\n",
       "      <td>22</td>\n",
       "    </tr>\n",
       "    <tr>\n",
       "      <th>12541</th>\n",
       "      <td>45</td>\n",
       "      <td>24</td>\n",
       "      <td>6.000471</td>\n",
       "      <td>24</td>\n",
       "    </tr>\n",
       "    <tr>\n",
       "      <th>12542</th>\n",
       "      <td>37</td>\n",
       "      <td>25</td>\n",
       "      <td>7.513777</td>\n",
       "      <td>30</td>\n",
       "    </tr>\n",
       "    <tr>\n",
       "      <th>12543</th>\n",
       "      <td>37</td>\n",
       "      <td>26</td>\n",
       "      <td>6.681394</td>\n",
       "      <td>26</td>\n",
       "    </tr>\n",
       "  </tbody>\n",
       "</table>\n",
       "<p>12544 rows × 4 columns</p>\n",
       "</div>"
      ],
      "text/plain": [
       "       score_linguistics  length_linguistics  score_attentional  \\\n",
       "0                     41                  29           7.798654   \n",
       "1                     30                  18           4.516824   \n",
       "2                     16                  17           4.095079   \n",
       "3                     29                  16           3.979782   \n",
       "4                     85                  36           9.871046   \n",
       "...                  ...                 ...                ...   \n",
       "12539                 78                  56          12.820340   \n",
       "12540                 31                  22           5.315275   \n",
       "12541                 45                  24           6.000471   \n",
       "12542                 37                  25           7.513777   \n",
       "12543                 37                  26           6.681394   \n",
       "\n",
       "       length_attentional  \n",
       "0                      34  \n",
       "1                      18  \n",
       "2                      18  \n",
       "3                      16  \n",
       "4                      41  \n",
       "...                   ...  \n",
       "12539                  57  \n",
       "12540                  22  \n",
       "12541                  24  \n",
       "12542                  30  \n",
       "12543                  26  \n",
       "\n",
       "[12544 rows x 4 columns]"
      ]
     },
     "execution_count": 11,
     "metadata": {},
     "output_type": "execute_result"
    }
   ],
   "source": [
    "df_results = pd.DataFrame(d_linguistics | d_attentional)\n",
    "df_results"
   ]
  },
  {
   "cell_type": "code",
   "execution_count": 329,
   "metadata": {},
   "outputs": [
    {
     "data": {
      "application/vnd.plotly.v1+json": {
       "config": {
        "plotlyServerURL": "https://plot.ly"
       },
       "data": [
        {
         "hovertemplate": "type=length_attentional<br>length=%{x}<br>count=%{y}<extra></extra>",
         "legendgroup": "length_attentional",
         "line": {
          "color": "#636efa",
          "dash": "solid"
         },
         "marker": {
          "symbol": "circle"
         },
         "mode": "lines",
         "name": "length_attentional",
         "orientation": "v",
         "showlegend": true,
         "type": "scatter",
         "x": [
          1,
          2,
          3,
          4,
          5,
          6,
          7,
          8,
          9,
          10,
          11,
          12,
          13,
          14,
          15,
          16,
          17,
          18,
          19,
          20,
          21,
          22,
          23,
          24,
          25,
          26,
          27,
          28,
          29,
          30,
          31,
          32,
          33,
          34,
          35,
          36,
          37,
          38,
          39,
          40,
          41,
          42,
          43,
          44,
          45,
          46,
          47,
          48,
          49,
          50,
          51,
          52,
          53,
          54,
          55,
          56,
          57,
          58,
          59,
          60,
          61,
          62,
          63,
          64,
          65,
          66,
          67,
          68,
          69,
          70,
          71,
          72,
          73,
          74,
          75,
          76,
          77,
          78,
          79,
          80,
          82,
          83,
          84,
          85,
          86,
          87,
          88,
          89,
          90,
          93,
          94,
          95,
          100,
          101,
          103,
          104,
          105,
          106,
          109,
          116,
          127,
          158,
          160,
          174
         ],
         "xaxis": "x",
         "y": [
          306,
          469,
          326,
          320,
          365,
          413,
          410,
          431,
          550,
          423,
          455,
          445,
          464,
          401,
          396,
          442,
          401,
          368,
          351,
          349,
          325,
          321,
          316,
          305,
          271,
          234,
          206,
          177,
          179,
          161,
          184,
          138,
          125,
          118,
          107,
          90,
          83,
          95,
          88,
          61,
          79,
          67,
          67,
          62,
          44,
          36,
          43,
          34,
          30,
          34,
          24,
          30,
          19,
          25,
          19,
          15,
          14,
          20,
          16,
          18,
          11,
          7,
          11,
          6,
          10,
          14,
          9,
          10,
          9,
          8,
          10,
          5,
          6,
          7,
          4,
          3,
          3,
          4,
          3,
          4,
          1,
          3,
          3,
          2,
          1,
          1,
          1,
          3,
          1,
          1,
          1,
          1,
          2,
          1,
          1,
          3,
          1,
          1,
          1,
          1,
          1,
          1,
          1,
          2
         ],
         "yaxis": "y"
        },
        {
         "hovertemplate": "type=length_linguistics<br>length=%{x}<br>count=%{y}<extra></extra>",
         "legendgroup": "length_linguistics",
         "line": {
          "color": "#EF553B",
          "dash": "solid"
         },
         "marker": {
          "symbol": "circle"
         },
         "mode": "lines",
         "name": "length_linguistics",
         "orientation": "v",
         "showlegend": true,
         "type": "scatter",
         "x": [
          1,
          2,
          3,
          4,
          5,
          6,
          7,
          8,
          9,
          10,
          11,
          12,
          13,
          14,
          15,
          16,
          17,
          18,
          19,
          20,
          21,
          22,
          23,
          24,
          25,
          26,
          27,
          28,
          29,
          30,
          31,
          32,
          33,
          34,
          35,
          36,
          37,
          38,
          39,
          40,
          41,
          42,
          43,
          44,
          45,
          46,
          47,
          48,
          49,
          50,
          51,
          52,
          53,
          54,
          55,
          56,
          57,
          58,
          59,
          60,
          61,
          62,
          63,
          64,
          65,
          66,
          67,
          68,
          69,
          70,
          71,
          72,
          73,
          74,
          76,
          77,
          78,
          80,
          81,
          83,
          85,
          86,
          89,
          90,
          91,
          95,
          97,
          99,
          102,
          105,
          143,
          160
         ],
         "xaxis": "x",
         "y": [
          521,
          622,
          492,
          353,
          405,
          426,
          439,
          429,
          443,
          464,
          471,
          478,
          415,
          437,
          431,
          423,
          360,
          374,
          371,
          356,
          304,
          294,
          320,
          264,
          221,
          214,
          197,
          194,
          175,
          128,
          151,
          120,
          114,
          97,
          81,
          79,
          88,
          70,
          85,
          58,
          62,
          45,
          39,
          49,
          29,
          34,
          16,
          30,
          25,
          21,
          20,
          23,
          17,
          14,
          9,
          13,
          4,
          12,
          10,
          10,
          4,
          9,
          6,
          3,
          6,
          5,
          6,
          10,
          2,
          5,
          2,
          1,
          6,
          2,
          5,
          4,
          1,
          1,
          2,
          2,
          1,
          1,
          2,
          2,
          1,
          2,
          1,
          1,
          2,
          1,
          1,
          1
         ],
         "yaxis": "y"
        }
       ],
       "layout": {
        "legend": {
         "title": {
          "text": "type"
         },
         "tracegroupgap": 0
        },
        "margin": {
         "t": 60
        },
        "template": {
         "data": {
          "bar": [
           {
            "error_x": {
             "color": "#2a3f5f"
            },
            "error_y": {
             "color": "#2a3f5f"
            },
            "marker": {
             "line": {
              "color": "#E5ECF6",
              "width": 0.5
             },
             "pattern": {
              "fillmode": "overlay",
              "size": 10,
              "solidity": 0.2
             }
            },
            "type": "bar"
           }
          ],
          "barpolar": [
           {
            "marker": {
             "line": {
              "color": "#E5ECF6",
              "width": 0.5
             },
             "pattern": {
              "fillmode": "overlay",
              "size": 10,
              "solidity": 0.2
             }
            },
            "type": "barpolar"
           }
          ],
          "carpet": [
           {
            "aaxis": {
             "endlinecolor": "#2a3f5f",
             "gridcolor": "white",
             "linecolor": "white",
             "minorgridcolor": "white",
             "startlinecolor": "#2a3f5f"
            },
            "baxis": {
             "endlinecolor": "#2a3f5f",
             "gridcolor": "white",
             "linecolor": "white",
             "minorgridcolor": "white",
             "startlinecolor": "#2a3f5f"
            },
            "type": "carpet"
           }
          ],
          "choropleth": [
           {
            "colorbar": {
             "outlinewidth": 0,
             "ticks": ""
            },
            "type": "choropleth"
           }
          ],
          "contour": [
           {
            "colorbar": {
             "outlinewidth": 0,
             "ticks": ""
            },
            "colorscale": [
             [
              0,
              "#0d0887"
             ],
             [
              0.1111111111111111,
              "#46039f"
             ],
             [
              0.2222222222222222,
              "#7201a8"
             ],
             [
              0.3333333333333333,
              "#9c179e"
             ],
             [
              0.4444444444444444,
              "#bd3786"
             ],
             [
              0.5555555555555556,
              "#d8576b"
             ],
             [
              0.6666666666666666,
              "#ed7953"
             ],
             [
              0.7777777777777778,
              "#fb9f3a"
             ],
             [
              0.8888888888888888,
              "#fdca26"
             ],
             [
              1,
              "#f0f921"
             ]
            ],
            "type": "contour"
           }
          ],
          "contourcarpet": [
           {
            "colorbar": {
             "outlinewidth": 0,
             "ticks": ""
            },
            "type": "contourcarpet"
           }
          ],
          "heatmap": [
           {
            "colorbar": {
             "outlinewidth": 0,
             "ticks": ""
            },
            "colorscale": [
             [
              0,
              "#0d0887"
             ],
             [
              0.1111111111111111,
              "#46039f"
             ],
             [
              0.2222222222222222,
              "#7201a8"
             ],
             [
              0.3333333333333333,
              "#9c179e"
             ],
             [
              0.4444444444444444,
              "#bd3786"
             ],
             [
              0.5555555555555556,
              "#d8576b"
             ],
             [
              0.6666666666666666,
              "#ed7953"
             ],
             [
              0.7777777777777778,
              "#fb9f3a"
             ],
             [
              0.8888888888888888,
              "#fdca26"
             ],
             [
              1,
              "#f0f921"
             ]
            ],
            "type": "heatmap"
           }
          ],
          "heatmapgl": [
           {
            "colorbar": {
             "outlinewidth": 0,
             "ticks": ""
            },
            "colorscale": [
             [
              0,
              "#0d0887"
             ],
             [
              0.1111111111111111,
              "#46039f"
             ],
             [
              0.2222222222222222,
              "#7201a8"
             ],
             [
              0.3333333333333333,
              "#9c179e"
             ],
             [
              0.4444444444444444,
              "#bd3786"
             ],
             [
              0.5555555555555556,
              "#d8576b"
             ],
             [
              0.6666666666666666,
              "#ed7953"
             ],
             [
              0.7777777777777778,
              "#fb9f3a"
             ],
             [
              0.8888888888888888,
              "#fdca26"
             ],
             [
              1,
              "#f0f921"
             ]
            ],
            "type": "heatmapgl"
           }
          ],
          "histogram": [
           {
            "marker": {
             "pattern": {
              "fillmode": "overlay",
              "size": 10,
              "solidity": 0.2
             }
            },
            "type": "histogram"
           }
          ],
          "histogram2d": [
           {
            "colorbar": {
             "outlinewidth": 0,
             "ticks": ""
            },
            "colorscale": [
             [
              0,
              "#0d0887"
             ],
             [
              0.1111111111111111,
              "#46039f"
             ],
             [
              0.2222222222222222,
              "#7201a8"
             ],
             [
              0.3333333333333333,
              "#9c179e"
             ],
             [
              0.4444444444444444,
              "#bd3786"
             ],
             [
              0.5555555555555556,
              "#d8576b"
             ],
             [
              0.6666666666666666,
              "#ed7953"
             ],
             [
              0.7777777777777778,
              "#fb9f3a"
             ],
             [
              0.8888888888888888,
              "#fdca26"
             ],
             [
              1,
              "#f0f921"
             ]
            ],
            "type": "histogram2d"
           }
          ],
          "histogram2dcontour": [
           {
            "colorbar": {
             "outlinewidth": 0,
             "ticks": ""
            },
            "colorscale": [
             [
              0,
              "#0d0887"
             ],
             [
              0.1111111111111111,
              "#46039f"
             ],
             [
              0.2222222222222222,
              "#7201a8"
             ],
             [
              0.3333333333333333,
              "#9c179e"
             ],
             [
              0.4444444444444444,
              "#bd3786"
             ],
             [
              0.5555555555555556,
              "#d8576b"
             ],
             [
              0.6666666666666666,
              "#ed7953"
             ],
             [
              0.7777777777777778,
              "#fb9f3a"
             ],
             [
              0.8888888888888888,
              "#fdca26"
             ],
             [
              1,
              "#f0f921"
             ]
            ],
            "type": "histogram2dcontour"
           }
          ],
          "mesh3d": [
           {
            "colorbar": {
             "outlinewidth": 0,
             "ticks": ""
            },
            "type": "mesh3d"
           }
          ],
          "parcoords": [
           {
            "line": {
             "colorbar": {
              "outlinewidth": 0,
              "ticks": ""
             }
            },
            "type": "parcoords"
           }
          ],
          "pie": [
           {
            "automargin": true,
            "type": "pie"
           }
          ],
          "scatter": [
           {
            "fillpattern": {
             "fillmode": "overlay",
             "size": 10,
             "solidity": 0.2
            },
            "type": "scatter"
           }
          ],
          "scatter3d": [
           {
            "line": {
             "colorbar": {
              "outlinewidth": 0,
              "ticks": ""
             }
            },
            "marker": {
             "colorbar": {
              "outlinewidth": 0,
              "ticks": ""
             }
            },
            "type": "scatter3d"
           }
          ],
          "scattercarpet": [
           {
            "marker": {
             "colorbar": {
              "outlinewidth": 0,
              "ticks": ""
             }
            },
            "type": "scattercarpet"
           }
          ],
          "scattergeo": [
           {
            "marker": {
             "colorbar": {
              "outlinewidth": 0,
              "ticks": ""
             }
            },
            "type": "scattergeo"
           }
          ],
          "scattergl": [
           {
            "marker": {
             "colorbar": {
              "outlinewidth": 0,
              "ticks": ""
             }
            },
            "type": "scattergl"
           }
          ],
          "scattermapbox": [
           {
            "marker": {
             "colorbar": {
              "outlinewidth": 0,
              "ticks": ""
             }
            },
            "type": "scattermapbox"
           }
          ],
          "scatterpolar": [
           {
            "marker": {
             "colorbar": {
              "outlinewidth": 0,
              "ticks": ""
             }
            },
            "type": "scatterpolar"
           }
          ],
          "scatterpolargl": [
           {
            "marker": {
             "colorbar": {
              "outlinewidth": 0,
              "ticks": ""
             }
            },
            "type": "scatterpolargl"
           }
          ],
          "scatterternary": [
           {
            "marker": {
             "colorbar": {
              "outlinewidth": 0,
              "ticks": ""
             }
            },
            "type": "scatterternary"
           }
          ],
          "surface": [
           {
            "colorbar": {
             "outlinewidth": 0,
             "ticks": ""
            },
            "colorscale": [
             [
              0,
              "#0d0887"
             ],
             [
              0.1111111111111111,
              "#46039f"
             ],
             [
              0.2222222222222222,
              "#7201a8"
             ],
             [
              0.3333333333333333,
              "#9c179e"
             ],
             [
              0.4444444444444444,
              "#bd3786"
             ],
             [
              0.5555555555555556,
              "#d8576b"
             ],
             [
              0.6666666666666666,
              "#ed7953"
             ],
             [
              0.7777777777777778,
              "#fb9f3a"
             ],
             [
              0.8888888888888888,
              "#fdca26"
             ],
             [
              1,
              "#f0f921"
             ]
            ],
            "type": "surface"
           }
          ],
          "table": [
           {
            "cells": {
             "fill": {
              "color": "#EBF0F8"
             },
             "line": {
              "color": "white"
             }
            },
            "header": {
             "fill": {
              "color": "#C8D4E3"
             },
             "line": {
              "color": "white"
             }
            },
            "type": "table"
           }
          ]
         },
         "layout": {
          "annotationdefaults": {
           "arrowcolor": "#2a3f5f",
           "arrowhead": 0,
           "arrowwidth": 1
          },
          "autotypenumbers": "strict",
          "coloraxis": {
           "colorbar": {
            "outlinewidth": 0,
            "ticks": ""
           }
          },
          "colorscale": {
           "diverging": [
            [
             0,
             "#8e0152"
            ],
            [
             0.1,
             "#c51b7d"
            ],
            [
             0.2,
             "#de77ae"
            ],
            [
             0.3,
             "#f1b6da"
            ],
            [
             0.4,
             "#fde0ef"
            ],
            [
             0.5,
             "#f7f7f7"
            ],
            [
             0.6,
             "#e6f5d0"
            ],
            [
             0.7,
             "#b8e186"
            ],
            [
             0.8,
             "#7fbc41"
            ],
            [
             0.9,
             "#4d9221"
            ],
            [
             1,
             "#276419"
            ]
           ],
           "sequential": [
            [
             0,
             "#0d0887"
            ],
            [
             0.1111111111111111,
             "#46039f"
            ],
            [
             0.2222222222222222,
             "#7201a8"
            ],
            [
             0.3333333333333333,
             "#9c179e"
            ],
            [
             0.4444444444444444,
             "#bd3786"
            ],
            [
             0.5555555555555556,
             "#d8576b"
            ],
            [
             0.6666666666666666,
             "#ed7953"
            ],
            [
             0.7777777777777778,
             "#fb9f3a"
            ],
            [
             0.8888888888888888,
             "#fdca26"
            ],
            [
             1,
             "#f0f921"
            ]
           ],
           "sequentialminus": [
            [
             0,
             "#0d0887"
            ],
            [
             0.1111111111111111,
             "#46039f"
            ],
            [
             0.2222222222222222,
             "#7201a8"
            ],
            [
             0.3333333333333333,
             "#9c179e"
            ],
            [
             0.4444444444444444,
             "#bd3786"
            ],
            [
             0.5555555555555556,
             "#d8576b"
            ],
            [
             0.6666666666666666,
             "#ed7953"
            ],
            [
             0.7777777777777778,
             "#fb9f3a"
            ],
            [
             0.8888888888888888,
             "#fdca26"
            ],
            [
             1,
             "#f0f921"
            ]
           ]
          },
          "colorway": [
           "#636efa",
           "#EF553B",
           "#00cc96",
           "#ab63fa",
           "#FFA15A",
           "#19d3f3",
           "#FF6692",
           "#B6E880",
           "#FF97FF",
           "#FECB52"
          ],
          "font": {
           "color": "#2a3f5f"
          },
          "geo": {
           "bgcolor": "white",
           "lakecolor": "white",
           "landcolor": "#E5ECF6",
           "showlakes": true,
           "showland": true,
           "subunitcolor": "white"
          },
          "hoverlabel": {
           "align": "left"
          },
          "hovermode": "closest",
          "mapbox": {
           "style": "light"
          },
          "paper_bgcolor": "white",
          "plot_bgcolor": "#E5ECF6",
          "polar": {
           "angularaxis": {
            "gridcolor": "white",
            "linecolor": "white",
            "ticks": ""
           },
           "bgcolor": "#E5ECF6",
           "radialaxis": {
            "gridcolor": "white",
            "linecolor": "white",
            "ticks": ""
           }
          },
          "scene": {
           "xaxis": {
            "backgroundcolor": "#E5ECF6",
            "gridcolor": "white",
            "gridwidth": 2,
            "linecolor": "white",
            "showbackground": true,
            "ticks": "",
            "zerolinecolor": "white"
           },
           "yaxis": {
            "backgroundcolor": "#E5ECF6",
            "gridcolor": "white",
            "gridwidth": 2,
            "linecolor": "white",
            "showbackground": true,
            "ticks": "",
            "zerolinecolor": "white"
           },
           "zaxis": {
            "backgroundcolor": "#E5ECF6",
            "gridcolor": "white",
            "gridwidth": 2,
            "linecolor": "white",
            "showbackground": true,
            "ticks": "",
            "zerolinecolor": "white"
           }
          },
          "shapedefaults": {
           "line": {
            "color": "#2a3f5f"
           }
          },
          "ternary": {
           "aaxis": {
            "gridcolor": "white",
            "linecolor": "white",
            "ticks": ""
           },
           "baxis": {
            "gridcolor": "white",
            "linecolor": "white",
            "ticks": ""
           },
           "bgcolor": "#E5ECF6",
           "caxis": {
            "gridcolor": "white",
            "linecolor": "white",
            "ticks": ""
           }
          },
          "title": {
           "x": 0.05
          },
          "xaxis": {
           "automargin": true,
           "gridcolor": "white",
           "linecolor": "white",
           "ticks": "",
           "title": {
            "standoff": 15
           },
           "zerolinecolor": "white",
           "zerolinewidth": 2
          },
          "yaxis": {
           "automargin": true,
           "gridcolor": "white",
           "linecolor": "white",
           "ticks": "",
           "title": {
            "standoff": 15
           },
           "zerolinecolor": "white",
           "zerolinewidth": 2
          }
         }
        },
        "xaxis": {
         "anchor": "y",
         "domain": [
          0,
          1
         ],
         "title": {
          "text": "length"
         }
        },
        "yaxis": {
         "anchor": "x",
         "domain": [
          0,
          1
         ],
         "title": {
          "text": "count"
         }
        }
       }
      }
     },
     "metadata": {},
     "output_type": "display_data"
    }
   ],
   "source": [
    "px.line(df_results[[\"length_linguistics\", \"length_attentional\"]].melt().groupby([\"variable\", \"value\"], as_index=False).size().rename(columns={\"size\":\"count\",\n",
    "                                                                                                                              \"variable\":\"type\",\n",
    "                                                                                                                             \"value\":\"length\"})\n",
    "        ,x=\"length\", y=\"count\", color=\"type\")"
   ]
  },
  {
   "cell_type": "code",
   "execution_count": 344,
   "metadata": {},
   "outputs": [
    {
     "data": {
      "text/html": [
       "<div>\n",
       "<style scoped>\n",
       "    .dataframe tbody tr th:only-of-type {\n",
       "        vertical-align: middle;\n",
       "    }\n",
       "\n",
       "    .dataframe tbody tr th {\n",
       "        vertical-align: top;\n",
       "    }\n",
       "\n",
       "    .dataframe thead th {\n",
       "        text-align: right;\n",
       "    }\n",
       "</style>\n",
       "<table border=\"1\" class=\"dataframe\">\n",
       "  <thead>\n",
       "    <tr style=\"text-align: right;\">\n",
       "      <th></th>\n",
       "      <th>score_linguistics</th>\n",
       "      <th>length_linguistics</th>\n",
       "      <th>score_attentional</th>\n",
       "      <th>length_attentional</th>\n",
       "      <th>score_linguistics_normalized</th>\n",
       "    </tr>\n",
       "  </thead>\n",
       "  <tbody>\n",
       "    <tr>\n",
       "      <th>0</th>\n",
       "      <td>41</td>\n",
       "      <td>29</td>\n",
       "      <td>7.798654</td>\n",
       "      <td>34</td>\n",
       "      <td>1.413793</td>\n",
       "    </tr>\n",
       "    <tr>\n",
       "      <th>1</th>\n",
       "      <td>30</td>\n",
       "      <td>18</td>\n",
       "      <td>4.516824</td>\n",
       "      <td>18</td>\n",
       "      <td>1.666667</td>\n",
       "    </tr>\n",
       "    <tr>\n",
       "      <th>2</th>\n",
       "      <td>16</td>\n",
       "      <td>17</td>\n",
       "      <td>4.095079</td>\n",
       "      <td>18</td>\n",
       "      <td>0.941176</td>\n",
       "    </tr>\n",
       "    <tr>\n",
       "      <th>3</th>\n",
       "      <td>29</td>\n",
       "      <td>16</td>\n",
       "      <td>3.979782</td>\n",
       "      <td>16</td>\n",
       "      <td>1.812500</td>\n",
       "    </tr>\n",
       "    <tr>\n",
       "      <th>4</th>\n",
       "      <td>85</td>\n",
       "      <td>36</td>\n",
       "      <td>9.871046</td>\n",
       "      <td>41</td>\n",
       "      <td>2.361111</td>\n",
       "    </tr>\n",
       "    <tr>\n",
       "      <th>...</th>\n",
       "      <td>...</td>\n",
       "      <td>...</td>\n",
       "      <td>...</td>\n",
       "      <td>...</td>\n",
       "      <td>...</td>\n",
       "    </tr>\n",
       "    <tr>\n",
       "      <th>12538</th>\n",
       "      <td>26</td>\n",
       "      <td>19</td>\n",
       "      <td>4.691922</td>\n",
       "      <td>19</td>\n",
       "      <td>1.368421</td>\n",
       "    </tr>\n",
       "    <tr>\n",
       "      <th>12540</th>\n",
       "      <td>31</td>\n",
       "      <td>22</td>\n",
       "      <td>5.315275</td>\n",
       "      <td>22</td>\n",
       "      <td>1.409091</td>\n",
       "    </tr>\n",
       "    <tr>\n",
       "      <th>12541</th>\n",
       "      <td>45</td>\n",
       "      <td>24</td>\n",
       "      <td>6.000471</td>\n",
       "      <td>24</td>\n",
       "      <td>1.875000</td>\n",
       "    </tr>\n",
       "    <tr>\n",
       "      <th>12542</th>\n",
       "      <td>37</td>\n",
       "      <td>25</td>\n",
       "      <td>7.513777</td>\n",
       "      <td>30</td>\n",
       "      <td>1.480000</td>\n",
       "    </tr>\n",
       "    <tr>\n",
       "      <th>12543</th>\n",
       "      <td>37</td>\n",
       "      <td>26</td>\n",
       "      <td>6.681394</td>\n",
       "      <td>26</td>\n",
       "      <td>1.423077</td>\n",
       "    </tr>\n",
       "  </tbody>\n",
       "</table>\n",
       "<p>9612 rows × 5 columns</p>\n",
       "</div>"
      ],
      "text/plain": [
       "       score_linguistics  length_linguistics  score_attentional  \\\n",
       "0                     41                  29           7.798654   \n",
       "1                     30                  18           4.516824   \n",
       "2                     16                  17           4.095079   \n",
       "3                     29                  16           3.979782   \n",
       "4                     85                  36           9.871046   \n",
       "...                  ...                 ...                ...   \n",
       "12538                 26                  19           4.691922   \n",
       "12540                 31                  22           5.315275   \n",
       "12541                 45                  24           6.000471   \n",
       "12542                 37                  25           7.513777   \n",
       "12543                 37                  26           6.681394   \n",
       "\n",
       "       length_attentional  score_linguistics_normalized  \n",
       "0                      34                      1.413793  \n",
       "1                      18                      1.666667  \n",
       "2                      18                      0.941176  \n",
       "3                      16                      1.812500  \n",
       "4                      41                      2.361111  \n",
       "...                   ...                           ...  \n",
       "12538                  19                      1.368421  \n",
       "12540                  22                      1.409091  \n",
       "12541                  24                      1.875000  \n",
       "12542                  30                      1.480000  \n",
       "12543                  26                      1.423077  \n",
       "\n",
       "[9612 rows x 5 columns]"
      ]
     },
     "execution_count": 13,
     "metadata": {},
     "output_type": "execute_result"
    }
   ],
   "source": [
    "df_results = df_results.loc[(df_results[\"length_attentional\"]<=50) & (df_results[\"length_attentional\"]>=5)]\n",
    "mask = np.minimum((df_results[\"length_attentional\"]/df_results[\"length_linguistics\"]).values,(df_results[\"length_linguistics\"]/df_results[\"length_attentional\"]).values)>0.75\n",
    "df_results = df_results.loc[mask]\n",
    "df_results[\"score_linguistics_normalized\"] = df_results[\"score_linguistics\"]/df_results[\"length_linguistics\"]\n",
    "df_results"
   ]
  },
  {
   "cell_type": "code",
   "execution_count": 345,
   "metadata": {},
   "outputs": [],
   "source": [
    "import scipy\n",
    "l_spearmanr = []\n",
    "for length_attentional in np.sort(df_results[\"length_attentional\"].unique()):\n",
    "    df = df_results.loc[df_results[\"length_attentional\"]==length_attentional]\n",
    "    a_attentional = df[\"score_attentional\"].values\n",
    "    a_linguistics = df[\"score_linguistics\"].values\n",
    "    spearmanr = scipy.stats.spearmanr(a_attentional, a_linguistics)\n",
    "    l_spearmanr.append((length_attentional, spearmanr.correlation, spearmanr.pvalue, len(df)))"
   ]
  },
  {
   "cell_type": "code",
   "execution_count": 363,
   "metadata": {},
   "outputs": [
    {
     "data": {
      "application/vnd.plotly.v1+json": {
       "config": {
        "plotlyServerURL": "https://plot.ly"
       },
       "data": [
        {
         "hovertemplate": "has_significant_pvalue=True<br>nb of attentional tokens=%{x}<br>Spearman correlation linguistics vs attentional=%{y}<br>size=%{marker.size}<extra></extra>",
         "legendgroup": "True",
         "marker": {
          "color": "#636efa",
          "size": [
           291,
           351,
           340,
           341,
           359,
           380,
           418,
           329,
           192,
           28
          ],
          "sizemode": "area",
          "sizeref": 1.06,
          "symbol": "circle"
         },
         "mode": "markers",
         "name": "True",
         "orientation": "v",
         "showlegend": true,
         "type": "scatter",
         "x": [
          5,
          6,
          7,
          8,
          9,
          10,
          11,
          20,
          27,
          50
         ],
         "xaxis": "x",
         "y": [
          0.27143445337139577,
          0.3129704590407044,
          0.22561391927548038,
          0.23184486126081333,
          0.13437959654183912,
          0.1645900150075968,
          0.11930170466800757,
          0.10965813536723783,
          0.15791870996644425,
          -0.4582080034439682
         ],
         "yaxis": "y"
        },
        {
         "hovertemplate": "has_significant_pvalue=False<br>nb of attentional tokens=%{x}<br>Spearman correlation linguistics vs attentional=%{y}<br>size=%{marker.size}<extra></extra>",
         "legendgroup": "False",
         "marker": {
          "color": "#EF553B",
          "size": [
           398,
           424,
           372,
           362,
           402,
           370,
           353,
           319,
           304,
           303,
           289,
           281,
           252,
           215,
           168,
           171,
           156,
           180,
           132,
           118,
           112,
           100,
           80,
           77,
           87,
           82,
           57,
           69,
           66,
           49,
           57,
           42,
           35,
           40,
           31,
           30
          ],
          "sizemode": "area",
          "sizeref": 1.06,
          "symbol": "circle"
         },
         "mode": "markers",
         "name": "False",
         "orientation": "v",
         "showlegend": true,
         "type": "scatter",
         "x": [
          12,
          13,
          14,
          15,
          16,
          17,
          18,
          19,
          21,
          22,
          23,
          24,
          25,
          26,
          28,
          29,
          30,
          31,
          32,
          33,
          34,
          35,
          36,
          37,
          38,
          39,
          40,
          41,
          42,
          43,
          44,
          45,
          46,
          47,
          48,
          49
         ],
         "xaxis": "x",
         "y": [
          -0.006273135923759143,
          0.07249155026744777,
          0.04749283134158817,
          0.09214683917981989,
          0.0939636179536283,
          0.08311930406358087,
          0.06413336503571362,
          0.04663276368077684,
          0.01772222513779492,
          0.040303614279516495,
          0.05653096622199308,
          -0.02413736515030443,
          0.04034130840568986,
          0.00034131430791373103,
          0.013348046512057937,
          -0.01755819620201866,
          0.0782643945375155,
          0.010896435158097567,
          0.06448725610675074,
          -0.056608293617756815,
          0.07208017137835147,
          0.13473878804572656,
          -0.10140493143663361,
          -0.2068262890218207,
          -0.017400507813176036,
          -0.06903366401281237,
          0.05985248120639314,
          -0.16531556914855713,
          -0.0698602574996152,
          -0.12830458905107836,
          -0.13526669259597146,
          0.03772209782524908,
          0.05449324207997821,
          0.1438558703780367,
          -0.1945706726458921,
          -0.018475239365931533
         ],
         "yaxis": "y"
        }
       ],
       "layout": {
        "legend": {
         "itemsizing": "constant",
         "title": {
          "text": "has_significant_pvalue"
         },
         "tracegroupgap": 0
        },
        "margin": {
         "t": 60
        },
        "template": {
         "data": {
          "bar": [
           {
            "error_x": {
             "color": "#2a3f5f"
            },
            "error_y": {
             "color": "#2a3f5f"
            },
            "marker": {
             "line": {
              "color": "#E5ECF6",
              "width": 0.5
             },
             "pattern": {
              "fillmode": "overlay",
              "size": 10,
              "solidity": 0.2
             }
            },
            "type": "bar"
           }
          ],
          "barpolar": [
           {
            "marker": {
             "line": {
              "color": "#E5ECF6",
              "width": 0.5
             },
             "pattern": {
              "fillmode": "overlay",
              "size": 10,
              "solidity": 0.2
             }
            },
            "type": "barpolar"
           }
          ],
          "carpet": [
           {
            "aaxis": {
             "endlinecolor": "#2a3f5f",
             "gridcolor": "white",
             "linecolor": "white",
             "minorgridcolor": "white",
             "startlinecolor": "#2a3f5f"
            },
            "baxis": {
             "endlinecolor": "#2a3f5f",
             "gridcolor": "white",
             "linecolor": "white",
             "minorgridcolor": "white",
             "startlinecolor": "#2a3f5f"
            },
            "type": "carpet"
           }
          ],
          "choropleth": [
           {
            "colorbar": {
             "outlinewidth": 0,
             "ticks": ""
            },
            "type": "choropleth"
           }
          ],
          "contour": [
           {
            "colorbar": {
             "outlinewidth": 0,
             "ticks": ""
            },
            "colorscale": [
             [
              0,
              "#0d0887"
             ],
             [
              0.1111111111111111,
              "#46039f"
             ],
             [
              0.2222222222222222,
              "#7201a8"
             ],
             [
              0.3333333333333333,
              "#9c179e"
             ],
             [
              0.4444444444444444,
              "#bd3786"
             ],
             [
              0.5555555555555556,
              "#d8576b"
             ],
             [
              0.6666666666666666,
              "#ed7953"
             ],
             [
              0.7777777777777778,
              "#fb9f3a"
             ],
             [
              0.8888888888888888,
              "#fdca26"
             ],
             [
              1,
              "#f0f921"
             ]
            ],
            "type": "contour"
           }
          ],
          "contourcarpet": [
           {
            "colorbar": {
             "outlinewidth": 0,
             "ticks": ""
            },
            "type": "contourcarpet"
           }
          ],
          "heatmap": [
           {
            "colorbar": {
             "outlinewidth": 0,
             "ticks": ""
            },
            "colorscale": [
             [
              0,
              "#0d0887"
             ],
             [
              0.1111111111111111,
              "#46039f"
             ],
             [
              0.2222222222222222,
              "#7201a8"
             ],
             [
              0.3333333333333333,
              "#9c179e"
             ],
             [
              0.4444444444444444,
              "#bd3786"
             ],
             [
              0.5555555555555556,
              "#d8576b"
             ],
             [
              0.6666666666666666,
              "#ed7953"
             ],
             [
              0.7777777777777778,
              "#fb9f3a"
             ],
             [
              0.8888888888888888,
              "#fdca26"
             ],
             [
              1,
              "#f0f921"
             ]
            ],
            "type": "heatmap"
           }
          ],
          "heatmapgl": [
           {
            "colorbar": {
             "outlinewidth": 0,
             "ticks": ""
            },
            "colorscale": [
             [
              0,
              "#0d0887"
             ],
             [
              0.1111111111111111,
              "#46039f"
             ],
             [
              0.2222222222222222,
              "#7201a8"
             ],
             [
              0.3333333333333333,
              "#9c179e"
             ],
             [
              0.4444444444444444,
              "#bd3786"
             ],
             [
              0.5555555555555556,
              "#d8576b"
             ],
             [
              0.6666666666666666,
              "#ed7953"
             ],
             [
              0.7777777777777778,
              "#fb9f3a"
             ],
             [
              0.8888888888888888,
              "#fdca26"
             ],
             [
              1,
              "#f0f921"
             ]
            ],
            "type": "heatmapgl"
           }
          ],
          "histogram": [
           {
            "marker": {
             "pattern": {
              "fillmode": "overlay",
              "size": 10,
              "solidity": 0.2
             }
            },
            "type": "histogram"
           }
          ],
          "histogram2d": [
           {
            "colorbar": {
             "outlinewidth": 0,
             "ticks": ""
            },
            "colorscale": [
             [
              0,
              "#0d0887"
             ],
             [
              0.1111111111111111,
              "#46039f"
             ],
             [
              0.2222222222222222,
              "#7201a8"
             ],
             [
              0.3333333333333333,
              "#9c179e"
             ],
             [
              0.4444444444444444,
              "#bd3786"
             ],
             [
              0.5555555555555556,
              "#d8576b"
             ],
             [
              0.6666666666666666,
              "#ed7953"
             ],
             [
              0.7777777777777778,
              "#fb9f3a"
             ],
             [
              0.8888888888888888,
              "#fdca26"
             ],
             [
              1,
              "#f0f921"
             ]
            ],
            "type": "histogram2d"
           }
          ],
          "histogram2dcontour": [
           {
            "colorbar": {
             "outlinewidth": 0,
             "ticks": ""
            },
            "colorscale": [
             [
              0,
              "#0d0887"
             ],
             [
              0.1111111111111111,
              "#46039f"
             ],
             [
              0.2222222222222222,
              "#7201a8"
             ],
             [
              0.3333333333333333,
              "#9c179e"
             ],
             [
              0.4444444444444444,
              "#bd3786"
             ],
             [
              0.5555555555555556,
              "#d8576b"
             ],
             [
              0.6666666666666666,
              "#ed7953"
             ],
             [
              0.7777777777777778,
              "#fb9f3a"
             ],
             [
              0.8888888888888888,
              "#fdca26"
             ],
             [
              1,
              "#f0f921"
             ]
            ],
            "type": "histogram2dcontour"
           }
          ],
          "mesh3d": [
           {
            "colorbar": {
             "outlinewidth": 0,
             "ticks": ""
            },
            "type": "mesh3d"
           }
          ],
          "parcoords": [
           {
            "line": {
             "colorbar": {
              "outlinewidth": 0,
              "ticks": ""
             }
            },
            "type": "parcoords"
           }
          ],
          "pie": [
           {
            "automargin": true,
            "type": "pie"
           }
          ],
          "scatter": [
           {
            "fillpattern": {
             "fillmode": "overlay",
             "size": 10,
             "solidity": 0.2
            },
            "type": "scatter"
           }
          ],
          "scatter3d": [
           {
            "line": {
             "colorbar": {
              "outlinewidth": 0,
              "ticks": ""
             }
            },
            "marker": {
             "colorbar": {
              "outlinewidth": 0,
              "ticks": ""
             }
            },
            "type": "scatter3d"
           }
          ],
          "scattercarpet": [
           {
            "marker": {
             "colorbar": {
              "outlinewidth": 0,
              "ticks": ""
             }
            },
            "type": "scattercarpet"
           }
          ],
          "scattergeo": [
           {
            "marker": {
             "colorbar": {
              "outlinewidth": 0,
              "ticks": ""
             }
            },
            "type": "scattergeo"
           }
          ],
          "scattergl": [
           {
            "marker": {
             "colorbar": {
              "outlinewidth": 0,
              "ticks": ""
             }
            },
            "type": "scattergl"
           }
          ],
          "scattermapbox": [
           {
            "marker": {
             "colorbar": {
              "outlinewidth": 0,
              "ticks": ""
             }
            },
            "type": "scattermapbox"
           }
          ],
          "scatterpolar": [
           {
            "marker": {
             "colorbar": {
              "outlinewidth": 0,
              "ticks": ""
             }
            },
            "type": "scatterpolar"
           }
          ],
          "scatterpolargl": [
           {
            "marker": {
             "colorbar": {
              "outlinewidth": 0,
              "ticks": ""
             }
            },
            "type": "scatterpolargl"
           }
          ],
          "scatterternary": [
           {
            "marker": {
             "colorbar": {
              "outlinewidth": 0,
              "ticks": ""
             }
            },
            "type": "scatterternary"
           }
          ],
          "surface": [
           {
            "colorbar": {
             "outlinewidth": 0,
             "ticks": ""
            },
            "colorscale": [
             [
              0,
              "#0d0887"
             ],
             [
              0.1111111111111111,
              "#46039f"
             ],
             [
              0.2222222222222222,
              "#7201a8"
             ],
             [
              0.3333333333333333,
              "#9c179e"
             ],
             [
              0.4444444444444444,
              "#bd3786"
             ],
             [
              0.5555555555555556,
              "#d8576b"
             ],
             [
              0.6666666666666666,
              "#ed7953"
             ],
             [
              0.7777777777777778,
              "#fb9f3a"
             ],
             [
              0.8888888888888888,
              "#fdca26"
             ],
             [
              1,
              "#f0f921"
             ]
            ],
            "type": "surface"
           }
          ],
          "table": [
           {
            "cells": {
             "fill": {
              "color": "#EBF0F8"
             },
             "line": {
              "color": "white"
             }
            },
            "header": {
             "fill": {
              "color": "#C8D4E3"
             },
             "line": {
              "color": "white"
             }
            },
            "type": "table"
           }
          ]
         },
         "layout": {
          "annotationdefaults": {
           "arrowcolor": "#2a3f5f",
           "arrowhead": 0,
           "arrowwidth": 1
          },
          "autotypenumbers": "strict",
          "coloraxis": {
           "colorbar": {
            "outlinewidth": 0,
            "ticks": ""
           }
          },
          "colorscale": {
           "diverging": [
            [
             0,
             "#8e0152"
            ],
            [
             0.1,
             "#c51b7d"
            ],
            [
             0.2,
             "#de77ae"
            ],
            [
             0.3,
             "#f1b6da"
            ],
            [
             0.4,
             "#fde0ef"
            ],
            [
             0.5,
             "#f7f7f7"
            ],
            [
             0.6,
             "#e6f5d0"
            ],
            [
             0.7,
             "#b8e186"
            ],
            [
             0.8,
             "#7fbc41"
            ],
            [
             0.9,
             "#4d9221"
            ],
            [
             1,
             "#276419"
            ]
           ],
           "sequential": [
            [
             0,
             "#0d0887"
            ],
            [
             0.1111111111111111,
             "#46039f"
            ],
            [
             0.2222222222222222,
             "#7201a8"
            ],
            [
             0.3333333333333333,
             "#9c179e"
            ],
            [
             0.4444444444444444,
             "#bd3786"
            ],
            [
             0.5555555555555556,
             "#d8576b"
            ],
            [
             0.6666666666666666,
             "#ed7953"
            ],
            [
             0.7777777777777778,
             "#fb9f3a"
            ],
            [
             0.8888888888888888,
             "#fdca26"
            ],
            [
             1,
             "#f0f921"
            ]
           ],
           "sequentialminus": [
            [
             0,
             "#0d0887"
            ],
            [
             0.1111111111111111,
             "#46039f"
            ],
            [
             0.2222222222222222,
             "#7201a8"
            ],
            [
             0.3333333333333333,
             "#9c179e"
            ],
            [
             0.4444444444444444,
             "#bd3786"
            ],
            [
             0.5555555555555556,
             "#d8576b"
            ],
            [
             0.6666666666666666,
             "#ed7953"
            ],
            [
             0.7777777777777778,
             "#fb9f3a"
            ],
            [
             0.8888888888888888,
             "#fdca26"
            ],
            [
             1,
             "#f0f921"
            ]
           ]
          },
          "colorway": [
           "#636efa",
           "#EF553B",
           "#00cc96",
           "#ab63fa",
           "#FFA15A",
           "#19d3f3",
           "#FF6692",
           "#B6E880",
           "#FF97FF",
           "#FECB52"
          ],
          "font": {
           "color": "#2a3f5f"
          },
          "geo": {
           "bgcolor": "white",
           "lakecolor": "white",
           "landcolor": "#E5ECF6",
           "showlakes": true,
           "showland": true,
           "subunitcolor": "white"
          },
          "hoverlabel": {
           "align": "left"
          },
          "hovermode": "closest",
          "mapbox": {
           "style": "light"
          },
          "paper_bgcolor": "white",
          "plot_bgcolor": "#E5ECF6",
          "polar": {
           "angularaxis": {
            "gridcolor": "white",
            "linecolor": "white",
            "ticks": ""
           },
           "bgcolor": "#E5ECF6",
           "radialaxis": {
            "gridcolor": "white",
            "linecolor": "white",
            "ticks": ""
           }
          },
          "scene": {
           "xaxis": {
            "backgroundcolor": "#E5ECF6",
            "gridcolor": "white",
            "gridwidth": 2,
            "linecolor": "white",
            "showbackground": true,
            "ticks": "",
            "zerolinecolor": "white"
           },
           "yaxis": {
            "backgroundcolor": "#E5ECF6",
            "gridcolor": "white",
            "gridwidth": 2,
            "linecolor": "white",
            "showbackground": true,
            "ticks": "",
            "zerolinecolor": "white"
           },
           "zaxis": {
            "backgroundcolor": "#E5ECF6",
            "gridcolor": "white",
            "gridwidth": 2,
            "linecolor": "white",
            "showbackground": true,
            "ticks": "",
            "zerolinecolor": "white"
           }
          },
          "shapedefaults": {
           "line": {
            "color": "#2a3f5f"
           }
          },
          "ternary": {
           "aaxis": {
            "gridcolor": "white",
            "linecolor": "white",
            "ticks": ""
           },
           "baxis": {
            "gridcolor": "white",
            "linecolor": "white",
            "ticks": ""
           },
           "bgcolor": "#E5ECF6",
           "caxis": {
            "gridcolor": "white",
            "linecolor": "white",
            "ticks": ""
           }
          },
          "title": {
           "x": 0.05
          },
          "xaxis": {
           "automargin": true,
           "gridcolor": "white",
           "linecolor": "white",
           "ticks": "",
           "title": {
            "standoff": 15
           },
           "zerolinecolor": "white",
           "zerolinewidth": 2
          },
          "yaxis": {
           "automargin": true,
           "gridcolor": "white",
           "linecolor": "white",
           "ticks": "",
           "title": {
            "standoff": 15
           },
           "zerolinecolor": "white",
           "zerolinewidth": 2
          }
         }
        },
        "xaxis": {
         "anchor": "y",
         "domain": [
          0,
          1
         ],
         "title": {
          "text": "nb of attentional tokens"
         }
        },
        "yaxis": {
         "anchor": "x",
         "domain": [
          0,
          1
         ],
         "title": {
          "text": "Spearman correlation linguistics vs attentional"
         }
        }
       }
      }
     },
     "metadata": {},
     "output_type": "display_data"
    }
   ],
   "source": [
    "df = pd.DataFrame(l_spearmanr, columns=[\"length_attentional\", \"correlation\", \"pvalue\", \"size\"])\n",
    "df[\"has_significant_pvalue\"] = df[\"pvalue\"]<0.05\n",
    "px.scatter(df, x=\"length_attentional\"\n",
    "           , y=\"correlation\"\n",
    "           , color=\"has_significant_pvalue\"\n",
    "           , size=\"size\"\n",
    "           ,labels={\"length_attentional\":\"nb of attentional tokens\"\n",
    "                    , \"correlation\":\"Spearman correlation linguistics vs attentional\"})"
   ]
  },
  {
   "cell_type": "code",
   "execution_count": 16,
   "metadata": {},
   "outputs": [
    {
     "data": {
      "text/html": [
       "<div>\n",
       "<style scoped>\n",
       "    .dataframe tbody tr th:only-of-type {\n",
       "        vertical-align: middle;\n",
       "    }\n",
       "\n",
       "    .dataframe tbody tr th {\n",
       "        vertical-align: top;\n",
       "    }\n",
       "\n",
       "    .dataframe thead th {\n",
       "        text-align: right;\n",
       "    }\n",
       "</style>\n",
       "<table border=\"1\" class=\"dataframe\">\n",
       "  <thead>\n",
       "    <tr style=\"text-align: right;\">\n",
       "      <th></th>\n",
       "      <th>length_attentional</th>\n",
       "      <th>correlation</th>\n",
       "      <th>pvalue</th>\n",
       "      <th>size</th>\n",
       "      <th>has_significant_pvalue</th>\n",
       "    </tr>\n",
       "  </thead>\n",
       "  <tbody>\n",
       "    <tr>\n",
       "      <th>0</th>\n",
       "      <td>5</td>\n",
       "      <td>0.271434</td>\n",
       "      <td>2.615559e-06</td>\n",
       "      <td>291</td>\n",
       "      <td>True</td>\n",
       "    </tr>\n",
       "    <tr>\n",
       "      <th>1</th>\n",
       "      <td>6</td>\n",
       "      <td>0.312970</td>\n",
       "      <td>2.049646e-09</td>\n",
       "      <td>351</td>\n",
       "      <td>True</td>\n",
       "    </tr>\n",
       "    <tr>\n",
       "      <th>2</th>\n",
       "      <td>7</td>\n",
       "      <td>0.225614</td>\n",
       "      <td>2.680272e-05</td>\n",
       "      <td>340</td>\n",
       "      <td>True</td>\n",
       "    </tr>\n",
       "    <tr>\n",
       "      <th>3</th>\n",
       "      <td>8</td>\n",
       "      <td>0.231845</td>\n",
       "      <td>1.527832e-05</td>\n",
       "      <td>341</td>\n",
       "      <td>True</td>\n",
       "    </tr>\n",
       "    <tr>\n",
       "      <th>4</th>\n",
       "      <td>9</td>\n",
       "      <td>0.134380</td>\n",
       "      <td>1.080878e-02</td>\n",
       "      <td>359</td>\n",
       "      <td>True</td>\n",
       "    </tr>\n",
       "    <tr>\n",
       "      <th>5</th>\n",
       "      <td>10</td>\n",
       "      <td>0.164590</td>\n",
       "      <td>1.282505e-03</td>\n",
       "      <td>380</td>\n",
       "      <td>True</td>\n",
       "    </tr>\n",
       "    <tr>\n",
       "      <th>6</th>\n",
       "      <td>11</td>\n",
       "      <td>0.119302</td>\n",
       "      <td>1.466503e-02</td>\n",
       "      <td>418</td>\n",
       "      <td>True</td>\n",
       "    </tr>\n",
       "    <tr>\n",
       "      <th>7</th>\n",
       "      <td>12</td>\n",
       "      <td>-0.006273</td>\n",
       "      <td>9.007165e-01</td>\n",
       "      <td>398</td>\n",
       "      <td>False</td>\n",
       "    </tr>\n",
       "    <tr>\n",
       "      <th>8</th>\n",
       "      <td>13</td>\n",
       "      <td>0.072492</td>\n",
       "      <td>1.361593e-01</td>\n",
       "      <td>424</td>\n",
       "      <td>False</td>\n",
       "    </tr>\n",
       "    <tr>\n",
       "      <th>9</th>\n",
       "      <td>14</td>\n",
       "      <td>0.047493</td>\n",
       "      <td>3.610105e-01</td>\n",
       "      <td>372</td>\n",
       "      <td>False</td>\n",
       "    </tr>\n",
       "    <tr>\n",
       "      <th>10</th>\n",
       "      <td>15</td>\n",
       "      <td>0.092147</td>\n",
       "      <td>7.996720e-02</td>\n",
       "      <td>362</td>\n",
       "      <td>False</td>\n",
       "    </tr>\n",
       "    <tr>\n",
       "      <th>11</th>\n",
       "      <td>16</td>\n",
       "      <td>0.093964</td>\n",
       "      <td>5.980011e-02</td>\n",
       "      <td>402</td>\n",
       "      <td>False</td>\n",
       "    </tr>\n",
       "    <tr>\n",
       "      <th>12</th>\n",
       "      <td>17</td>\n",
       "      <td>0.083119</td>\n",
       "      <td>1.104475e-01</td>\n",
       "      <td>370</td>\n",
       "      <td>False</td>\n",
       "    </tr>\n",
       "    <tr>\n",
       "      <th>13</th>\n",
       "      <td>18</td>\n",
       "      <td>0.064133</td>\n",
       "      <td>2.293944e-01</td>\n",
       "      <td>353</td>\n",
       "      <td>False</td>\n",
       "    </tr>\n",
       "    <tr>\n",
       "      <th>14</th>\n",
       "      <td>19</td>\n",
       "      <td>0.046633</td>\n",
       "      <td>4.064993e-01</td>\n",
       "      <td>319</td>\n",
       "      <td>False</td>\n",
       "    </tr>\n",
       "    <tr>\n",
       "      <th>15</th>\n",
       "      <td>20</td>\n",
       "      <td>0.109658</td>\n",
       "      <td>4.687306e-02</td>\n",
       "      <td>329</td>\n",
       "      <td>True</td>\n",
       "    </tr>\n",
       "    <tr>\n",
       "      <th>16</th>\n",
       "      <td>21</td>\n",
       "      <td>0.017722</td>\n",
       "      <td>7.582735e-01</td>\n",
       "      <td>304</td>\n",
       "      <td>False</td>\n",
       "    </tr>\n",
       "    <tr>\n",
       "      <th>17</th>\n",
       "      <td>22</td>\n",
       "      <td>0.040304</td>\n",
       "      <td>4.845863e-01</td>\n",
       "      <td>303</td>\n",
       "      <td>False</td>\n",
       "    </tr>\n",
       "    <tr>\n",
       "      <th>18</th>\n",
       "      <td>23</td>\n",
       "      <td>0.056531</td>\n",
       "      <td>3.382506e-01</td>\n",
       "      <td>289</td>\n",
       "      <td>False</td>\n",
       "    </tr>\n",
       "    <tr>\n",
       "      <th>19</th>\n",
       "      <td>24</td>\n",
       "      <td>-0.024137</td>\n",
       "      <td>6.870431e-01</td>\n",
       "      <td>281</td>\n",
       "      <td>False</td>\n",
       "    </tr>\n",
       "    <tr>\n",
       "      <th>20</th>\n",
       "      <td>25</td>\n",
       "      <td>0.040341</td>\n",
       "      <td>5.238161e-01</td>\n",
       "      <td>252</td>\n",
       "      <td>False</td>\n",
       "    </tr>\n",
       "    <tr>\n",
       "      <th>21</th>\n",
       "      <td>26</td>\n",
       "      <td>0.000341</td>\n",
       "      <td>9.960302e-01</td>\n",
       "      <td>215</td>\n",
       "      <td>False</td>\n",
       "    </tr>\n",
       "    <tr>\n",
       "      <th>22</th>\n",
       "      <td>27</td>\n",
       "      <td>0.157919</td>\n",
       "      <td>2.869565e-02</td>\n",
       "      <td>192</td>\n",
       "      <td>True</td>\n",
       "    </tr>\n",
       "    <tr>\n",
       "      <th>23</th>\n",
       "      <td>28</td>\n",
       "      <td>0.013348</td>\n",
       "      <td>8.636526e-01</td>\n",
       "      <td>168</td>\n",
       "      <td>False</td>\n",
       "    </tr>\n",
       "    <tr>\n",
       "      <th>24</th>\n",
       "      <td>29</td>\n",
       "      <td>-0.017558</td>\n",
       "      <td>8.196954e-01</td>\n",
       "      <td>171</td>\n",
       "      <td>False</td>\n",
       "    </tr>\n",
       "    <tr>\n",
       "      <th>25</th>\n",
       "      <td>30</td>\n",
       "      <td>0.078264</td>\n",
       "      <td>3.314732e-01</td>\n",
       "      <td>156</td>\n",
       "      <td>False</td>\n",
       "    </tr>\n",
       "    <tr>\n",
       "      <th>26</th>\n",
       "      <td>31</td>\n",
       "      <td>0.010896</td>\n",
       "      <td>8.845712e-01</td>\n",
       "      <td>180</td>\n",
       "      <td>False</td>\n",
       "    </tr>\n",
       "    <tr>\n",
       "      <th>27</th>\n",
       "      <td>32</td>\n",
       "      <td>0.064487</td>\n",
       "      <td>4.625707e-01</td>\n",
       "      <td>132</td>\n",
       "      <td>False</td>\n",
       "    </tr>\n",
       "    <tr>\n",
       "      <th>28</th>\n",
       "      <td>33</td>\n",
       "      <td>-0.056608</td>\n",
       "      <td>5.426133e-01</td>\n",
       "      <td>118</td>\n",
       "      <td>False</td>\n",
       "    </tr>\n",
       "    <tr>\n",
       "      <th>29</th>\n",
       "      <td>34</td>\n",
       "      <td>0.072080</td>\n",
       "      <td>4.500988e-01</td>\n",
       "      <td>112</td>\n",
       "      <td>False</td>\n",
       "    </tr>\n",
       "    <tr>\n",
       "      <th>30</th>\n",
       "      <td>35</td>\n",
       "      <td>0.134739</td>\n",
       "      <td>1.813691e-01</td>\n",
       "      <td>100</td>\n",
       "      <td>False</td>\n",
       "    </tr>\n",
       "    <tr>\n",
       "      <th>31</th>\n",
       "      <td>36</td>\n",
       "      <td>-0.101405</td>\n",
       "      <td>3.707718e-01</td>\n",
       "      <td>80</td>\n",
       "      <td>False</td>\n",
       "    </tr>\n",
       "    <tr>\n",
       "      <th>32</th>\n",
       "      <td>37</td>\n",
       "      <td>-0.206826</td>\n",
       "      <td>7.110961e-02</td>\n",
       "      <td>77</td>\n",
       "      <td>False</td>\n",
       "    </tr>\n",
       "    <tr>\n",
       "      <th>33</th>\n",
       "      <td>38</td>\n",
       "      <td>-0.017401</td>\n",
       "      <td>8.729081e-01</td>\n",
       "      <td>87</td>\n",
       "      <td>False</td>\n",
       "    </tr>\n",
       "    <tr>\n",
       "      <th>34</th>\n",
       "      <td>39</td>\n",
       "      <td>-0.069034</td>\n",
       "      <td>5.377194e-01</td>\n",
       "      <td>82</td>\n",
       "      <td>False</td>\n",
       "    </tr>\n",
       "    <tr>\n",
       "      <th>35</th>\n",
       "      <td>40</td>\n",
       "      <td>0.059852</td>\n",
       "      <td>6.582996e-01</td>\n",
       "      <td>57</td>\n",
       "      <td>False</td>\n",
       "    </tr>\n",
       "    <tr>\n",
       "      <th>36</th>\n",
       "      <td>41</td>\n",
       "      <td>-0.165316</td>\n",
       "      <td>1.746261e-01</td>\n",
       "      <td>69</td>\n",
       "      <td>False</td>\n",
       "    </tr>\n",
       "    <tr>\n",
       "      <th>37</th>\n",
       "      <td>42</td>\n",
       "      <td>-0.069860</td>\n",
       "      <td>5.772643e-01</td>\n",
       "      <td>66</td>\n",
       "      <td>False</td>\n",
       "    </tr>\n",
       "    <tr>\n",
       "      <th>38</th>\n",
       "      <td>43</td>\n",
       "      <td>-0.128305</td>\n",
       "      <td>3.796259e-01</td>\n",
       "      <td>49</td>\n",
       "      <td>False</td>\n",
       "    </tr>\n",
       "    <tr>\n",
       "      <th>39</th>\n",
       "      <td>44</td>\n",
       "      <td>-0.135267</td>\n",
       "      <td>3.157469e-01</td>\n",
       "      <td>57</td>\n",
       "      <td>False</td>\n",
       "    </tr>\n",
       "    <tr>\n",
       "      <th>40</th>\n",
       "      <td>45</td>\n",
       "      <td>0.037722</td>\n",
       "      <td>8.125220e-01</td>\n",
       "      <td>42</td>\n",
       "      <td>False</td>\n",
       "    </tr>\n",
       "    <tr>\n",
       "      <th>41</th>\n",
       "      <td>46</td>\n",
       "      <td>0.054493</td>\n",
       "      <td>7.558696e-01</td>\n",
       "      <td>35</td>\n",
       "      <td>False</td>\n",
       "    </tr>\n",
       "    <tr>\n",
       "      <th>42</th>\n",
       "      <td>47</td>\n",
       "      <td>0.143856</td>\n",
       "      <td>3.758370e-01</td>\n",
       "      <td>40</td>\n",
       "      <td>False</td>\n",
       "    </tr>\n",
       "    <tr>\n",
       "      <th>43</th>\n",
       "      <td>48</td>\n",
       "      <td>-0.194571</td>\n",
       "      <td>2.942374e-01</td>\n",
       "      <td>31</td>\n",
       "      <td>False</td>\n",
       "    </tr>\n",
       "    <tr>\n",
       "      <th>44</th>\n",
       "      <td>49</td>\n",
       "      <td>-0.018475</td>\n",
       "      <td>9.228048e-01</td>\n",
       "      <td>30</td>\n",
       "      <td>False</td>\n",
       "    </tr>\n",
       "    <tr>\n",
       "      <th>45</th>\n",
       "      <td>50</td>\n",
       "      <td>-0.458208</td>\n",
       "      <td>1.420153e-02</td>\n",
       "      <td>28</td>\n",
       "      <td>True</td>\n",
       "    </tr>\n",
       "  </tbody>\n",
       "</table>\n",
       "</div>"
      ],
      "text/plain": [
       "    length_attentional  correlation        pvalue  size  \\\n",
       "0                    5     0.271434  2.615559e-06   291   \n",
       "1                    6     0.312970  2.049646e-09   351   \n",
       "2                    7     0.225614  2.680272e-05   340   \n",
       "3                    8     0.231845  1.527832e-05   341   \n",
       "4                    9     0.134380  1.080878e-02   359   \n",
       "5                   10     0.164590  1.282505e-03   380   \n",
       "6                   11     0.119302  1.466503e-02   418   \n",
       "7                   12    -0.006273  9.007165e-01   398   \n",
       "8                   13     0.072492  1.361593e-01   424   \n",
       "9                   14     0.047493  3.610105e-01   372   \n",
       "10                  15     0.092147  7.996720e-02   362   \n",
       "11                  16     0.093964  5.980011e-02   402   \n",
       "12                  17     0.083119  1.104475e-01   370   \n",
       "13                  18     0.064133  2.293944e-01   353   \n",
       "14                  19     0.046633  4.064993e-01   319   \n",
       "15                  20     0.109658  4.687306e-02   329   \n",
       "16                  21     0.017722  7.582735e-01   304   \n",
       "17                  22     0.040304  4.845863e-01   303   \n",
       "18                  23     0.056531  3.382506e-01   289   \n",
       "19                  24    -0.024137  6.870431e-01   281   \n",
       "20                  25     0.040341  5.238161e-01   252   \n",
       "21                  26     0.000341  9.960302e-01   215   \n",
       "22                  27     0.157919  2.869565e-02   192   \n",
       "23                  28     0.013348  8.636526e-01   168   \n",
       "24                  29    -0.017558  8.196954e-01   171   \n",
       "25                  30     0.078264  3.314732e-01   156   \n",
       "26                  31     0.010896  8.845712e-01   180   \n",
       "27                  32     0.064487  4.625707e-01   132   \n",
       "28                  33    -0.056608  5.426133e-01   118   \n",
       "29                  34     0.072080  4.500988e-01   112   \n",
       "30                  35     0.134739  1.813691e-01   100   \n",
       "31                  36    -0.101405  3.707718e-01    80   \n",
       "32                  37    -0.206826  7.110961e-02    77   \n",
       "33                  38    -0.017401  8.729081e-01    87   \n",
       "34                  39    -0.069034  5.377194e-01    82   \n",
       "35                  40     0.059852  6.582996e-01    57   \n",
       "36                  41    -0.165316  1.746261e-01    69   \n",
       "37                  42    -0.069860  5.772643e-01    66   \n",
       "38                  43    -0.128305  3.796259e-01    49   \n",
       "39                  44    -0.135267  3.157469e-01    57   \n",
       "40                  45     0.037722  8.125220e-01    42   \n",
       "41                  46     0.054493  7.558696e-01    35   \n",
       "42                  47     0.143856  3.758370e-01    40   \n",
       "43                  48    -0.194571  2.942374e-01    31   \n",
       "44                  49    -0.018475  9.228048e-01    30   \n",
       "45                  50    -0.458208  1.420153e-02    28   \n",
       "\n",
       "    has_significant_pvalue  \n",
       "0                     True  \n",
       "1                     True  \n",
       "2                     True  \n",
       "3                     True  \n",
       "4                     True  \n",
       "5                     True  \n",
       "6                     True  \n",
       "7                    False  \n",
       "8                    False  \n",
       "9                    False  \n",
       "10                   False  \n",
       "11                   False  \n",
       "12                   False  \n",
       "13                   False  \n",
       "14                   False  \n",
       "15                    True  \n",
       "16                   False  \n",
       "17                   False  \n",
       "18                   False  \n",
       "19                   False  \n",
       "20                   False  \n",
       "21                   False  \n",
       "22                    True  \n",
       "23                   False  \n",
       "24                   False  \n",
       "25                   False  \n",
       "26                   False  \n",
       "27                   False  \n",
       "28                   False  \n",
       "29                   False  \n",
       "30                   False  \n",
       "31                   False  \n",
       "32                   False  \n",
       "33                   False  \n",
       "34                   False  \n",
       "35                   False  \n",
       "36                   False  \n",
       "37                   False  \n",
       "38                   False  \n",
       "39                   False  \n",
       "40                   False  \n",
       "41                   False  \n",
       "42                   False  \n",
       "43                   False  \n",
       "44                   False  \n",
       "45                    True  "
      ]
     },
     "execution_count": 16,
     "metadata": {},
     "output_type": "execute_result"
    }
   ],
   "source": [
    "df"
   ]
  },
  {
   "cell_type": "markdown",
   "metadata": {},
   "source": [
    "# <>"
   ]
  }
 ],
 "metadata": {
  "kernelspec": {
   "display_name": "bertaphore",
   "language": "python",
   "name": "python3"
  },
  "language_info": {
   "codemirror_mode": {
    "name": "ipython",
    "version": 3
   },
   "file_extension": ".py",
   "mimetype": "text/x-python",
   "name": "python",
   "nbconvert_exporter": "python",
   "pygments_lexer": "ipython3",
   "version": "3.11.9"
  }
 },
 "nbformat": 4,
 "nbformat_minor": 2
}
