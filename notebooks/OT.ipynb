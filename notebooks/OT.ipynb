{
 "cells": [
  {
   "cell_type": "code",
   "execution_count": null,
   "id": "1897a827",
   "metadata": {},
   "outputs": [],
   "source": [
    "import torch\n",
    "from transformers import DistilBertForMaskedLM\n",
    "from transformers import DistilBertTokenizer\n",
    "from transformers import CamembertTokenizerFast, CamembertForMaskedLM\n",
    "import matplotlib.pyplot as plt\n",
    "import numpy as np\n",
    "import jax.numpy as jnp\n",
    "from sentence_transformers import SentenceTransformer\n",
    "import scipy\n",
    "from ott.geometry import pointcloud\n",
    "from ott.problems.linear import linear_problem\n",
    "from ott.solvers.linear import sinkhorn"
   ]
  },
  {
   "cell_type": "markdown",
   "id": "c3cf1ce3",
   "metadata": {},
   "source": [
    "## NLP"
   ]
  },
  {
   "cell_type": "markdown",
   "id": "c49114ab",
   "metadata": {},
   "source": [
    "### Independent Token Embedder"
   ]
  },
  {
   "cell_type": "code",
   "execution_count": null,
   "id": "aa087435",
   "metadata": {},
   "outputs": [],
   "source": [
    "# en\n",
    "model = DistilBertForMaskedLM.from_pretrained(\"distilbert-base-uncased\")\n",
    "tokenizer = DistilBertTokenizer.from_pretrained(\"distilbert-base-uncased\")\n",
    "embedding_layer = model.distilbert.embeddings.word_embeddings\n",
    "\n",
    "# fr\n",
    "# model = CamembertForMaskedLM.from_pretrained(\"camembert-base\")\n",
    "# tokenizer = CamembertTokenizerFast.from_pretrained(\"camembert-base\")"
   ]
  },
  {
   "cell_type": "markdown",
   "id": "3fa6efa9",
   "metadata": {},
   "source": [
    "### Sentence Embedder\n",
    "use: sentence-transformers/all-MiniLM-L6-v2"
   ]
  },
  {
   "cell_type": "code",
   "execution_count": null,
   "id": "56766265",
   "metadata": {},
   "outputs": [],
   "source": [
    "# sentences = [\"This is an example sentence\", \"Each sentence is converted\"]\n",
    "\n",
    "model_sequence = SentenceTransformer('sentence-transformers/all-MiniLM-L6-v2')\n",
    "# embeddings = model_sequence.encode(sentences)\n",
    "# print(embeddings)\n"
   ]
  },
  {
   "cell_type": "markdown",
   "id": "5055aea3",
   "metadata": {},
   "source": [
    "## Application"
   ]
  },
  {
   "cell_type": "code",
   "execution_count": null,
   "id": "6b6cd297",
   "metadata": {},
   "outputs": [],
   "source": [
    "text_x = \"Alice is my friend but she is often late.\"\n",
    "text_y = \"Alice is my late mother but she is often.\"\n",
    "# text_y = \"Alice is my friend but she is never on time.\"\n",
    "inputs_x = tokenizer(text_x, return_tensors=\"pt\")\n",
    "inputs_y = tokenizer(text_y, return_tensors=\"pt\")\n",
    "x = jnp.array(embedding_layer.weight[inputs_x['input_ids']].detach().cpu().numpy())[0]\n",
    "y = jnp.array(embedding_layer.weight[inputs_y['input_ids']].detach().cpu().numpy())[0]\n",
    "a, b = jnp.ones((x.shape[0],)) / x.shape[0], jnp.ones((y.shape[0],)) / y.shape[0]\n",
    "geom = pointcloud.PointCloud(x, y)\n",
    "prob = linear_problem.LinearProblem(geom, a, b)\n",
    "solver = sinkhorn.Sinkhorn()\n",
    "out = solver(prob)\n",
    "dist_sequence = scipy.spatial.distance.euclidean(*model_sequence.encode([text_x, text_y]))"
   ]
  },
  {
   "cell_type": "code",
   "execution_count": null,
   "id": "2cdf4007",
   "metadata": {},
   "outputs": [],
   "source": [
    "y_ticks = tokenizer.convert_ids_to_tokens(inputs_y['input_ids'][0])\n",
    "x_ticks = tokenizer.convert_ids_to_tokens(inputs_x['input_ids'][0])\n",
    "plt.figure(figsize=(10, 6))\n",
    "plt.imshow(out.matrix)\n",
    "plt.colorbar()\n",
    "plt.title(\"Optimal Coupling Matrix (Wasserstein Distance UB: {:.4f}, Embedding Distance: {:.4f})\".format(out.primal_cost, dist_sequence))\n",
    "plt.xticks(ticks=np.arange(len(y_ticks)), labels=y_ticks, rotation=90)\n",
    "plt.yticks(ticks=np.arange(len(x_ticks)), labels=x_ticks)\n",
    "plt.show()"
   ]
  },
  {
   "cell_type": "markdown",
   "id": "69720b56",
   "metadata": {},
   "source": [
    "# <>"
   ]
  }
 ],
 "metadata": {
  "kernelspec": {
   "display_name": "bertaphore",
   "language": "python",
   "name": "python3"
  },
  "language_info": {
   "codemirror_mode": {
    "name": "ipython",
    "version": 3
   },
   "file_extension": ".py",
   "mimetype": "text/x-python",
   "name": "python",
   "nbconvert_exporter": "python",
   "pygments_lexer": "ipython3",
   "version": "3.11.9"
  }
 },
 "nbformat": 4,
 "nbformat_minor": 5
}
